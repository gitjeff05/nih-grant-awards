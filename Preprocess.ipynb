{
 "cells": [
  {
   "cell_type": "code",
   "execution_count": 251,
   "metadata": {},
   "outputs": [
    {
     "data": {
      "text/plain": [
       "'en_US.UTF8'"
      ]
     },
     "execution_count": 251,
     "metadata": {},
     "output_type": "execute_result"
    }
   ],
   "source": [
    "%matplotlib inline\n",
    "import pandas as pd\n",
    "import numpy as np\n",
    "import seaborn as sns\n",
    "import matplotlib.pyplot as plt\n",
    "import matplotlib.ticker as mtick\n",
    "\n",
    "from sklearn.preprocessing import MinMaxScaler, RobustScaler, Normalizer, StandardScaler\n",
    "from sklearn.pipeline import Pipeline\n",
    "from sklearn.cluster import KMeans\n",
    "from sklearn.decomposition import PCA\n",
    "\n",
    "import os\n",
    "import conda\n",
    "\n",
    "import locale\n",
    "from datetime import datetime\n",
    "\n",
    "locale.setlocale(locale.LC_ALL, 'en_US.UTF8')"
   ]
  },
  {
   "cell_type": "code",
   "execution_count": 252,
   "metadata": {},
   "outputs": [],
   "source": [
    "pd.set_option('mode.chained_assignment','raise')\n",
    "pd.options.display.max_rows = 4000\n",
    "pd.options.display.max_columns = 4000"
   ]
  },
  {
   "cell_type": "markdown",
   "metadata": {},
   "source": [
    "# About NIH awards data\n",
    "\n",
    "NIH data was imported from [FY 2019 RePORTER Project Data](https://exporter.nih.gov/CSVs/final/RePORTER_PRJ_C_FY2019.zip) and the report listing page [exporter.nih.gov](https://exporter.nih.gov/ExPORTER_Catalog.aspx?sid=5&index=0). An [explanation of the fields](https://exporter.nih.gov/about.aspx) is helpful for analysis."
   ]
  },
  {
   "cell_type": "markdown",
   "metadata": {},
   "source": [
    "# Project structure\n",
    "\n",
    "```bash session\n",
    "├── NIH-awards.ipynb       # this jupyter notebook\n",
    "├── data\n",
    "│   ├── nih                # holds all exporter csv files\n",
    "│   └── zips               # us-zip-code-latitude-and-longitude.csv\n",
    "├── out\n",
    "│   ├── csv                # any csv output\n",
    "│   ├── json               # any json output\n",
    "│   └── models             # any saved models\n",
    "└── utils\n",
    "    ├── get_csvs           # script to download all the exporter csv files (requires curl)\n",
    "    └── reporter_files.txt # list of exporter files to get\n",
    "```"
   ]
  },
  {
   "cell_type": "markdown",
   "metadata": {},
   "source": [
    "# Import the data"
   ]
  },
  {
   "cell_type": "code",
   "execution_count": 253,
   "metadata": {},
   "outputs": [],
   "source": [
    "# Run the get_csvs utility to download files into the `data` from exporter.nih.gov\n",
    "# The file ./utils/reporter_files.txt contains a list of all files to get\n",
    "\n",
    "# date_downloaded = !date -Is\n",
    "# ! ./utils/get_csvs\n",
    "# date_downloaded"
   ]
  },
  {
   "cell_type": "code",
   "execution_count": 265,
   "metadata": {},
   "outputs": [
    {
     "data": {
      "text/plain": [
       "34"
      ]
     },
     "execution_count": 265,
     "metadata": {},
     "output_type": "execute_result"
    }
   ],
   "source": [
    "files = !find ./data/exporter/ -name \"*RePORTER_PRJ*\" -exec echo \"{}\" \\;\n",
    "files = list(set(files) - set(['./data/exporter/RePORTER_PRJ_C_FY2018.csv', './data/exporter/RePORTER_PRJ_C_FY2017.csv', './data/exporter/RePORTER_PRJ_C_FY2016.csv']))\n",
    "files.sort()\n",
    "len(files)"
   ]
  },
  {
   "cell_type": "code",
   "execution_count": 266,
   "metadata": {},
   "outputs": [],
   "source": [
    "all_cols = !head -n 1 './data/exporter/RePORTER_PRJ_C_FY2019.csv'\n",
    "all_cols = all_cols.s.split(',')"
   ]
  },
  {
   "cell_type": "code",
   "execution_count": 267,
   "metadata": {},
   "outputs": [],
   "source": [
    "# ignore these columns\n",
    "ignore = ['ARRA_FUNDED', 'FOA_NUMBER', 'ED_INST_TYPE', 'ORG_FIPS', 'ORG_DUNS', 'ORG_IPF_CODE', 'CFDA_CODE']"
   ]
  },
  {
   "cell_type": "code",
   "execution_count": 268,
   "metadata": {},
   "outputs": [],
   "source": [
    "cols = list(set(all_cols) - set(ignore))"
   ]
  },
  {
   "cell_type": "code",
   "execution_count": 316,
   "metadata": {},
   "outputs": [],
   "source": [
    "def create_dataframe(name):\n",
    "    '''\n",
    "    Return a DataFrame with an added column `fromfile` to denote\n",
    "    which file the data came from\n",
    "    '''\n",
    "    head, tail = os.path.split(name)\n",
    "    _df = pd.read_csv(name, dtype={ 'ORG_ZIPCODE': 'str'}, usecols=cols, parse_dates=[\"AWARD_NOTICE_DATE\",\"BUDGET_START\",\"BUDGET_END\"], encoding=\"ISO-8859-1\")\n",
    "    _df['fromfile'] = tail\n",
    "    return _df"
   ]
  },
  {
   "cell_type": "code",
   "execution_count": 317,
   "metadata": {},
   "outputs": [
    {
     "name": "stdout",
     "output_type": "stream",
     "text": [
      "CPU times: user 4.54 s, sys: 588 ms, total: 5.13 s\n",
      "Wall time: 6.72 s\n"
     ]
    },
    {
     "data": {
      "text/plain": [
       "['2020-05-26T18:50:21+00:00']"
      ]
     },
     "execution_count": 317,
     "metadata": {},
     "output_type": "execute_result"
    }
   ],
   "source": [
    "%%time\n",
    "date_imported = !date -Is\n",
    "v = [create_dataframe(name) for name in files]\n",
    "date_imported"
   ]
  },
  {
   "cell_type": "markdown",
   "metadata": {},
   "source": [
    "### Concat all DataFrames"
   ]
  },
  {
   "cell_type": "code",
   "execution_count": 402,
   "metadata": {},
   "outputs": [
    {
     "name": "stdout",
     "output_type": "stream",
     "text": [
      "CPU times: user 419 ms, sys: 2.86 ms, total: 422 ms\n",
      "Wall time: 430 ms\n"
     ]
    }
   ],
   "source": [
    "%%time\n",
    "df = pd.concat(v,ignore_index=True)"
   ]
  },
  {
   "cell_type": "markdown",
   "metadata": {},
   "source": [
    "### Convert types"
   ]
  },
  {
   "cell_type": "code",
   "execution_count": 403,
   "metadata": {},
   "outputs": [],
   "source": [
    "df[\"PROJECT_START\"] = pd.to_datetime(df[\"PROJECT_START\"], errors='coerce')\n",
    "df[\"PROJECT_END\"] = pd.to_datetime(df[\"PROJECT_END\"], errors='coerce')\n",
    "df[\"BUDGET_START\"] = pd.to_datetime(df[\"BUDGET_START\"], errors='coerce')\n",
    "df[\"BUDGET_END\"] = pd.to_datetime(df[\"BUDGET_END\"], errors='coerce')\n",
    "df['PROJECT_TERMS'] = df['PROJECT_TERMS'].astype(pd.StringDtype())\n",
    "df['PI_NAMEs'] = df['PI_NAMEs'].astype(pd.StringDtype())"
   ]
  },
  {
   "cell_type": "markdown",
   "metadata": {},
   "source": [
    "# Drop rows\n",
    "\n",
    "Some rows will not be very useful for analysis if they:\n",
    "\n",
    "- ~do not have associated start/end metrics~ Initially, we dropped these columns, under closer examination, their total costs were significant (over 6B). So, we will keep them, but will be unable to plot them in any time-series format.\n",
    "- do not have associated costs\n",
    "- are duplicates"
   ]
  },
  {
   "cell_type": "code",
   "execution_count": 404,
   "metadata": {},
   "outputs": [
    {
     "data": {
      "text/plain": [
       "109784"
      ]
     },
     "execution_count": 404,
     "metadata": {},
     "output_type": "execute_result"
    }
   ],
   "source": [
    "before = len(df)\n",
    "before"
   ]
  },
  {
   "cell_type": "code",
   "execution_count": 405,
   "metadata": {},
   "outputs": [],
   "source": [
    "# Keep only the rows with at least 2 non-NA values.\n",
    "# thresh = 2\n",
    "# df.dropna(subset=['AWARD_NOTICE_DATE', 'BUDGET_START', 'BUDGET_END'], thresh=thresh, how='all', inplace=True)"
   ]
  },
  {
   "cell_type": "code",
   "execution_count": 406,
   "metadata": {},
   "outputs": [],
   "source": [
    "# num_dropped = before - len(df)\n",
    "# dropped_pct = \"{:.3%}\".format(num_dropped / before)\n",
    "# display(HTML(f'<h3>Dropped {num_dropped} out of {before} rows or <strong>{dropped_pct}</strong></h3>'))"
   ]
  },
  {
   "cell_type": "code",
   "execution_count": 407,
   "metadata": {},
   "outputs": [],
   "source": [
    "# Keep only the rows with at least 1 non-NA values.\n",
    "thresh = 1\n",
    "df.dropna(subset=['DIRECT_COST_AMT', 'INDIRECT_COST_AMT', 'TOTAL_COST', 'TOTAL_COST_SUB_PROJECT'], thresh=thresh, how='all', inplace=True)"
   ]
  },
  {
   "cell_type": "code",
   "execution_count": 408,
   "metadata": {},
   "outputs": [
    {
     "data": {
      "text/plain": [
       "106685"
      ]
     },
     "execution_count": 408,
     "metadata": {},
     "output_type": "execute_result"
    }
   ],
   "source": [
    "len(df)"
   ]
  },
  {
   "cell_type": "code",
   "execution_count": 409,
   "metadata": {},
   "outputs": [
    {
     "data": {
      "text/html": [
       "<h3>Dropped 3099 out of 109784 rows or <strong>2.823%</strong></h3>"
      ],
      "text/plain": [
       "<IPython.core.display.HTML object>"
      ]
     },
     "metadata": {},
     "output_type": "display_data"
    }
   ],
   "source": [
    "num_dropped = before - len(df)\n",
    "dropped_pct = \"{:.3%}\".format(num_dropped / before)\n",
    "display(HTML(f'<h3>Dropped {num_dropped} out of {before} rows or <strong>{dropped_pct}</strong></h3>'))"
   ]
  },
  {
   "cell_type": "code",
   "execution_count": 410,
   "metadata": {},
   "outputs": [
    {
     "name": "stdout",
     "output_type": "stream",
     "text": [
      "Dropping 670 awards with duplicate application id\n"
     ]
    }
   ],
   "source": [
    "# Drop duplicate applications\n",
    "# Duplicate application ids typically have the same application type, dates and cost amounts\n",
    "\n",
    "print(f'Dropping {len(df.loc[df.duplicated(\"APPLICATION_ID\")])} awards with duplicate application id')\n",
    "df.drop_duplicates(subset=['APPLICATION_ID'], keep='last', inplace=True)"
   ]
  },
  {
   "cell_type": "code",
   "execution_count": 411,
   "metadata": {},
   "outputs": [],
   "source": [
    "from IPython.display import HTML"
   ]
  },
  {
   "cell_type": "code",
   "execution_count": 412,
   "metadata": {},
   "outputs": [
    {
     "data": {
      "text/html": [
       "<h3>Dropped 3769 out of 109784 rows or <strong>3.433%</strong></h3>"
      ],
      "text/plain": [
       "<IPython.core.display.HTML object>"
      ]
     },
     "metadata": {},
     "output_type": "display_data"
    }
   ],
   "source": [
    "num_dropped = before - len(df)\n",
    "dropped_pct = \"{:.3%}\".format(num_dropped / before)\n",
    "display(HTML(f'<h3>Dropped {num_dropped} out of {before} rows or <strong>{dropped_pct}</strong></h3>'))"
   ]
  },
  {
   "cell_type": "markdown",
   "metadata": {},
   "source": [
    "# Create a new dataframe limited to awards whose Administering Institute or Center is an NIH Agency and whose organization country is US.\n",
    "\n",
    "Since the vast majority of awards in this dataset are administered through NIH agencies to organizations whose office is located in the US, lets restrict our analysis to a subset. "
   ]
  },
  {
   "cell_type": "code",
   "execution_count": 413,
   "metadata": {},
   "outputs": [],
   "source": [
    "import pprint\n",
    "pp = pprint.PrettyPrinter(indent=4)"
   ]
  },
  {
   "cell_type": "code",
   "execution_count": 414,
   "metadata": {},
   "outputs": [],
   "source": [
    "nih_agencies = [{\"code\":\"AA\",\"name\":\"NIH National Institute on Alcohol Abuse and Alcoholism (NIAAA)\"},{\"code\":\"OD\",\"name\":\"Office of the Director, NIH\"},{\"code\":\"AG\",\"name\":\"NIH National Institute on Aging (NIA)\"},{\"code\":\"AI\",\"name\":\"NIH National Institute of Allergy and Infectious Diseases (NIAID)\"},{\"code\":\"AR\",\"name\":\"NIH National Institute of Arthritis and Musculoskeletal and Skin Diseases (NIAMS)\"},{\"code\":\"AT\",\"name\":\"NIH National Center for Complementary and Integrative Health (NCCIH)\"},{\"code\":\"CA\",\"name\":\"NIH National Cancer Institute (NCI)\"},{\"code\":\"DA\",\"name\":\"NIH National Institute on Drug Abuse (NIDA)\"},{\"code\":\"DC\",\"name\":\"NIH National Institute on Deafness and Other Communication Disorders (NIDCD)\"},{\"code\":\"DE\",\"name\":\"NIH National Institute of Dental & Craniofacial Research (NIDCR)\"},{\"code\":\"DK\",\"name\":\"NIH National Institute of Diabetes and Digestive and Kidney Diseases (NIDDK)\"},{\"code\":\"EB\",\"name\":\"NIH National Institute of Biomedical Imaging and Bioengineering (NIBIB)\"},{\"code\":\"ES\",\"name\":\"NIH National Institute of Environmental Health Sciences (NIEHS)\"},{\"code\":\"EY\",\"name\":\"NIH National Eye Institute (NEI)\"},{\"code\":\"GM\",\"name\":\"NIH National Institute of General Medical Sciences (NIGMS)\"},{\"code\":\"IHS\",\"name\":\"Indian Health Service\"},{\"code\":\"HD\",\"name\":\"NIH Eunice Kennedy Shriver National Institute of Child Health and Human Development (NICHD)\"},{\"code\":\"HG\",\"name\":\"NIH National Human Genome Research Institute (NHGRI)\"},{\"code\":\"HL\",\"name\":\"NIH National Heart, Lung and Blood Institute (NHLBI)\"},{\"code\":\"LM\",\"name\":\"NIH National Library of Medicine (NLM)\"},{\"code\":\"MD\",\"name\":\"NIH National Institute on Minority Health and Health Disparities (NIMHD)\"},{\"code\":\"MH\",\"name\":\"NIH National Institute of Mental Health (NIMH)\"},{\"code\":\"NR\",\"name\":\"NIH National Institute of Nursing Research (NINR)\"},{\"code\":\"NS\",\"name\":\"NIH National Institute of Neurological Disorders and Stroke (NINDS)\"},{\"code\":\"RM\",\"name\":\"NIH Roadmap\"},{\"code\":\"RR\",\"name\":\"National Center for Research Resources (NCRR) (dissolved 12/2011)\"},{\"code\":\"TR\",\"name\":\"NIH National Center for Advancing translational Sciences (NCATS)\"},{\"code\":\"TW\",\"name\":\"NIH Fogarty International Center (FIC)\"}]\n",
    "codes_list = [obj['code'] for obj in nih_agencies]\n",
    "is_nih = df['ADMINISTERING_IC'].isin(codes_list)\n",
    "is_us = df['ORG_COUNTRY'] == 'UNITED STATES'"
   ]
  },
  {
   "cell_type": "code",
   "execution_count": 415,
   "metadata": {},
   "outputs": [
    {
     "data": {
      "text/html": [
       "<h3>98.3% of awards list an NIH agency as `ADMINISTERING_IC`</h3>"
      ],
      "text/plain": [
       "<IPython.core.display.HTML object>"
      ]
     },
     "metadata": {},
     "output_type": "display_data"
    }
   ],
   "source": [
    "nih_awards_pct = \"{:.1%}\".format(len(df.loc[is_nih]) / len(df))\n",
    "display(HTML(f'<h3>{nih_awards_pct} of awards list an NIH agency as `ADMINISTERING_IC`</h3>'))"
   ]
  },
  {
   "cell_type": "code",
   "execution_count": 416,
   "metadata": {},
   "outputs": [
    {
     "data": {
      "text/html": [
       "<h3>96.2% of awards list the US as `ORG_COUNTRY`</h3><p>The NIH defines ORG_COUNTRY as <em>The country in which the business office of the grantee organization or contractor is located.  Note that this may be different from the research performance site</em>.<p>"
      ],
      "text/plain": [
       "<IPython.core.display.HTML object>"
      ]
     },
     "metadata": {},
     "output_type": "display_data"
    }
   ],
   "source": [
    "us_awards_pct = \"{:.1%}\".format(len(df.loc[is_us]) / len(df))\n",
    "display(HTML(f'<h3>{us_awards_pct} of awards list the US as `ORG_COUNTRY`</h3><p>The NIH defines ORG_COUNTRY as <em>The country in which the business office of the grantee organization or contractor is located.  Note that this may be different from the research performance site</em>.<p>'))"
   ]
  },
  {
   "cell_type": "code",
   "execution_count": 417,
   "metadata": {},
   "outputs": [],
   "source": [
    "df_us = df.loc[(is_nih) & (is_us)]"
   ]
  },
  {
   "cell_type": "code",
   "execution_count": 438,
   "metadata": {},
   "outputs": [
    {
     "data": {
      "text/plain": [
       "106015"
      ]
     },
     "execution_count": 438,
     "metadata": {},
     "output_type": "execute_result"
    }
   ],
   "source": [
    "len(df)"
   ]
  },
  {
   "cell_type": "code",
   "execution_count": 439,
   "metadata": {},
   "outputs": [
    {
     "data": {
      "text/plain": [
       "100175"
      ]
     },
     "execution_count": 439,
     "metadata": {},
     "output_type": "execute_result"
    }
   ],
   "source": [
    "len(df_us)"
   ]
  },
  {
   "cell_type": "markdown",
   "metadata": {},
   "source": [
    "# Clean up some badly formatted zip codes\n",
    "\n",
    "To properly map coordinates to zipcodes, zips must be in the correct format. The NIH dataset often has "
   ]
  },
  {
   "cell_type": "code",
   "execution_count": 418,
   "metadata": {},
   "outputs": [],
   "source": [
    "us_zips_non_dig = df_us['ORG_ZIPCODE'].str.contains('\\D', na=False, regex=True)"
   ]
  },
  {
   "cell_type": "code",
   "execution_count": 419,
   "metadata": {},
   "outputs": [],
   "source": [
    "df_us = df_us.copy()"
   ]
  },
  {
   "cell_type": "code",
   "execution_count": 420,
   "metadata": {},
   "outputs": [
    {
     "name": "stdout",
     "output_type": "stream",
     "text": [
      "<class 'pandas.core.frame.DataFrame'>\n",
      "Int64Index: 100175 entries, 0 to 109783\n",
      "Data columns (total 40 columns):\n",
      " #   Column                  Non-Null Count   Dtype         \n",
      "---  ------                  --------------   -----         \n",
      " 0   APPLICATION_ID          100175 non-null  int64         \n",
      " 1   ACTIVITY                100175 non-null  object        \n",
      " 2   ADMINISTERING_IC        100175 non-null  object        \n",
      " 3   APPLICATION_TYPE        98875 non-null   float64       \n",
      " 4   AWARD_NOTICE_DATE       98848 non-null   object        \n",
      " 5   BUDGET_START            98874 non-null   datetime64[ns]\n",
      " 6   BUDGET_END              98809 non-null   datetime64[ns]\n",
      " 7   CORE_PROJECT_NUM        98875 non-null   object        \n",
      " 8   FULL_PROJECT_NUM        100175 non-null  object        \n",
      " 9   FUNDING_ICs             100175 non-null  object        \n",
      " 10  FUNDING_MECHANISM       100175 non-null  object        \n",
      " 11  FY                      100175 non-null  int64         \n",
      " 12  IC_NAME                 100175 non-null  object        \n",
      " 13  NIH_SPENDING_CATS       8 non-null       object        \n",
      " 14  ORG_CITY                100175 non-null  object        \n",
      " 15  ORG_COUNTRY             100175 non-null  object        \n",
      " 16  ORG_DEPT                65065 non-null   object        \n",
      " 17  ORG_DISTRICT            100126 non-null  float64       \n",
      " 18  ORG_NAME                100127 non-null  object        \n",
      " 19  ORG_STATE               100175 non-null  object        \n",
      " 20  ORG_ZIPCODE             100175 non-null  object        \n",
      " 21  PHR                     87462 non-null   object        \n",
      " 22  PI_IDS                  100175 non-null  object        \n",
      " 23  PI_NAMEs                100175 non-null  string        \n",
      " 24  PROGRAM_OFFICER_NAME    85179 non-null   object        \n",
      " 25  PROJECT_START           84970 non-null   datetime64[ns]\n",
      " 26  PROJECT_END             85111 non-null   datetime64[ns]\n",
      " 27  PROJECT_TERMS           99607 non-null   string        \n",
      " 28  PROJECT_TITLE           100175 non-null  object        \n",
      " 29  SERIAL_NUMBER           98875 non-null   float64       \n",
      " 30  STUDY_SECTION           97389 non-null   object        \n",
      " 31  STUDY_SECTION_NAME      97389 non-null   object        \n",
      " 32  SUBPROJECT_ID           15860 non-null   float64       \n",
      " 33  SUFFIX                  15154 non-null   object        \n",
      " 34  SUPPORT_YEAR            98875 non-null   float64       \n",
      " 35  DIRECT_COST_AMT         96017 non-null   float64       \n",
      " 36  INDIRECT_COST_AMT       88824 non-null   float64       \n",
      " 37  TOTAL_COST              84315 non-null   float64       \n",
      " 38  TOTAL_COST_SUB_PROJECT  15860 non-null   float64       \n",
      " 39  fromfile                100175 non-null  object        \n",
      "dtypes: datetime64[ns](4), float64(9), int64(2), object(23), string(2)\n",
      "memory usage: 31.3+ MB\n"
     ]
    }
   ],
   "source": [
    "df_us.info()"
   ]
  },
  {
   "cell_type": "code",
   "execution_count": 421,
   "metadata": {},
   "outputs": [],
   "source": [
    "df_us.loc[df_us['APPLICATION_ID'].isin(['9125677', '8837925', '9330009', '9837979', '9543896', '9994542']), 'ORG_ZIPCODE'] = '49418'\n",
    "df_us.loc[df_us['APPLICATION_ID'].isin(['9686592', '9765856', '9806287', '9724114', '10044151', '10044353', '9916136', '9980531']), 'ORG_ZIPCODE'] = '98052'\n",
    "df_us.loc[df_us['APPLICATION_ID'].isin(['9677029', '9804996', '9929994', '10055828']), 'ORG_ZIPCODE'] = '20170'\n",
    "df_us.loc[df_us['APPLICATION_ID'].isin(['9805650', '10030922']), 'ORG_ZIPCODE'] = '80303'\n",
    "df_us.loc[df_us['APPLICATION_ID'].isin(['9810864']), 'ORG_ZIPCODE'] = '21228'"
   ]
  },
  {
   "cell_type": "code",
   "execution_count": 422,
   "metadata": {},
   "outputs": [
    {
     "data": {
      "text/plain": [
       "True"
      ]
     },
     "execution_count": 422,
     "metadata": {},
     "output_type": "execute_result"
    }
   ],
   "source": [
    "len(df_us.loc[(df_us['ORG_ZIPCODE'].str.contains('\\D', na=False, regex=True)) & (df_us['ORG_COUNTRY'] == 'UNITED STATES')]) == 0"
   ]
  },
  {
   "cell_type": "markdown",
   "metadata": {},
   "source": [
    "### Zip code leading zeroes should be in place\n",
    "\n",
    "Pad zeros on zips < 5 and > 9 and just take the first 5 chars"
   ]
  },
  {
   "cell_type": "code",
   "execution_count": 423,
   "metadata": {},
   "outputs": [
    {
     "name": "stdout",
     "output_type": "stream",
     "text": [
      "DataFrame contained 75 rows with zipcodes < 5 digits\n"
     ]
    },
    {
     "data": {
      "text/plain": [
       "True"
      ]
     },
     "execution_count": 423,
     "metadata": {},
     "output_type": "execute_result"
    }
   ],
   "source": [
    "is_len_less_five = df_us['ORG_ZIPCODE'].str.len() < 5\n",
    "print(f'DataFrame contained {len(df_us.loc[is_len_less_five])} rows with zipcodes < 5 digits')\n",
    "df_us.loc[is_len_less_five, 'ORG_ZIPCODE'] = [s.rjust(5, '0')[:5] for idx, s in df_us.loc[is_len_less_five, 'ORG_ZIPCODE'].items()]\n",
    "is_len_less_five = df_us['ORG_ZIPCODE'].str.len() < 5\n",
    "df_us.loc[is_len_less_five].size == 0"
   ]
  },
  {
   "cell_type": "code",
   "execution_count": 424,
   "metadata": {},
   "outputs": [
    {
     "name": "stdout",
     "output_type": "stream",
     "text": [
      "DataFrame contained 10199 rows with zipcodes > 5 and < 9 digits\n"
     ]
    },
    {
     "data": {
      "text/plain": [
       "True"
      ]
     },
     "execution_count": 424,
     "metadata": {},
     "output_type": "execute_result"
    }
   ],
   "source": [
    "is_len_gt_five = df_us['ORG_ZIPCODE'].str.len() > 5\n",
    "is_len_lt_nine = df_us['ORG_ZIPCODE'].str.len() < 9\n",
    "print(f'DataFrame contained {len(df_us.loc[is_len_gt_five & is_len_lt_nine])} rows with zipcodes > 5 and < 9 digits')\n",
    "df_us.loc[(is_len_gt_five), 'ORG_ZIPCODE'] = [s.rjust(9, '0')[:5] for idx, s in df_us.loc[(is_len_gt_five), 'ORG_ZIPCODE'].items()]\n",
    "is_len_gt_five = df_us['ORG_ZIPCODE'].str.len() > 5\n",
    "df_us.loc[(is_len_gt_five)].size == 0"
   ]
  },
  {
   "cell_type": "markdown",
   "metadata": {},
   "source": [
    "## Import ZIP to GEO data\n",
    "\n",
    "The \"[US Zip Code Latitude and Longitude](https://public.opendatasoft.com/explore/dataset/us-zip-code-latitude-and-longitude/information/)\" by [CivicSpace Labs]() is licensed under [Creative Commons Attribution-ShareAlike](https://creativecommons.org/licenses/by-sa/2.0/). Copyright 2004 CivicSpace Labs."
   ]
  },
  {
   "cell_type": "code",
   "execution_count": 425,
   "metadata": {},
   "outputs": [
    {
     "name": "stdout",
     "output_type": "stream",
     "text": [
      "CPU times: user 513 ms, sys: 89.9 ms, total: 602 ms\n",
      "Wall time: 674 ms\n"
     ]
    },
    {
     "data": {
      "text/plain": [
       "['2020-05-26T19:18:19+00:00']"
      ]
     },
     "execution_count": 425,
     "metadata": {},
     "output_type": "execute_result"
    }
   ],
   "source": [
    "%%time\n",
    "date_zip_imported = !date -Is\n",
    "us_zip_code_latitude_and_longitude = './data/zips/us-zip-code-latitude-and-longitude.csv'\n",
    "column_names=[\"Zip\",\"City\",\"State\",\"Latitude\",\"Longitude\",\"Timezone\",\"Daylight savings time flag\",\"geopoint\"]\n",
    "zip_to_latlong = pd.read_csv(us_zip_code_latitude_and_longitude, sep=';', dtype={'Zip': 'str'}, header=0, names=column_names, encoding=\"ISO-8859-1\")\n",
    "date_zip_imported"
   ]
  },
  {
   "cell_type": "markdown",
   "metadata": {},
   "source": [
    "### Add some missing values to `zip_to_latlong`\n",
    "\n",
    "We can eventually just save this to an updated file"
   ]
  },
  {
   "cell_type": "code",
   "execution_count": 426,
   "metadata": {},
   "outputs": [],
   "source": [
    "zip_cols = zip_to_latlong.columns\n",
    "listOfSeries = [pd.Series(['94158', None, None, 37.77244949, -122.39166260, None, None, None], index=zip_cols),\n",
    "                pd.Series(['92617', None, None, 33.63830185, -117.84275055, None, None, None], index=zip_cols),\n",
    "                pd.Series(['10065', None, None, 40.76429569, -73.96246150, None, None, None], index=zip_cols),\n",
    "                pd.Series(['18902', None, None, 40.37361908, -75.06803894, None, None, None], index=zip_cols),\n",
    "                pd.Series(['62712', None, None, 39.759095, -89.581855, None, None, None], index=zip_cols),\n",
    "                pd.Series(['27268', None, None, 35.971691, -79.995012, None, None, None], index=zip_cols),\n",
    "                pd.Series(['95757', None, None, 38.388294, -121.438706, None, None, None], index=zip_cols),\n",
    "                pd.Series(['92011', None, None, 33.104738, -117.294838, None, None, None], index=zip_cols),\n",
    "                pd.Series(['28035', None, None, 35.500264, -80.844537, None, None, None], index=zip_cols),\n",
    "                pd.Series(['48193', None, None, 42.176885, -83.176072, None, None, None], index=zip_cols),\n",
    "                pd.Series(['60491', None, None, 41.608073, -87.964632, None, None, None], index=zip_cols),\n",
    "                pd.Series(['85142', None, None, 33.197122, -111.638108, None, None, None], index=zip_cols),\n",
    "                pd.Series(['85209', None, None, 33.396080, -111.650097, None, None, None], index=zip_cols),\n",
    "                pd.Series(['85755', None, None, 32.463827, -110.982601, None, None, None], index=zip_cols),\n",
    "                pd.Series(['60642', None, None, 41.899644, -87.657551, None, None, None], index=zip_cols),\n",
    "                pd.Series(['80113', None, None, 39.652369, -104.976232, None, None, None], index=zip_cols),\n",
    "                pd.Series(['62711', None, None, 39.792576, -89.662249, None, None, None], index=zip_cols),\n",
    "                pd.Series(['92010', None, None, 33.160609, -117.293587, None, None, None], index=zip_cols),\n",
    "                pd.Series(['84096', None, None, 40.473425, -112.069600, None, None, None], index=zip_cols),\n",
    "                pd.Series(['96913', None, None, 13.4686, 144.7989, None, None, None], index=zip_cols)]"
   ]
  },
  {
   "cell_type": "code",
   "execution_count": 427,
   "metadata": {},
   "outputs": [],
   "source": [
    "zip_df = zip_to_latlong.append(listOfSeries, ignore_index=True)"
   ]
  },
  {
   "cell_type": "code",
   "execution_count": 428,
   "metadata": {},
   "outputs": [],
   "source": [
    "df_us = df_us.join(zip_df.loc[:, ['Zip', 'Latitude', 'Longitude']].set_index('Zip'), on='ORG_ZIPCODE')"
   ]
  },
  {
   "cell_type": "code",
   "execution_count": 429,
   "metadata": {},
   "outputs": [
    {
     "data": {
      "text/plain": [
       "True"
      ]
     },
     "execution_count": 429,
     "metadata": {},
     "output_type": "execute_result"
    }
   ],
   "source": [
    "len(df_us.loc[(pd.isna(df_us['Latitude'])) & (pd.isna(df_us['ORG_ZIPCODE'])), ['ORG_ZIPCODE', 'APPLICATION_ID']]) < 10"
   ]
  },
  {
   "cell_type": "markdown",
   "metadata": {},
   "source": [
    "### Fix some mispellings of cities"
   ]
  },
  {
   "cell_type": "code",
   "execution_count": 430,
   "metadata": {},
   "outputs": [],
   "source": [
    "df_us.loc[df_us['ORG_CITY'] == 'san  francisco', 'ORG_CITY'] = 'san francisco'\n",
    "df_us.loc[df_us['ORG_CITY'] == 'winston salem', 'ORG_CITY'] = 'winston-salem'\n",
    "df_us.loc[df_us['ORG_CITY'] == 'st. louis', 'ORG_CITY'] = 'saint louis'\n",
    "df_us.loc[df_us['ORG_CITY'] == 'st. paul', 'ORG_CITY'] = 'saint paul'\n",
    "df_us.loc[df_us['ORG_CITY'] == 'res triangle', 'ORG_CITY'] = 'research triangle park'"
   ]
  },
  {
   "cell_type": "markdown",
   "metadata": {},
   "source": [
    "# Export Data"
   ]
  },
  {
   "cell_type": "code",
   "execution_count": 431,
   "metadata": {},
   "outputs": [
    {
     "name": "stdout",
     "output_type": "stream",
     "text": [
      "CPU times: user 32.8 s, sys: 552 ms, total: 33.3 s\n",
      "Wall time: 35.7 s\n"
     ]
    }
   ],
   "source": [
    "%%time\n",
    "date_exported = !date -Is\n",
    "OUT = f'./out/csv/post_processed_{date_exported[0]}.csv.gzip'\n",
    "df_us.to_csv(OUT, index=False, compression='gzip')"
   ]
  },
  {
   "cell_type": "code",
   "execution_count": 432,
   "metadata": {},
   "outputs": [
    {
     "data": {
      "text/html": [
       "<div>\n",
       "<style scoped>\n",
       "    .dataframe tbody tr th:only-of-type {\n",
       "        vertical-align: middle;\n",
       "    }\n",
       "\n",
       "    .dataframe tbody tr th {\n",
       "        vertical-align: top;\n",
       "    }\n",
       "\n",
       "    .dataframe thead th {\n",
       "        text-align: right;\n",
       "    }\n",
       "</style>\n",
       "<table border=\"1\" class=\"dataframe\">\n",
       "  <thead>\n",
       "    <tr style=\"text-align: right;\">\n",
       "      <th></th>\n",
       "      <th>APPLICATION_ID</th>\n",
       "      <th>ACTIVITY</th>\n",
       "      <th>ADMINISTERING_IC</th>\n",
       "      <th>APPLICATION_TYPE</th>\n",
       "      <th>AWARD_NOTICE_DATE</th>\n",
       "      <th>BUDGET_START</th>\n",
       "      <th>BUDGET_END</th>\n",
       "      <th>CORE_PROJECT_NUM</th>\n",
       "      <th>FULL_PROJECT_NUM</th>\n",
       "      <th>FUNDING_ICs</th>\n",
       "      <th>FUNDING_MECHANISM</th>\n",
       "      <th>FY</th>\n",
       "      <th>IC_NAME</th>\n",
       "      <th>NIH_SPENDING_CATS</th>\n",
       "      <th>ORG_CITY</th>\n",
       "      <th>ORG_COUNTRY</th>\n",
       "      <th>ORG_DEPT</th>\n",
       "      <th>ORG_DISTRICT</th>\n",
       "      <th>ORG_NAME</th>\n",
       "      <th>ORG_STATE</th>\n",
       "      <th>ORG_ZIPCODE</th>\n",
       "      <th>PHR</th>\n",
       "      <th>PI_IDS</th>\n",
       "      <th>PI_NAMEs</th>\n",
       "      <th>PROGRAM_OFFICER_NAME</th>\n",
       "      <th>PROJECT_START</th>\n",
       "      <th>PROJECT_END</th>\n",
       "      <th>PROJECT_TERMS</th>\n",
       "      <th>PROJECT_TITLE</th>\n",
       "      <th>SERIAL_NUMBER</th>\n",
       "      <th>STUDY_SECTION</th>\n",
       "      <th>STUDY_SECTION_NAME</th>\n",
       "      <th>SUBPROJECT_ID</th>\n",
       "      <th>SUFFIX</th>\n",
       "      <th>SUPPORT_YEAR</th>\n",
       "      <th>DIRECT_COST_AMT</th>\n",
       "      <th>INDIRECT_COST_AMT</th>\n",
       "      <th>TOTAL_COST</th>\n",
       "      <th>TOTAL_COST_SUB_PROJECT</th>\n",
       "      <th>fromfile</th>\n",
       "      <th>Latitude</th>\n",
       "      <th>Longitude</th>\n",
       "    </tr>\n",
       "  </thead>\n",
       "  <tbody>\n",
       "    <tr>\n",
       "      <th>0</th>\n",
       "      <td>9787536</td>\n",
       "      <td>R01</td>\n",
       "      <td>GM</td>\n",
       "      <td>5.0</td>\n",
       "      <td>8/30/2019</td>\n",
       "      <td>2019-09-01</td>\n",
       "      <td>2020-08-31</td>\n",
       "      <td>R01GM127366</td>\n",
       "      <td>5R01GM127366-02</td>\n",
       "      <td>NIGMS:302774\\</td>\n",
       "      <td>Non-SBIR/STTR RPGs</td>\n",
       "      <td>2019</td>\n",
       "      <td>NATIONAL INSTITUTE OF GENERAL MEDICAL SCIENCES</td>\n",
       "      <td>NaN</td>\n",
       "      <td>CHICAGO</td>\n",
       "      <td>UNITED STATES</td>\n",
       "      <td>BIOLOGY</td>\n",
       "      <td>1.0</td>\n",
       "      <td>UNIVERSITY OF CHICAGO</td>\n",
       "      <td>IL</td>\n",
       "      <td>60637</td>\n",
       "      <td>NARRATIVE (Public Relevance Statement) This pr...</td>\n",
       "      <td>7601785;</td>\n",
       "      <td>SCHMIDT-OTT, URS C;</td>\n",
       "      <td>HOODBHOY, TANYA</td>\n",
       "      <td>2018-09-18</td>\n",
       "      <td>2020-08-31</td>\n",
       "      <td>Affect; Animal Model; Animals; Anterior; Bindi...</td>\n",
       "      <td>Genetic variation and function of body axis de...</td>\n",
       "      <td>127366.0</td>\n",
       "      <td>DEV2</td>\n",
       "      <td>Development - 2 Study Section</td>\n",
       "      <td>NaN</td>\n",
       "      <td>NaN</td>\n",
       "      <td>2.0</td>\n",
       "      <td>190000.0</td>\n",
       "      <td>112774.0</td>\n",
       "      <td>302774.0</td>\n",
       "      <td>NaN</td>\n",
       "      <td>RePORTER_PRJ_C_FY2019.csv</td>\n",
       "      <td>41.779384</td>\n",
       "      <td>-87.605440</td>\n",
       "    </tr>\n",
       "    <tr>\n",
       "      <th>1</th>\n",
       "      <td>9712520</td>\n",
       "      <td>R21</td>\n",
       "      <td>MH</td>\n",
       "      <td>1.0</td>\n",
       "      <td>4/1/2019</td>\n",
       "      <td>2019-04-01</td>\n",
       "      <td>2020-02-29</td>\n",
       "      <td>R21MH119253</td>\n",
       "      <td>1R21MH119253-01</td>\n",
       "      <td>NIMH:195625\\</td>\n",
       "      <td>Non-SBIR/STTR RPGs</td>\n",
       "      <td>2019</td>\n",
       "      <td>NATIONAL INSTITUTE OF MENTAL HEALTH</td>\n",
       "      <td>NaN</td>\n",
       "      <td>AUSTIN</td>\n",
       "      <td>UNITED STATES</td>\n",
       "      <td>PSYCHOLOGY</td>\n",
       "      <td>10.0</td>\n",
       "      <td>UNIVERSITY OF TEXAS, AUSTIN</td>\n",
       "      <td>TX</td>\n",
       "      <td>78759</td>\n",
       "      <td>Public Health Relevance Temporally controlled ...</td>\n",
       "      <td>7031347;</td>\n",
       "      <td>MORIKAWA, HITOSHI ;</td>\n",
       "      <td>NADLER, LAURIE S</td>\n",
       "      <td>2019-04-01</td>\n",
       "      <td>2021-02-28</td>\n",
       "      <td>Action Potentials; addiction; Address; ADORA2A...</td>\n",
       "      <td>Dopamine Timing-Dependent Plasticity in Reward...</td>\n",
       "      <td>119253.0</td>\n",
       "      <td>LAM</td>\n",
       "      <td>Neurobiology of Learning and Memory Study Sect...</td>\n",
       "      <td>NaN</td>\n",
       "      <td>NaN</td>\n",
       "      <td>1.0</td>\n",
       "      <td>125000.0</td>\n",
       "      <td>70625.0</td>\n",
       "      <td>195625.0</td>\n",
       "      <td>NaN</td>\n",
       "      <td>RePORTER_PRJ_C_FY2019.csv</td>\n",
       "      <td>30.406169</td>\n",
       "      <td>-97.757430</td>\n",
       "    </tr>\n",
       "    <tr>\n",
       "      <th>2</th>\n",
       "      <td>9571523</td>\n",
       "      <td>T32</td>\n",
       "      <td>GM</td>\n",
       "      <td>2.0</td>\n",
       "      <td>6/14/2019</td>\n",
       "      <td>2019-07-01</td>\n",
       "      <td>2020-06-30</td>\n",
       "      <td>T32GM008268</td>\n",
       "      <td>2T32GM008268-31</td>\n",
       "      <td>NIGMS:426323\\</td>\n",
       "      <td>TRAINING, INSTITUTIONAL</td>\n",
       "      <td>2019</td>\n",
       "      <td>NATIONAL INSTITUTE OF GENERAL MEDICAL SCIENCES</td>\n",
       "      <td>NaN</td>\n",
       "      <td>SEATTLE</td>\n",
       "      <td>UNITED STATES</td>\n",
       "      <td>BIOCHEMISTRY</td>\n",
       "      <td>7.0</td>\n",
       "      <td>UNIVERSITY OF WASHINGTON</td>\n",
       "      <td>WA</td>\n",
       "      <td>98195</td>\n",
       "      <td>Project Narrative  The Molecular Biophysics Tr...</td>\n",
       "      <td>1879130; 7744794 (contact);</td>\n",
       "      <td>KLEVIT, RACHEL E; ZHENG, NING  (contact);</td>\n",
       "      <td>FLICKER, PAULA F</td>\n",
       "      <td>1988-09-30</td>\n",
       "      <td>2024-06-30</td>\n",
       "      <td>Biophysics; Molecular; Training Programs;</td>\n",
       "      <td>Molecular Biophysics Training Program</td>\n",
       "      <td>8268.0</td>\n",
       "      <td>TWD</td>\n",
       "      <td>NIGMS Initial Review Group</td>\n",
       "      <td>NaN</td>\n",
       "      <td>NaN</td>\n",
       "      <td>31.0</td>\n",
       "      <td>402870.0</td>\n",
       "      <td>23453.0</td>\n",
       "      <td>426323.0</td>\n",
       "      <td>NaN</td>\n",
       "      <td>RePORTER_PRJ_C_FY2019.csv</td>\n",
       "      <td>47.432251</td>\n",
       "      <td>-121.803388</td>\n",
       "    </tr>\n",
       "    <tr>\n",
       "      <th>4</th>\n",
       "      <td>9790251</td>\n",
       "      <td>R01</td>\n",
       "      <td>GM</td>\n",
       "      <td>1.0</td>\n",
       "      <td>8/30/2019</td>\n",
       "      <td>2019-09-01</td>\n",
       "      <td>2020-08-31</td>\n",
       "      <td>R01GM136654</td>\n",
       "      <td>1R01GM136654-01</td>\n",
       "      <td>OD:666743\\</td>\n",
       "      <td>Non-SBIR/STTR RPGs</td>\n",
       "      <td>2019</td>\n",
       "      <td>NATIONAL INSTITUTE OF GENERAL MEDICAL SCIENCES</td>\n",
       "      <td>NaN</td>\n",
       "      <td>NEW YORK</td>\n",
       "      <td>UNITED STATES</td>\n",
       "      <td>INTERNAL MEDICINE/MEDICINE</td>\n",
       "      <td>12.0</td>\n",
       "      <td>ROCKEFELLER UNIVERSITY</td>\n",
       "      <td>NY</td>\n",
       "      <td>10065</td>\n",
       "      <td>Narrative The proposal will develop a new tech...</td>\n",
       "      <td>1862554;</td>\n",
       "      <td>CHAIT, BRIAN T;</td>\n",
       "      <td>SMITH, WARD</td>\n",
       "      <td>2019-09-01</td>\n",
       "      <td>2024-08-31</td>\n",
       "      <td>Address; applied biomedical research; Area; at...</td>\n",
       "      <td>Development of Next Generation Mass Spectromet...</td>\n",
       "      <td>136654.0</td>\n",
       "      <td>ZRG1</td>\n",
       "      <td>Special Emphasis Panel</td>\n",
       "      <td>NaN</td>\n",
       "      <td>NaN</td>\n",
       "      <td>1.0</td>\n",
       "      <td>395819.0</td>\n",
       "      <td>270924.0</td>\n",
       "      <td>666743.0</td>\n",
       "      <td>NaN</td>\n",
       "      <td>RePORTER_PRJ_C_FY2019.csv</td>\n",
       "      <td>40.764296</td>\n",
       "      <td>-73.962462</td>\n",
       "    </tr>\n",
       "    <tr>\n",
       "      <th>5</th>\n",
       "      <td>9787544</td>\n",
       "      <td>U01</td>\n",
       "      <td>HG</td>\n",
       "      <td>5.0</td>\n",
       "      <td>7/23/2019</td>\n",
       "      <td>2019-07-01</td>\n",
       "      <td>2020-06-30</td>\n",
       "      <td>U01HG010248</td>\n",
       "      <td>5U01HG010248-02</td>\n",
       "      <td>NHGRI:322003\\</td>\n",
       "      <td>Non-SBIR/STTR RPGs</td>\n",
       "      <td>2019</td>\n",
       "      <td>NATIONAL HUMAN GENOME RESEARCH INSTITUTE</td>\n",
       "      <td>NaN</td>\n",
       "      <td>NEW YORK</td>\n",
       "      <td>UNITED STATES</td>\n",
       "      <td>INTERNAL MEDICINE/MEDICINE</td>\n",
       "      <td>13.0</td>\n",
       "      <td>ICAHN SCHOOL OF MEDICINE AT MOUNT SINAI</td>\n",
       "      <td>NY</td>\n",
       "      <td>10029</td>\n",
       "      <td>Our stakeholder-engaged team is experienced in...</td>\n",
       "      <td>6724273;</td>\n",
       "      <td>HOROWITZ, CAROL R.;</td>\n",
       "      <td>VOLPI, SIMONA</td>\n",
       "      <td>2018-09-18</td>\n",
       "      <td>2023-06-30</td>\n",
       "      <td>Address; Adult; Advocate; Affect; African; APO...</td>\n",
       "      <td>GeNYC: Genomic Implementation Research in the ...</td>\n",
       "      <td>10248.0</td>\n",
       "      <td>ZHG1</td>\n",
       "      <td>Special Emphasis Panel</td>\n",
       "      <td>NaN</td>\n",
       "      <td>NaN</td>\n",
       "      <td>2.0</td>\n",
       "      <td>205982.0</td>\n",
       "      <td>116021.0</td>\n",
       "      <td>322003.0</td>\n",
       "      <td>NaN</td>\n",
       "      <td>RePORTER_PRJ_C_FY2019.csv</td>\n",
       "      <td>40.791586</td>\n",
       "      <td>-73.945750</td>\n",
       "    </tr>\n",
       "  </tbody>\n",
       "</table>\n",
       "</div>"
      ],
      "text/plain": [
       "   APPLICATION_ID ACTIVITY ADMINISTERING_IC  APPLICATION_TYPE  \\\n",
       "0         9787536      R01               GM               5.0   \n",
       "1         9712520      R21               MH               1.0   \n",
       "2         9571523      T32               GM               2.0   \n",
       "4         9790251      R01               GM               1.0   \n",
       "5         9787544      U01               HG               5.0   \n",
       "\n",
       "  AWARD_NOTICE_DATE BUDGET_START BUDGET_END CORE_PROJECT_NUM FULL_PROJECT_NUM  \\\n",
       "0         8/30/2019   2019-09-01 2020-08-31      R01GM127366  5R01GM127366-02   \n",
       "1          4/1/2019   2019-04-01 2020-02-29      R21MH119253  1R21MH119253-01   \n",
       "2         6/14/2019   2019-07-01 2020-06-30      T32GM008268  2T32GM008268-31   \n",
       "4         8/30/2019   2019-09-01 2020-08-31      R01GM136654  1R01GM136654-01   \n",
       "5         7/23/2019   2019-07-01 2020-06-30      U01HG010248  5U01HG010248-02   \n",
       "\n",
       "     FUNDING_ICs        FUNDING_MECHANISM    FY  \\\n",
       "0  NIGMS:302774\\       Non-SBIR/STTR RPGs  2019   \n",
       "1   NIMH:195625\\       Non-SBIR/STTR RPGs  2019   \n",
       "2  NIGMS:426323\\  TRAINING, INSTITUTIONAL  2019   \n",
       "4     OD:666743\\       Non-SBIR/STTR RPGs  2019   \n",
       "5  NHGRI:322003\\       Non-SBIR/STTR RPGs  2019   \n",
       "\n",
       "                                          IC_NAME NIH_SPENDING_CATS  ORG_CITY  \\\n",
       "0  NATIONAL INSTITUTE OF GENERAL MEDICAL SCIENCES               NaN   CHICAGO   \n",
       "1             NATIONAL INSTITUTE OF MENTAL HEALTH               NaN    AUSTIN   \n",
       "2  NATIONAL INSTITUTE OF GENERAL MEDICAL SCIENCES               NaN   SEATTLE   \n",
       "4  NATIONAL INSTITUTE OF GENERAL MEDICAL SCIENCES               NaN  NEW YORK   \n",
       "5        NATIONAL HUMAN GENOME RESEARCH INSTITUTE               NaN  NEW YORK   \n",
       "\n",
       "     ORG_COUNTRY                    ORG_DEPT  ORG_DISTRICT  \\\n",
       "0  UNITED STATES                     BIOLOGY           1.0   \n",
       "1  UNITED STATES                  PSYCHOLOGY          10.0   \n",
       "2  UNITED STATES                BIOCHEMISTRY           7.0   \n",
       "4  UNITED STATES  INTERNAL MEDICINE/MEDICINE          12.0   \n",
       "5  UNITED STATES  INTERNAL MEDICINE/MEDICINE          13.0   \n",
       "\n",
       "                                  ORG_NAME ORG_STATE ORG_ZIPCODE  \\\n",
       "0                    UNIVERSITY OF CHICAGO        IL       60637   \n",
       "1              UNIVERSITY OF TEXAS, AUSTIN        TX       78759   \n",
       "2                 UNIVERSITY OF WASHINGTON        WA       98195   \n",
       "4                   ROCKEFELLER UNIVERSITY        NY       10065   \n",
       "5  ICAHN SCHOOL OF MEDICINE AT MOUNT SINAI        NY       10029   \n",
       "\n",
       "                                                 PHR  \\\n",
       "0  NARRATIVE (Public Relevance Statement) This pr...   \n",
       "1  Public Health Relevance Temporally controlled ...   \n",
       "2  Project Narrative  The Molecular Biophysics Tr...   \n",
       "4  Narrative The proposal will develop a new tech...   \n",
       "5  Our stakeholder-engaged team is experienced in...   \n",
       "\n",
       "                         PI_IDS                                   PI_NAMEs  \\\n",
       "0                     7601785;                         SCHMIDT-OTT, URS C;   \n",
       "1                     7031347;                         MORIKAWA, HITOSHI ;   \n",
       "2  1879130; 7744794 (contact);   KLEVIT, RACHEL E; ZHENG, NING  (contact);   \n",
       "4                     1862554;                             CHAIT, BRIAN T;   \n",
       "5                     6724273;                         HOROWITZ, CAROL R.;   \n",
       "\n",
       "  PROGRAM_OFFICER_NAME PROJECT_START PROJECT_END  \\\n",
       "0      HOODBHOY, TANYA    2018-09-18  2020-08-31   \n",
       "1     NADLER, LAURIE S    2019-04-01  2021-02-28   \n",
       "2     FLICKER, PAULA F    1988-09-30  2024-06-30   \n",
       "4          SMITH, WARD    2019-09-01  2024-08-31   \n",
       "5        VOLPI, SIMONA    2018-09-18  2023-06-30   \n",
       "\n",
       "                                       PROJECT_TERMS  \\\n",
       "0  Affect; Animal Model; Animals; Anterior; Bindi...   \n",
       "1  Action Potentials; addiction; Address; ADORA2A...   \n",
       "2         Biophysics; Molecular; Training Programs;    \n",
       "4  Address; applied biomedical research; Area; at...   \n",
       "5  Address; Adult; Advocate; Affect; African; APO...   \n",
       "\n",
       "                                       PROJECT_TITLE  SERIAL_NUMBER  \\\n",
       "0  Genetic variation and function of body axis de...       127366.0   \n",
       "1  Dopamine Timing-Dependent Plasticity in Reward...       119253.0   \n",
       "2              Molecular Biophysics Training Program         8268.0   \n",
       "4  Development of Next Generation Mass Spectromet...       136654.0   \n",
       "5  GeNYC: Genomic Implementation Research in the ...        10248.0   \n",
       "\n",
       "  STUDY_SECTION                                 STUDY_SECTION_NAME  \\\n",
       "0          DEV2                     Development - 2 Study Section    \n",
       "1           LAM  Neurobiology of Learning and Memory Study Sect...   \n",
       "2           TWD                        NIGMS Initial Review Group    \n",
       "4          ZRG1                            Special Emphasis Panel    \n",
       "5          ZHG1                            Special Emphasis Panel    \n",
       "\n",
       "   SUBPROJECT_ID SUFFIX  SUPPORT_YEAR  DIRECT_COST_AMT  INDIRECT_COST_AMT  \\\n",
       "0            NaN    NaN           2.0         190000.0           112774.0   \n",
       "1            NaN    NaN           1.0         125000.0            70625.0   \n",
       "2            NaN    NaN          31.0         402870.0            23453.0   \n",
       "4            NaN    NaN           1.0         395819.0           270924.0   \n",
       "5            NaN    NaN           2.0         205982.0           116021.0   \n",
       "\n",
       "   TOTAL_COST  TOTAL_COST_SUB_PROJECT                   fromfile   Latitude  \\\n",
       "0    302774.0                     NaN  RePORTER_PRJ_C_FY2019.csv  41.779384   \n",
       "1    195625.0                     NaN  RePORTER_PRJ_C_FY2019.csv  30.406169   \n",
       "2    426323.0                     NaN  RePORTER_PRJ_C_FY2019.csv  47.432251   \n",
       "4    666743.0                     NaN  RePORTER_PRJ_C_FY2019.csv  40.764296   \n",
       "5    322003.0                     NaN  RePORTER_PRJ_C_FY2019.csv  40.791586   \n",
       "\n",
       "    Longitude  \n",
       "0  -87.605440  \n",
       "1  -97.757430  \n",
       "2 -121.803388  \n",
       "4  -73.962462  \n",
       "5  -73.945750  "
      ]
     },
     "execution_count": 432,
     "metadata": {},
     "output_type": "execute_result"
    }
   ],
   "source": [
    "df_us.head()"
   ]
  },
  {
   "cell_type": "code",
   "execution_count": 433,
   "metadata": {},
   "outputs": [
    {
     "data": {
      "text/plain": [
       "'./out/csv/post_processed_2020-05-26T19:18:25+00:00.csv.gzip'"
      ]
     },
     "execution_count": 433,
     "metadata": {},
     "output_type": "execute_result"
    }
   ],
   "source": [
    "OUT"
   ]
  },
  {
   "cell_type": "markdown",
   "metadata": {},
   "source": [
    "### Create a dtype dictionary for read_csv\n",
    "\n",
    "Issue: Pandas gives warning: `DtypeWarning: Columns (13) have mixed types.Specify dtype option on import`. Pandas is trying to infer too many dtypes and running out of memory. \n",
    "\n",
    "[Solution on stackoverflow]() is to create a dataframe from the `dtypes` property and then change the type with `astype` to str (e.g., `dtype('int64') -> 'int64'`)"
   ]
  },
  {
   "cell_type": "code",
   "execution_count": 434,
   "metadata": {},
   "outputs": [],
   "source": [
    "all_cols = set(df_us.columns)"
   ]
  },
  {
   "cell_type": "code",
   "execution_count": 435,
   "metadata": {},
   "outputs": [],
   "source": [
    "dates = set([\"AWARD_NOTICE_DATE\",\"BUDGET_START\",\"BUDGET_END\", \"PROJECT_START\", \"PROJECT_END\"])"
   ]
  },
  {
   "cell_type": "code",
   "execution_count": 436,
   "metadata": {},
   "outputs": [],
   "source": [
    "cols = list(all_cols - dates)"
   ]
  },
  {
   "cell_type": "code",
   "execution_count": 437,
   "metadata": {},
   "outputs": [
    {
     "data": {
      "text/plain": [
       "{'ORG_CITY': 'object',\n",
       " 'DIRECT_COST_AMT': 'float64',\n",
       " 'fromfile': 'object',\n",
       " 'ACTIVITY': 'object',\n",
       " 'Latitude': 'float64',\n",
       " 'CORE_PROJECT_NUM': 'object',\n",
       " 'FUNDING_MECHANISM': 'object',\n",
       " 'PI_IDS': 'object',\n",
       " 'Longitude': 'float64',\n",
       " 'ORG_STATE': 'object',\n",
       " 'ADMINISTERING_IC': 'object',\n",
       " 'STUDY_SECTION_NAME': 'object',\n",
       " 'SERIAL_NUMBER': 'float64',\n",
       " 'INDIRECT_COST_AMT': 'float64',\n",
       " 'PHR': 'object',\n",
       " 'TOTAL_COST': 'float64',\n",
       " 'PROGRAM_OFFICER_NAME': 'object',\n",
       " 'ORG_COUNTRY': 'object',\n",
       " 'ORG_DEPT': 'object',\n",
       " 'SUBPROJECT_ID': 'float64',\n",
       " 'TOTAL_COST_SUB_PROJECT': 'float64',\n",
       " 'IC_NAME': 'object',\n",
       " 'ORG_ZIPCODE': 'object',\n",
       " 'SUFFIX': 'object',\n",
       " 'FULL_PROJECT_NUM': 'object',\n",
       " 'NIH_SPENDING_CATS': 'object',\n",
       " 'PROJECT_TITLE': 'object',\n",
       " 'ORG_DISTRICT': 'float64',\n",
       " 'APPLICATION_TYPE': 'float64',\n",
       " 'PI_NAMEs': 'string',\n",
       " 'APPLICATION_ID': 'int64',\n",
       " 'FY': 'int64',\n",
       " 'SUPPORT_YEAR': 'float64',\n",
       " 'PROJECT_TERMS': 'string',\n",
       " 'FUNDING_ICs': 'object',\n",
       " 'STUDY_SECTION': 'object',\n",
       " 'ORG_NAME': 'object'}"
      ]
     },
     "execution_count": 437,
     "metadata": {},
     "output_type": "execute_result"
    }
   ],
   "source": [
    "df_us.loc[:, cols].dtypes.apply(lambda x: x.name).to_dict()"
   ]
  },
  {
   "cell_type": "code",
   "execution_count": null,
   "metadata": {},
   "outputs": [],
   "source": []
  }
 ],
 "metadata": {
  "kernelspec": {
   "display_name": "Python 3",
   "language": "python",
   "name": "python3"
  },
  "language_info": {
   "codemirror_mode": {
    "name": "ipython",
    "version": 3
   },
   "file_extension": ".py",
   "mimetype": "text/x-python",
   "name": "python",
   "nbconvert_exporter": "python",
   "pygments_lexer": "ipython3",
   "version": "3.7.6"
  },
  "nteract": {
   "version": "nteract-on-jupyter@2.1.3"
  }
 },
 "nbformat": 4,
 "nbformat_minor": 4
}

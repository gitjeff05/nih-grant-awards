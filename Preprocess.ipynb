{
 "cells": [
  {
   "cell_type": "code",
   "execution_count": 1,
   "metadata": {},
   "outputs": [
    {
     "data": {
      "text/plain": [
       "'en_US.UTF8'"
      ]
     },
     "execution_count": 1,
     "metadata": {},
     "output_type": "execute_result"
    }
   ],
   "source": [
    "%matplotlib inline\n",
    "import pandas as pd\n",
    "import numpy as np\n",
    "import seaborn as sns\n",
    "import matplotlib.pyplot as plt\n",
    "import matplotlib.ticker as mtick\n",
    "\n",
    "from sklearn.preprocessing import MinMaxScaler, RobustScaler, Normalizer, StandardScaler\n",
    "from sklearn.pipeline import Pipeline\n",
    "from sklearn.cluster import KMeans\n",
    "from sklearn.decomposition import PCA\n",
    "\n",
    "import os\n",
    "import conda\n",
    "\n",
    "import locale\n",
    "from datetime import datetime\n",
    "\n",
    "locale.setlocale(locale.LC_ALL, 'en_US.UTF8')"
   ]
  },
  {
   "cell_type": "code",
   "execution_count": 2,
   "metadata": {},
   "outputs": [],
   "source": [
    "pd.set_option('mode.chained_assignment','raise')\n",
    "pd.options.display.max_rows = 4000\n",
    "pd.options.display.max_columns = 4000"
   ]
  },
  {
   "cell_type": "markdown",
   "metadata": {},
   "source": [
    "# About NIH awards data\n",
    "\n",
    "NIH data was imported from [FY 2019 RePORTER Project Data](https://exporter.nih.gov/CSVs/final/RePORTER_PRJ_C_FY2019.zip) and the report listing page [exporter.nih.gov](https://exporter.nih.gov/ExPORTER_Catalog.aspx?sid=5&index=0). An [explanation of the fields](https://exporter.nih.gov/about.aspx) is helpful for analysis."
   ]
  },
  {
   "cell_type": "markdown",
   "metadata": {},
   "source": [
    "# Project structure\n",
    "\n",
    "```bash session\n",
    "├── NIH-awards.ipynb       # this jupyter notebook\n",
    "├── data\n",
    "│   ├── nih                # holds all exporter csv files\n",
    "│   └── zips               # us-zip-code-latitude-and-longitude.csv\n",
    "├── out\n",
    "│   ├── csv                # any csv output\n",
    "│   ├── json               # any json output\n",
    "│   └── models             # any saved models\n",
    "└── utils\n",
    "    ├── get_csvs           # script to download all the exporter csv files (requires curl)\n",
    "    └── reporter_files.txt # list of exporter files to get\n",
    "```"
   ]
  },
  {
   "cell_type": "markdown",
   "metadata": {},
   "source": [
    "# Import the data"
   ]
  },
  {
   "cell_type": "code",
   "execution_count": 3,
   "metadata": {},
   "outputs": [],
   "source": [
    "# Run the get_csvs utility to download files into the `data` from exporter.nih.gov\n",
    "# The file ./utils/reporter_files.txt contains a list of all files to get\n",
    "\n",
    "# date_downloaded = !date -Is\n",
    "# ! ./utils/get_csvs\n",
    "# date_downloaded"
   ]
  },
  {
   "cell_type": "code",
   "execution_count": 212,
   "metadata": {},
   "outputs": [
    {
     "data": {
      "text/plain": [
       "35"
      ]
     },
     "execution_count": 212,
     "metadata": {},
     "output_type": "execute_result"
    }
   ],
   "source": [
    "files = !find ./data/exporter/ -name \"*RePORTER_PRJ*\" -exec echo \"{}\" \\;\n",
    "files = list(set(files) - set(['./data/exporter/RePORTER_PRJ_C_FY2017.csv', './data/exporter/RePORTER_PRJ_C_FY2016.csv']))\n",
    "files.sort()\n",
    "len(files)"
   ]
  },
  {
   "cell_type": "code",
   "execution_count": 213,
   "metadata": {},
   "outputs": [],
   "source": [
    "all_cols = !head -n 1 './data/exporter/RePORTER_PRJ_C_FY2019.csv'\n",
    "all_cols = all_cols.s.split(',')"
   ]
  },
  {
   "cell_type": "code",
   "execution_count": 214,
   "metadata": {},
   "outputs": [],
   "source": [
    "# ignore these columns\n",
    "ignore = ['ARRA_FUNDED', 'FOA_NUMBER', 'ED_INST_TYPE', 'ORG_FIPS', 'ORG_DUNS', 'ORG_IPF_CODE', 'CFDA_CODE']"
   ]
  },
  {
   "cell_type": "code",
   "execution_count": 215,
   "metadata": {},
   "outputs": [],
   "source": [
    "cols = list(set(all_cols) - set(ignore))"
   ]
  },
  {
   "cell_type": "code",
   "execution_count": 216,
   "metadata": {},
   "outputs": [],
   "source": [
    "def create_dataframe(name):\n",
    "    '''\n",
    "    Return a DataFrame with an added column `fromfile` to denote\n",
    "    which file the data came from\n",
    "    '''\n",
    "    head, tail = os.path.split(name)\n",
    "    _df = pd.read_csv(name, dtype={ 'ORG_ZIPCODE': 'str'}, usecols=cols, parse_dates=[\"AWARD_NOTICE_DATE\",\"BUDGET_START\",\"BUDGET_END\"], encoding=\"ISO-8859-1\")\n",
    "    _df['fromfile'] = tail\n",
    "    return _df"
   ]
  },
  {
   "cell_type": "code",
   "execution_count": 217,
   "metadata": {},
   "outputs": [
    {
     "name": "stdout",
     "output_type": "stream",
     "text": [
      "CPU times: user 9.15 s, sys: 2.57 s, total: 11.7 s\n",
      "Wall time: 14.9 s\n"
     ]
    },
    {
     "data": {
      "text/plain": [
       "['2020-05-21T14:11:17+00:00']"
      ]
     },
     "execution_count": 217,
     "metadata": {},
     "output_type": "execute_result"
    }
   ],
   "source": [
    "%%time\n",
    "date_imported = !date -Is\n",
    "v = [create_dataframe(name) for name in files]\n",
    "date_imported"
   ]
  },
  {
   "cell_type": "markdown",
   "metadata": {},
   "source": [
    "### Concat all DataFrames"
   ]
  },
  {
   "cell_type": "code",
   "execution_count": 218,
   "metadata": {},
   "outputs": [
    {
     "name": "stdout",
     "output_type": "stream",
     "text": [
      "CPU times: user 2.1 s, sys: 142 ms, total: 2.24 s\n",
      "Wall time: 2.26 s\n"
     ]
    }
   ],
   "source": [
    "%%time\n",
    "df = pd.concat(v,ignore_index=True)"
   ]
  },
  {
   "cell_type": "markdown",
   "metadata": {},
   "source": [
    "### Convert types"
   ]
  },
  {
   "cell_type": "code",
   "execution_count": 219,
   "metadata": {},
   "outputs": [],
   "source": [
    "df[\"PROJECT_START\"] = pd.to_datetime(df[\"PROJECT_START\"], errors='coerce')\n",
    "df[\"PROJECT_END\"] = pd.to_datetime(df[\"PROJECT_END\"], errors='coerce')\n",
    "df[\"BUDGET_START\"] = pd.to_datetime(df[\"BUDGET_START\"], errors='coerce')\n",
    "df[\"BUDGET_END\"] = pd.to_datetime(df[\"BUDGET_END\"], errors='coerce')\n",
    "df['PROJECT_TERMS'] = df['PROJECT_TERMS'].astype(pd.StringDtype())\n",
    "df['PI_NAMEs'] = df['PI_NAMEs'].astype(pd.StringDtype())"
   ]
  },
  {
   "cell_type": "markdown",
   "metadata": {},
   "source": [
    "# Drop rows\n",
    "\n",
    "Some rows will not be very useful for analysis if they:\n",
    "\n",
    "- do not have associated start/end metrics\n",
    "- do not have associated costs\n",
    "- are duplicates"
   ]
  },
  {
   "cell_type": "code",
   "execution_count": 220,
   "metadata": {},
   "outputs": [],
   "source": [
    "before = len(df)"
   ]
  },
  {
   "cell_type": "code",
   "execution_count": 221,
   "metadata": {},
   "outputs": [],
   "source": [
    "# Keep only the rows with at least 2 non-NA values.\n",
    "thresh = 2\n",
    "df.dropna(subset=['AWARD_NOTICE_DATE', 'BUDGET_START', 'BUDGET_END'], thresh=thresh, how='all', inplace=True)"
   ]
  },
  {
   "cell_type": "code",
   "execution_count": 222,
   "metadata": {},
   "outputs": [],
   "source": [
    "# Keep only the rows with at least 1 non-NA values.\n",
    "thresh = 1\n",
    "df.dropna(subset=['DIRECT_COST_AMT', 'INDIRECT_COST_AMT', 'TOTAL_COST', 'TOTAL_COST_SUB_PROJECT'], thresh=thresh, how='all', inplace=True)"
   ]
  },
  {
   "cell_type": "code",
   "execution_count": 223,
   "metadata": {},
   "outputs": [
    {
     "name": "stdout",
     "output_type": "stream",
     "text": [
      "Dropping 681 awards with duplicate application id\n"
     ]
    }
   ],
   "source": [
    "# Drop duplicate applications\n",
    "# Duplicate application ids typically have the same application type, dates and cost amounts\n",
    "\n",
    "print(f'Dropping {len(df.loc[df.duplicated(\"APPLICATION_ID\")])} awards with duplicate application id')\n",
    "df.drop_duplicates(subset=['APPLICATION_ID'], keep='last', inplace=True)"
   ]
  },
  {
   "cell_type": "code",
   "execution_count": 224,
   "metadata": {},
   "outputs": [],
   "source": [
    "from IPython.display import HTML"
   ]
  },
  {
   "cell_type": "code",
   "execution_count": 225,
   "metadata": {},
   "outputs": [
    {
     "data": {
      "text/html": [
       "<h3>Dropped 14290 out of 190505 rows or <strong>7.501%</strong></h3>"
      ],
      "text/plain": [
       "<IPython.core.display.HTML object>"
      ]
     },
     "metadata": {},
     "output_type": "display_data"
    }
   ],
   "source": [
    "num_dropped = before - len(df)\n",
    "dropped_pct = \"{:.3%}\".format(num_dropped / before)\n",
    "display(HTML(f'<h3>Dropped {num_dropped} out of {before} rows or <strong>{dropped_pct}</strong></h3>'))"
   ]
  },
  {
   "cell_type": "markdown",
   "metadata": {},
   "source": [
    "# Create a new dataframe limited to awards whose Administering Institute or Center is an NIH Agency and whose organization country is US.\n",
    "\n",
    "Since the vast majority of awards in this dataset are administered through NIH agencies to organizations whose office is located in the US, lets restrict our analysis to a subset. "
   ]
  },
  {
   "cell_type": "code",
   "execution_count": 226,
   "metadata": {},
   "outputs": [],
   "source": [
    "import pprint\n",
    "pp = pprint.PrettyPrinter(indent=4)"
   ]
  },
  {
   "cell_type": "code",
   "execution_count": 227,
   "metadata": {},
   "outputs": [],
   "source": [
    "nih_agencies = [{\"code\":\"AA\",\"name\":\"NIH National Institute on Alcohol Abuse and Alcoholism (NIAAA)\"},{\"code\":\"OD\",\"name\":\"Office of the Director, NIH\"},{\"code\":\"AG\",\"name\":\"NIH National Institute on Aging (NIA)\"},{\"code\":\"AI\",\"name\":\"NIH National Institute of Allergy and Infectious Diseases (NIAID)\"},{\"code\":\"AR\",\"name\":\"NIH National Institute of Arthritis and Musculoskeletal and Skin Diseases (NIAMS)\"},{\"code\":\"AT\",\"name\":\"NIH National Center for Complementary and Integrative Health (NCCIH)\"},{\"code\":\"CA\",\"name\":\"NIH National Cancer Institute (NCI)\"},{\"code\":\"DA\",\"name\":\"NIH National Institute on Drug Abuse (NIDA)\"},{\"code\":\"DC\",\"name\":\"NIH National Institute on Deafness and Other Communication Disorders (NIDCD)\"},{\"code\":\"DE\",\"name\":\"NIH National Institute of Dental & Craniofacial Research (NIDCR)\"},{\"code\":\"DK\",\"name\":\"NIH National Institute of Diabetes and Digestive and Kidney Diseases (NIDDK)\"},{\"code\":\"EB\",\"name\":\"NIH National Institute of Biomedical Imaging and Bioengineering (NIBIB)\"},{\"code\":\"ES\",\"name\":\"NIH National Institute of Environmental Health Sciences (NIEHS)\"},{\"code\":\"EY\",\"name\":\"NIH National Eye Institute (NEI)\"},{\"code\":\"GM\",\"name\":\"NIH National Institute of General Medical Sciences (NIGMS)\"},{\"code\":\"IHS\",\"name\":\"Indian Health Service\"},{\"code\":\"HD\",\"name\":\"NIH Eunice Kennedy Shriver National Institute of Child Health and Human Development (NICHD)\"},{\"code\":\"HG\",\"name\":\"NIH National Human Genome Research Institute (NHGRI)\"},{\"code\":\"HL\",\"name\":\"NIH National Heart, Lung and Blood Institute (NHLBI)\"},{\"code\":\"LM\",\"name\":\"NIH National Library of Medicine (NLM)\"},{\"code\":\"MD\",\"name\":\"NIH National Institute on Minority Health and Health Disparities (NIMHD)\"},{\"code\":\"MH\",\"name\":\"NIH National Institute of Mental Health (NIMH)\"},{\"code\":\"NR\",\"name\":\"NIH National Institute of Nursing Research (NINR)\"},{\"code\":\"NS\",\"name\":\"NIH National Institute of Neurological Disorders and Stroke (NINDS)\"},{\"code\":\"RM\",\"name\":\"NIH Roadmap\"},{\"code\":\"RR\",\"name\":\"National Center for Research Resources (NCRR) (dissolved 12/2011)\"},{\"code\":\"TR\",\"name\":\"NIH National Center for Advancing translational Sciences (NCATS)\"},{\"code\":\"TW\",\"name\":\"NIH Fogarty International Center (FIC)\"}]\n",
    "codes_list = [obj['code'] for obj in nih_agencies]\n",
    "is_nih = df['ADMINISTERING_IC'].isin(codes_list)\n",
    "is_us = df['ORG_COUNTRY'] == 'UNITED STATES'"
   ]
  },
  {
   "cell_type": "code",
   "execution_count": 228,
   "metadata": {},
   "outputs": [
    {
     "data": {
      "text/html": [
       "<h3>98.0% of awards list an NIH agency as `ADMINISTERING_IC`</h3>"
      ],
      "text/plain": [
       "<IPython.core.display.HTML object>"
      ]
     },
     "metadata": {},
     "output_type": "display_data"
    }
   ],
   "source": [
    "nih_awards_pct = \"{:.1%}\".format(len(df.loc[is_nih]) / len(df))\n",
    "display(HTML(f'<h3>{nih_awards_pct} of awards list an NIH agency as `ADMINISTERING_IC`</h3>'))"
   ]
  },
  {
   "cell_type": "code",
   "execution_count": 229,
   "metadata": {},
   "outputs": [
    {
     "data": {
      "text/html": [
       "<h3>99.1% of awards list the US as `ORG_COUNTRY`</h3><p>The NIH defines ORG_COUNTRY as <em>The country in which the business office of the grantee organization or contractor is located.  Note that this may be different from the research performance site</em>.<p>"
      ],
      "text/plain": [
       "<IPython.core.display.HTML object>"
      ]
     },
     "metadata": {},
     "output_type": "display_data"
    }
   ],
   "source": [
    "us_awards_pct = \"{:.1%}\".format(len(df.loc[is_us]) / len(df))\n",
    "display(HTML(f'<h3>{us_awards_pct} of awards list the US as `ORG_COUNTRY`</h3><p>The NIH defines ORG_COUNTRY as <em>The country in which the business office of the grantee organization or contractor is located.  Note that this may be different from the research performance site</em>.<p>'))"
   ]
  },
  {
   "cell_type": "code",
   "execution_count": 230,
   "metadata": {},
   "outputs": [],
   "source": [
    "df_us = df.loc[(is_nih) & (is_us)]"
   ]
  },
  {
   "cell_type": "code",
   "execution_count": 231,
   "metadata": {},
   "outputs": [
    {
     "name": "stdout",
     "output_type": "stream",
     "text": [
      "<class 'pandas.core.frame.DataFrame'>\n",
      "Int64Index: 171171 entries, 0 to 190504\n",
      "Data columns (total 40 columns):\n",
      " #   Column                  Non-Null Count   Dtype         \n",
      "---  ------                  --------------   -----         \n",
      " 0   APPLICATION_ID          171171 non-null  int64         \n",
      " 1   ACTIVITY                171171 non-null  object        \n",
      " 2   ADMINISTERING_IC        171171 non-null  object        \n",
      " 3   APPLICATION_TYPE        171171 non-null  float64       \n",
      " 4   AWARD_NOTICE_DATE       171142 non-null  datetime64[ns]\n",
      " 5   BUDGET_START            171171 non-null  datetime64[ns]\n",
      " 6   BUDGET_END              171102 non-null  datetime64[ns]\n",
      " 7   CORE_PROJECT_NUM        171171 non-null  object        \n",
      " 8   FULL_PROJECT_NUM        171171 non-null  object        \n",
      " 9   FUNDING_ICs             171171 non-null  object        \n",
      " 10  FUNDING_MECHANISM       171171 non-null  object        \n",
      " 11  FY                      171171 non-null  int64         \n",
      " 12  IC_NAME                 171171 non-null  object        \n",
      " 13  NIH_SPENDING_CATS       66974 non-null   object        \n",
      " 14  ORG_CITY                171171 non-null  object        \n",
      " 15  ORG_COUNTRY             171171 non-null  object        \n",
      " 16  ORG_DEPT                109668 non-null  object        \n",
      " 17  ORG_DISTRICT            171171 non-null  float64       \n",
      " 18  ORG_NAME                171171 non-null  object        \n",
      " 19  ORG_STATE               171171 non-null  object        \n",
      " 20  ORG_ZIPCODE             171171 non-null  object        \n",
      " 21  PHR                     149745 non-null  object        \n",
      " 22  PI_IDS                  171171 non-null  object        \n",
      " 23  PI_NAMEs                171171 non-null  string        \n",
      " 24  PROGRAM_OFFICER_NAME    147547 non-null  object        \n",
      " 25  PROJECT_START           141230 non-null  datetime64[ns]\n",
      " 26  PROJECT_END             143061 non-null  datetime64[ns]\n",
      " 27  PROJECT_TERMS           169691 non-null  string        \n",
      " 28  PROJECT_TITLE           171171 non-null  object        \n",
      " 29  SERIAL_NUMBER           171171 non-null  float64       \n",
      " 30  STUDY_SECTION           168392 non-null  object        \n",
      " 31  STUDY_SECTION_NAME      168392 non-null  object        \n",
      " 32  SUBPROJECT_ID           31421 non-null   float64       \n",
      " 33  SUFFIX                  30522 non-null   object        \n",
      " 34  SUPPORT_YEAR            171171 non-null  float64       \n",
      " 35  DIRECT_COST_AMT         166132 non-null  float64       \n",
      " 36  INDIRECT_COST_AMT       152975 non-null  float64       \n",
      " 37  TOTAL_COST              139750 non-null  float64       \n",
      " 38  TOTAL_COST_SUB_PROJECT  31421 non-null   float64       \n",
      " 39  fromfile                171171 non-null  object        \n",
      "dtypes: datetime64[ns](5), float64(9), int64(2), object(22), string(2)\n",
      "memory usage: 53.5+ MB\n"
     ]
    }
   ],
   "source": [
    "df_us.info()"
   ]
  },
  {
   "cell_type": "markdown",
   "metadata": {},
   "source": [
    "# Clean up some badly formatted zip codes\n",
    "\n",
    "To properly map coordinates to zipcodes, zips must be in the correct format. The NIH dataset often has "
   ]
  },
  {
   "cell_type": "code",
   "execution_count": 232,
   "metadata": {},
   "outputs": [],
   "source": [
    "us_zips_non_dig = df_us['ORG_ZIPCODE'].str.contains('\\D', na=False, regex=True)"
   ]
  },
  {
   "cell_type": "code",
   "execution_count": 233,
   "metadata": {},
   "outputs": [],
   "source": [
    "df_us = df_us.copy()"
   ]
  },
  {
   "cell_type": "code",
   "execution_count": 234,
   "metadata": {},
   "outputs": [],
   "source": [
    "df_us.loc[df_us['APPLICATION_ID'].isin(['9125677', '8837925', '9330009', '9837979', '9543896', '9994542']), 'ORG_ZIPCODE'] = '49418'\n",
    "df_us.loc[df_us['APPLICATION_ID'].isin(['9686592', '9765856', '9806287', '9724114', '10044151', '10044353', '9916136', '9980531']), 'ORG_ZIPCODE'] = '98052'\n",
    "df_us.loc[df_us['APPLICATION_ID'].isin(['9677029', '9804996', '9929994', '10055828']), 'ORG_ZIPCODE'] = '20170'\n",
    "df_us.loc[df_us['APPLICATION_ID'].isin(['9805650', '10030922']), 'ORG_ZIPCODE'] = '80303'\n",
    "df_us.loc[df_us['APPLICATION_ID'].isin(['9810864']), 'ORG_ZIPCODE'] = '21228'"
   ]
  },
  {
   "cell_type": "code",
   "execution_count": 235,
   "metadata": {},
   "outputs": [
    {
     "data": {
      "text/plain": [
       "True"
      ]
     },
     "execution_count": 235,
     "metadata": {},
     "output_type": "execute_result"
    }
   ],
   "source": [
    "len(df_us.loc[(df_us['ORG_ZIPCODE'].str.contains('\\D', na=False, regex=True)) & (df_us['ORG_COUNTRY'] == 'UNITED STATES')]) == 0"
   ]
  },
  {
   "cell_type": "markdown",
   "metadata": {},
   "source": [
    "### Zip code leading zeroes should be in place\n",
    "\n",
    "Pad zeros on zips < 5 and > 9 and just take the first 5 chars"
   ]
  },
  {
   "cell_type": "code",
   "execution_count": 236,
   "metadata": {},
   "outputs": [
    {
     "name": "stdout",
     "output_type": "stream",
     "text": [
      "DataFrame contained 73 rows with zipcodes < 5 digits\n"
     ]
    },
    {
     "data": {
      "text/plain": [
       "True"
      ]
     },
     "execution_count": 236,
     "metadata": {},
     "output_type": "execute_result"
    }
   ],
   "source": [
    "is_len_less_five = df_us['ORG_ZIPCODE'].str.len() < 5\n",
    "print(f'DataFrame contained {len(df_us.loc[is_len_less_five])} rows with zipcodes < 5 digits')\n",
    "df_us.loc[is_len_less_five, 'ORG_ZIPCODE'] = [s.rjust(5, '0')[:5] for idx, s in df_us.loc[is_len_less_five, 'ORG_ZIPCODE'].items()]\n",
    "is_len_less_five = df_us['ORG_ZIPCODE'].str.len() < 5\n",
    "df_us.loc[is_len_less_five].size == 0"
   ]
  },
  {
   "cell_type": "code",
   "execution_count": 237,
   "metadata": {},
   "outputs": [
    {
     "name": "stdout",
     "output_type": "stream",
     "text": [
      "DataFrame contained 10125 rows with zipcodes > 5 and < 9 digits\n"
     ]
    },
    {
     "data": {
      "text/plain": [
       "True"
      ]
     },
     "execution_count": 237,
     "metadata": {},
     "output_type": "execute_result"
    }
   ],
   "source": [
    "is_len_gt_five = df_us['ORG_ZIPCODE'].str.len() > 5\n",
    "is_len_lt_nine = df_us['ORG_ZIPCODE'].str.len() < 9\n",
    "print(f'DataFrame contained {len(df_us.loc[is_len_gt_five & is_len_lt_nine])} rows with zipcodes > 5 and < 9 digits')\n",
    "df_us.loc[(is_len_gt_five), 'ORG_ZIPCODE'] = [s.rjust(9, '0')[:5] for idx, s in df_us.loc[(is_len_gt_five), 'ORG_ZIPCODE'].items()]\n",
    "is_len_gt_five = df_us['ORG_ZIPCODE'].str.len() > 5\n",
    "df_us.loc[(is_len_gt_five)].size == 0"
   ]
  },
  {
   "cell_type": "markdown",
   "metadata": {},
   "source": [
    "## Import ZIP to GEO data\n",
    "\n",
    "The zip/geo data was [downloaded from ODS](https://public.opendatasoft.com/explore/dataset/us-zip-code-latitude-and-longitude/export/?dataChart=eyJxdWVyaWVzIjpbeyJjb25maWciOnsiZGF0YXNldCI6InVzLXppcC1jb2RlLWxhdGl0dWRlLWFuZC1sb25naXR1ZGUiLCJvcHRpb25zIjp7fX0sImNoYXJ0cyI6W3siYWxpZ25Nb250aCI6dHJ1ZSwidHlwZSI6ImNvbHVtbiIsImZ1bmMiOiJBVkciLCJ5QXhpcyI6ImxhdGl0dWRlIiwic2NpZW50aWZpY0Rpc3BsYXkiOnRydWUsImNvbG9yIjoiI0ZGNTE1QSJ9XSwieEF4aXMiOiJzdGF0ZSIsIm1heHBvaW50cyI6NTAsInNvcnQiOiIifV0sInRpbWVzY2FsZSI6IiIsImRpc3BsYXlMZWdlbmQiOnRydWUsImFsaWduTW9udGgiOnRydWV9&location=3,43.19717,-48.51562&basemap=jawg.streets) (Open Data Share). We will join this data on zipcode so we have longitude and latitude features for each row."
   ]
  },
  {
   "cell_type": "code",
   "execution_count": 238,
   "metadata": {},
   "outputs": [
    {
     "name": "stdout",
     "output_type": "stream",
     "text": [
      "CPU times: user 166 ms, sys: 49.1 ms, total: 215 ms\n",
      "Wall time: 338 ms\n"
     ]
    },
    {
     "data": {
      "text/plain": [
       "['2020-05-21T14:11:45+00:00']"
      ]
     },
     "execution_count": 238,
     "metadata": {},
     "output_type": "execute_result"
    }
   ],
   "source": [
    "%%time\n",
    "date_zip_imported = !date -Is\n",
    "us_zip_code_latitude_and_longitude = './data/zips/us-zip-code-latitude-and-longitude.csv'\n",
    "column_names=[\"Zip\",\"City\",\"State\",\"Latitude\",\"Longitude\",\"Timezone\",\"Daylight savings time flag\",\"geopoint\"]\n",
    "zip_to_latlong = pd.read_csv(us_zip_code_latitude_and_longitude, sep=';', dtype={'Zip': 'str'}, header=0, names=column_names, encoding=\"ISO-8859-1\")\n",
    "date_zip_imported"
   ]
  },
  {
   "cell_type": "markdown",
   "metadata": {},
   "source": [
    "### Add some missing values to `zip_to_latlong`\n",
    "\n",
    "We can eventually just save this to an updated file"
   ]
  },
  {
   "cell_type": "code",
   "execution_count": 239,
   "metadata": {},
   "outputs": [],
   "source": [
    "zip_cols = zip_to_latlong.columns\n",
    "listOfSeries = [pd.Series(['94158', None, None, 37.77244949, -122.39166260, None, None, None], index=zip_cols),\n",
    "                pd.Series(['92617', None, None, 33.63830185, -117.84275055, None, None, None], index=zip_cols),\n",
    "                pd.Series(['10065', None, None, 40.76429569, -73.96246150, None, None, None], index=zip_cols),\n",
    "                pd.Series(['18902', None, None, 40.37361908, -75.06803894, None, None, None], index=zip_cols),\n",
    "                pd.Series(['62712', None, None, 39.759095, -89.581855, None, None, None], index=zip_cols),\n",
    "                pd.Series(['27268', None, None, 35.971691, -79.995012, None, None, None], index=zip_cols),\n",
    "                pd.Series(['95757', None, None, 38.388294, -121.438706, None, None, None], index=zip_cols),\n",
    "                pd.Series(['92011', None, None, 33.104738, -117.294838, None, None, None], index=zip_cols),\n",
    "                pd.Series(['28035', None, None, 35.500264, -80.844537, None, None, None], index=zip_cols),\n",
    "                pd.Series(['48193', None, None, 42.176885, -83.176072, None, None, None], index=zip_cols),\n",
    "                pd.Series(['60491', None, None, 41.608073, -87.964632, None, None, None], index=zip_cols),\n",
    "                pd.Series(['85142', None, None, 33.197122, -111.638108, None, None, None], index=zip_cols),\n",
    "                pd.Series(['85209', None, None, 33.396080, -111.650097, None, None, None], index=zip_cols),\n",
    "                pd.Series(['85755', None, None, 32.463827, -110.982601, None, None, None], index=zip_cols),\n",
    "                pd.Series(['60642', None, None, 41.899644, -87.657551, None, None, None], index=zip_cols),\n",
    "                pd.Series(['80113', None, None, 39.652369, -104.976232, None, None, None], index=zip_cols),\n",
    "                pd.Series(['62711', None, None, 39.792576, -89.662249, None, None, None], index=zip_cols),\n",
    "                pd.Series(['92010', None, None, 33.160609, -117.293587, None, None, None], index=zip_cols),\n",
    "                pd.Series(['84096', None, None, 40.473425, -112.069600, None, None, None], index=zip_cols),\n",
    "                pd.Series(['96913', None, None, 13.4686, 144.7989, None, None, None], index=zip_cols)]"
   ]
  },
  {
   "cell_type": "code",
   "execution_count": 240,
   "metadata": {},
   "outputs": [],
   "source": [
    "zip_df = zip_to_latlong.append(listOfSeries, ignore_index=True)"
   ]
  },
  {
   "cell_type": "code",
   "execution_count": 241,
   "metadata": {},
   "outputs": [],
   "source": [
    "df_us = df_us.join(zip_df.loc[:, ['Zip', 'Latitude', 'Longitude']].set_index('Zip'), on='ORG_ZIPCODE')"
   ]
  },
  {
   "cell_type": "code",
   "execution_count": 242,
   "metadata": {},
   "outputs": [
    {
     "data": {
      "text/plain": [
       "True"
      ]
     },
     "execution_count": 242,
     "metadata": {},
     "output_type": "execute_result"
    }
   ],
   "source": [
    "len(df_us.loc[(pd.isna(df_us['Latitude'])) & (pd.isna(df_us['ORG_ZIPCODE'])), ['ORG_ZIPCODE', 'APPLICATION_ID']]) < 10"
   ]
  },
  {
   "cell_type": "markdown",
   "metadata": {},
   "source": [
    "### Fix some mispellings of cities"
   ]
  },
  {
   "cell_type": "code",
   "execution_count": 243,
   "metadata": {},
   "outputs": [],
   "source": [
    "df_us.loc[df_us['ORG_CITY'] == 'san  francisco', 'ORG_CITY'] = 'san francisco'\n",
    "df_us.loc[df_us['ORG_CITY'] == 'winston salem', 'ORG_CITY'] = 'winston-salem'\n",
    "df_us.loc[df_us['ORG_CITY'] == 'st. louis', 'ORG_CITY'] = 'saint louis'\n",
    "df_us.loc[df_us['ORG_CITY'] == 'st. paul', 'ORG_CITY'] = 'saint paul'\n",
    "df_us.loc[df_us['ORG_CITY'] == 'res triangle', 'ORG_CITY'] = 'research triangle park'"
   ]
  },
  {
   "cell_type": "markdown",
   "metadata": {},
   "source": [
    "# Export Data"
   ]
  },
  {
   "cell_type": "code",
   "execution_count": 244,
   "metadata": {},
   "outputs": [
    {
     "name": "stdout",
     "output_type": "stream",
     "text": [
      "CPU times: user 56.3 s, sys: 717 ms, total: 57 s\n",
      "Wall time: 1min\n"
     ]
    }
   ],
   "source": [
    "%%time\n",
    "date_exported = !date -Is\n",
    "OUT = f'./out/csv/post_processed_{date_exported[0]}.csv.gzip'\n",
    "df_us.to_csv(OUT, index=False, compression='gzip')"
   ]
  },
  {
   "cell_type": "code",
   "execution_count": 245,
   "metadata": {},
   "outputs": [
    {
     "data": {
      "text/html": [
       "<div>\n",
       "<style scoped>\n",
       "    .dataframe tbody tr th:only-of-type {\n",
       "        vertical-align: middle;\n",
       "    }\n",
       "\n",
       "    .dataframe tbody tr th {\n",
       "        vertical-align: top;\n",
       "    }\n",
       "\n",
       "    .dataframe thead th {\n",
       "        text-align: right;\n",
       "    }\n",
       "</style>\n",
       "<table border=\"1\" class=\"dataframe\">\n",
       "  <thead>\n",
       "    <tr style=\"text-align: right;\">\n",
       "      <th></th>\n",
       "      <th>APPLICATION_ID</th>\n",
       "      <th>ACTIVITY</th>\n",
       "      <th>ADMINISTERING_IC</th>\n",
       "      <th>APPLICATION_TYPE</th>\n",
       "      <th>AWARD_NOTICE_DATE</th>\n",
       "      <th>BUDGET_START</th>\n",
       "      <th>BUDGET_END</th>\n",
       "      <th>CORE_PROJECT_NUM</th>\n",
       "      <th>FULL_PROJECT_NUM</th>\n",
       "      <th>FUNDING_ICs</th>\n",
       "      <th>FUNDING_MECHANISM</th>\n",
       "      <th>FY</th>\n",
       "      <th>IC_NAME</th>\n",
       "      <th>NIH_SPENDING_CATS</th>\n",
       "      <th>ORG_CITY</th>\n",
       "      <th>ORG_COUNTRY</th>\n",
       "      <th>ORG_DEPT</th>\n",
       "      <th>ORG_DISTRICT</th>\n",
       "      <th>ORG_NAME</th>\n",
       "      <th>ORG_STATE</th>\n",
       "      <th>ORG_ZIPCODE</th>\n",
       "      <th>PHR</th>\n",
       "      <th>PI_IDS</th>\n",
       "      <th>PI_NAMEs</th>\n",
       "      <th>PROGRAM_OFFICER_NAME</th>\n",
       "      <th>PROJECT_START</th>\n",
       "      <th>PROJECT_END</th>\n",
       "      <th>PROJECT_TERMS</th>\n",
       "      <th>PROJECT_TITLE</th>\n",
       "      <th>SERIAL_NUMBER</th>\n",
       "      <th>STUDY_SECTION</th>\n",
       "      <th>STUDY_SECTION_NAME</th>\n",
       "      <th>SUBPROJECT_ID</th>\n",
       "      <th>SUFFIX</th>\n",
       "      <th>SUPPORT_YEAR</th>\n",
       "      <th>DIRECT_COST_AMT</th>\n",
       "      <th>INDIRECT_COST_AMT</th>\n",
       "      <th>TOTAL_COST</th>\n",
       "      <th>TOTAL_COST_SUB_PROJECT</th>\n",
       "      <th>fromfile</th>\n",
       "      <th>Latitude</th>\n",
       "      <th>Longitude</th>\n",
       "    </tr>\n",
       "  </thead>\n",
       "  <tbody>\n",
       "    <tr>\n",
       "      <th>0</th>\n",
       "      <td>9527578</td>\n",
       "      <td>K99</td>\n",
       "      <td>HL</td>\n",
       "      <td>1.0</td>\n",
       "      <td>2018-04-20</td>\n",
       "      <td>2018-04-13</td>\n",
       "      <td>2019-02-28</td>\n",
       "      <td>K99HL138160</td>\n",
       "      <td>1K99HL138160-01A1</td>\n",
       "      <td>NHLBI:121328\\</td>\n",
       "      <td>OTHER RESEARCH-RELATED</td>\n",
       "      <td>2018</td>\n",
       "      <td>NATIONAL HEART, LUNG, AND BLOOD INSTITUTE</td>\n",
       "      <td>Bioengineering; Cardiovascular; Heart Disease;</td>\n",
       "      <td>DAVIS</td>\n",
       "      <td>UNITED STATES</td>\n",
       "      <td>PHARMACOLOGY</td>\n",
       "      <td>3.0</td>\n",
       "      <td>UNIVERSITY OF CALIFORNIA AT DAVIS</td>\n",
       "      <td>CA</td>\n",
       "      <td>95618</td>\n",
       "      <td>PROJECT NARRATIVE. Dysregulation of intracellu...</td>\n",
       "      <td>12094438;</td>\n",
       "      <td>MOROTTI, STEFANO ;</td>\n",
       "      <td>WANG, WAYNE C</td>\n",
       "      <td>2018-04-13</td>\n",
       "      <td>2020-02-29</td>\n",
       "      <td>Action Potentials; Adrenergic Agents; Affect; ...</td>\n",
       "      <td>Modeling of subcellular signaling crosstalk in...</td>\n",
       "      <td>138160.0</td>\n",
       "      <td>MTI</td>\n",
       "      <td>NHLBI Mentored Transition to Independence Revi...</td>\n",
       "      <td>NaN</td>\n",
       "      <td>A1</td>\n",
       "      <td>1.0</td>\n",
       "      <td>112341.0</td>\n",
       "      <td>8987.0</td>\n",
       "      <td>121328.0</td>\n",
       "      <td>NaN</td>\n",
       "      <td>RePORTER_PRJ_C_FY2018.csv</td>\n",
       "      <td>38.546306</td>\n",
       "      <td>-121.686820</td>\n",
       "    </tr>\n",
       "    <tr>\n",
       "      <th>2</th>\n",
       "      <td>9520290</td>\n",
       "      <td>U01</td>\n",
       "      <td>ES</td>\n",
       "      <td>5.0</td>\n",
       "      <td>2018-06-21</td>\n",
       "      <td>2018-07-01</td>\n",
       "      <td>2019-06-30</td>\n",
       "      <td>U01ES026130</td>\n",
       "      <td>5U01ES026130-05</td>\n",
       "      <td>NCI:486353\\NIEHS:375840\\</td>\n",
       "      <td>Non-SBIR/STTR RPGs</td>\n",
       "      <td>2018</td>\n",
       "      <td>NATIONAL INSTITUTE OF ENVIRONMENTAL HEALTH SCI...</td>\n",
       "      <td>Breast Cancer; Cancer; Cancer Genomics; Clinic...</td>\n",
       "      <td>LOS ANGELES</td>\n",
       "      <td>UNITED STATES</td>\n",
       "      <td>PUBLIC HEALTH &amp; PREV MEDICINE</td>\n",
       "      <td>33.0</td>\n",
       "      <td>UNIVERSITY OF CALIFORNIA LOS ANGELES</td>\n",
       "      <td>CA</td>\n",
       "      <td>90095</td>\n",
       "      <td>PUBLIC HEALTH RELEVANCE:  In this application,...</td>\n",
       "      <td>7551861; 12391665; 1896518 (contact); 1872364;</td>\n",
       "      <td>BRODY, JULIA GREEN; CORVALAN, CAMILA ; MICHELS...</td>\n",
       "      <td>BOYLES, ABEE</td>\n",
       "      <td>2015-09-30</td>\n",
       "      <td>2020-06-30</td>\n",
       "      <td>Adult; adverse outcome; Advocate; Age; Age at ...</td>\n",
       "      <td>Environmental chemicals and postpubertal breas...</td>\n",
       "      <td>26130.0</td>\n",
       "      <td>ZES1</td>\n",
       "      <td>Special Emphasis Panel</td>\n",
       "      <td>NaN</td>\n",
       "      <td>NaN</td>\n",
       "      <td>5.0</td>\n",
       "      <td>896746.0</td>\n",
       "      <td>81743.0</td>\n",
       "      <td>862193.0</td>\n",
       "      <td>NaN</td>\n",
       "      <td>RePORTER_PRJ_C_FY2018.csv</td>\n",
       "      <td>33.786594</td>\n",
       "      <td>-118.298662</td>\n",
       "    </tr>\n",
       "    <tr>\n",
       "      <th>3</th>\n",
       "      <td>9531351</td>\n",
       "      <td>K08</td>\n",
       "      <td>DK</td>\n",
       "      <td>5.0</td>\n",
       "      <td>2018-06-21</td>\n",
       "      <td>2018-07-01</td>\n",
       "      <td>2019-06-30</td>\n",
       "      <td>K08DK106427</td>\n",
       "      <td>5K08DK106427-04</td>\n",
       "      <td>NIDDK:164863\\</td>\n",
       "      <td>OTHER RESEARCH-RELATED</td>\n",
       "      <td>2018</td>\n",
       "      <td>NATIONAL INSTITUTE OF DIABETES AND DIGESTIVE A...</td>\n",
       "      <td>Biomedical Imaging; Cardiovascular; Clinical R...</td>\n",
       "      <td>ROCHESTER</td>\n",
       "      <td>UNITED STATES</td>\n",
       "      <td>NaN</td>\n",
       "      <td>1.0</td>\n",
       "      <td>MAYO CLINIC ROCHESTER</td>\n",
       "      <td>MN</td>\n",
       "      <td>55905</td>\n",
       "      <td>PUBLIC HEALTH RELEVANCE: There is a pressing n...</td>\n",
       "      <td>11777794;</td>\n",
       "      <td>EIRIN, ALFONSO ;</td>\n",
       "      <td>RANKIN, TRACY L</td>\n",
       "      <td>2015-08-01</td>\n",
       "      <td>2020-06-30</td>\n",
       "      <td>Address; Animal Model; Apoptosis; Attenuated; ...</td>\n",
       "      <td>A potential role for mitoprotection in preserv...</td>\n",
       "      <td>106427.0</td>\n",
       "      <td>DDK</td>\n",
       "      <td>Kidney, Urologic and Hematologic Diseases D Su...</td>\n",
       "      <td>NaN</td>\n",
       "      <td>NaN</td>\n",
       "      <td>4.0</td>\n",
       "      <td>152651.0</td>\n",
       "      <td>12212.0</td>\n",
       "      <td>164863.0</td>\n",
       "      <td>NaN</td>\n",
       "      <td>RePORTER_PRJ_C_FY2018.csv</td>\n",
       "      <td>44.022513</td>\n",
       "      <td>-92.466826</td>\n",
       "    </tr>\n",
       "    <tr>\n",
       "      <th>4</th>\n",
       "      <td>9499301</td>\n",
       "      <td>R01</td>\n",
       "      <td>HL</td>\n",
       "      <td>1.0</td>\n",
       "      <td>2018-09-19</td>\n",
       "      <td>2018-09-15</td>\n",
       "      <td>2019-06-30</td>\n",
       "      <td>R01HL141379</td>\n",
       "      <td>1R01HL141379-01</td>\n",
       "      <td>NHLBI:542357\\</td>\n",
       "      <td>Non-SBIR/STTR RPGs</td>\n",
       "      <td>2018</td>\n",
       "      <td>NATIONAL HEART, LUNG, AND BLOOD INSTITUTE</td>\n",
       "      <td>Cancer; Clinical Research; Hematology; Rare Di...</td>\n",
       "      <td>DUARTE</td>\n",
       "      <td>UNITED STATES</td>\n",
       "      <td>NaN</td>\n",
       "      <td>32.0</td>\n",
       "      <td>BECKMAN RESEARCH INSTITUTE/CITY OF HOPE</td>\n",
       "      <td>CA</td>\n",
       "      <td>91010</td>\n",
       "      <td>NARRATIVE While significant progresses have be...</td>\n",
       "      <td>8797736;</td>\n",
       "      <td>CARLESSO, NADIA ;</td>\n",
       "      <td>BAI, C BRIAN</td>\n",
       "      <td>2018-09-15</td>\n",
       "      <td>2022-06-30</td>\n",
       "      <td>actionable mutation; Acute Myelocytic Leukemia...</td>\n",
       "      <td>Inflammation as determinant of clonal selectio...</td>\n",
       "      <td>141379.0</td>\n",
       "      <td>MCH</td>\n",
       "      <td>Molecular and Cellular Hematology Study Section</td>\n",
       "      <td>NaN</td>\n",
       "      <td>NaN</td>\n",
       "      <td>1.0</td>\n",
       "      <td>313501.0</td>\n",
       "      <td>228856.0</td>\n",
       "      <td>542357.0</td>\n",
       "      <td>NaN</td>\n",
       "      <td>RePORTER_PRJ_C_FY2018.csv</td>\n",
       "      <td>34.137707</td>\n",
       "      <td>-117.965690</td>\n",
       "    </tr>\n",
       "    <tr>\n",
       "      <th>5</th>\n",
       "      <td>9546857</td>\n",
       "      <td>U54</td>\n",
       "      <td>GM</td>\n",
       "      <td>5.0</td>\n",
       "      <td>2018-09-03</td>\n",
       "      <td>2018-07-01</td>\n",
       "      <td>2019-09-22</td>\n",
       "      <td>U54GM119024</td>\n",
       "      <td>5U54GM119024-05</td>\n",
       "      <td>FIC:6651\\NCATS:62846\\NCCAM:11877\\NCMHD:26527\\N...</td>\n",
       "      <td>RESEARCH CENTERS</td>\n",
       "      <td>2018</td>\n",
       "      <td>NATIONAL INSTITUTE OF GENERAL MEDICAL SCIENCES</td>\n",
       "      <td>Alcoholism, Alcohol Use and Health; Clinical R...</td>\n",
       "      <td>LOS ANGELES</td>\n",
       "      <td>UNITED STATES</td>\n",
       "      <td>INTERNAL MEDICINE/MEDICINE</td>\n",
       "      <td>33.0</td>\n",
       "      <td>UNIVERSITY OF CALIFORNIA LOS ANGELES</td>\n",
       "      <td>CA</td>\n",
       "      <td>90095</td>\n",
       "      <td>PUBLIC HEALTH RELEVANCE: The effective coordin...</td>\n",
       "      <td>8070940 (contact); 2404765; 1873294;</td>\n",
       "      <td>NORRIS, KEITH C (contact); SEEMAN, TERESA E; W...</td>\n",
       "      <td>SESMA, MICHAEL A</td>\n",
       "      <td>2014-09-26</td>\n",
       "      <td>2019-09-22</td>\n",
       "      <td>Achievement; Address; Aging; Applied Research;...</td>\n",
       "      <td>NIH Diversity Program Consortium Coordination ...</td>\n",
       "      <td>119024.0</td>\n",
       "      <td>ZRG1</td>\n",
       "      <td>Special Emphasis Panel</td>\n",
       "      <td>NaN</td>\n",
       "      <td>NaN</td>\n",
       "      <td>5.0</td>\n",
       "      <td>3786860.0</td>\n",
       "      <td>930888.0</td>\n",
       "      <td>1780663.0</td>\n",
       "      <td>NaN</td>\n",
       "      <td>RePORTER_PRJ_C_FY2018.csv</td>\n",
       "      <td>33.786594</td>\n",
       "      <td>-118.298662</td>\n",
       "    </tr>\n",
       "  </tbody>\n",
       "</table>\n",
       "</div>"
      ],
      "text/plain": [
       "   APPLICATION_ID ACTIVITY ADMINISTERING_IC  APPLICATION_TYPE  \\\n",
       "0         9527578      K99               HL               1.0   \n",
       "2         9520290      U01               ES               5.0   \n",
       "3         9531351      K08               DK               5.0   \n",
       "4         9499301      R01               HL               1.0   \n",
       "5         9546857      U54               GM               5.0   \n",
       "\n",
       "  AWARD_NOTICE_DATE BUDGET_START BUDGET_END CORE_PROJECT_NUM  \\\n",
       "0        2018-04-20   2018-04-13 2019-02-28      K99HL138160   \n",
       "2        2018-06-21   2018-07-01 2019-06-30      U01ES026130   \n",
       "3        2018-06-21   2018-07-01 2019-06-30      K08DK106427   \n",
       "4        2018-09-19   2018-09-15 2019-06-30      R01HL141379   \n",
       "5        2018-09-03   2018-07-01 2019-09-22      U54GM119024   \n",
       "\n",
       "    FULL_PROJECT_NUM                                        FUNDING_ICs  \\\n",
       "0  1K99HL138160-01A1                                      NHLBI:121328\\   \n",
       "2    5U01ES026130-05                           NCI:486353\\NIEHS:375840\\   \n",
       "3    5K08DK106427-04                                      NIDDK:164863\\   \n",
       "4    1R01HL141379-01                                      NHLBI:542357\\   \n",
       "5    5U54GM119024-05  FIC:6651\\NCATS:62846\\NCCAM:11877\\NCMHD:26527\\N...   \n",
       "\n",
       "        FUNDING_MECHANISM    FY  \\\n",
       "0  OTHER RESEARCH-RELATED  2018   \n",
       "2      Non-SBIR/STTR RPGs  2018   \n",
       "3  OTHER RESEARCH-RELATED  2018   \n",
       "4      Non-SBIR/STTR RPGs  2018   \n",
       "5        RESEARCH CENTERS  2018   \n",
       "\n",
       "                                             IC_NAME  \\\n",
       "0          NATIONAL HEART, LUNG, AND BLOOD INSTITUTE   \n",
       "2  NATIONAL INSTITUTE OF ENVIRONMENTAL HEALTH SCI...   \n",
       "3  NATIONAL INSTITUTE OF DIABETES AND DIGESTIVE A...   \n",
       "4          NATIONAL HEART, LUNG, AND BLOOD INSTITUTE   \n",
       "5     NATIONAL INSTITUTE OF GENERAL MEDICAL SCIENCES   \n",
       "\n",
       "                                   NIH_SPENDING_CATS     ORG_CITY  \\\n",
       "0    Bioengineering; Cardiovascular; Heart Disease;         DAVIS   \n",
       "2  Breast Cancer; Cancer; Cancer Genomics; Clinic...  LOS ANGELES   \n",
       "3  Biomedical Imaging; Cardiovascular; Clinical R...    ROCHESTER   \n",
       "4  Cancer; Clinical Research; Hematology; Rare Di...       DUARTE   \n",
       "5  Alcoholism, Alcohol Use and Health; Clinical R...  LOS ANGELES   \n",
       "\n",
       "     ORG_COUNTRY                       ORG_DEPT  ORG_DISTRICT  \\\n",
       "0  UNITED STATES                   PHARMACOLOGY           3.0   \n",
       "2  UNITED STATES  PUBLIC HEALTH & PREV MEDICINE          33.0   \n",
       "3  UNITED STATES                            NaN           1.0   \n",
       "4  UNITED STATES                            NaN          32.0   \n",
       "5  UNITED STATES     INTERNAL MEDICINE/MEDICINE          33.0   \n",
       "\n",
       "                                  ORG_NAME ORG_STATE ORG_ZIPCODE  \\\n",
       "0        UNIVERSITY OF CALIFORNIA AT DAVIS        CA       95618   \n",
       "2     UNIVERSITY OF CALIFORNIA LOS ANGELES        CA       90095   \n",
       "3                    MAYO CLINIC ROCHESTER        MN       55905   \n",
       "4  BECKMAN RESEARCH INSTITUTE/CITY OF HOPE        CA       91010   \n",
       "5     UNIVERSITY OF CALIFORNIA LOS ANGELES        CA       90095   \n",
       "\n",
       "                                                 PHR  \\\n",
       "0  PROJECT NARRATIVE. Dysregulation of intracellu...   \n",
       "2  PUBLIC HEALTH RELEVANCE:  In this application,...   \n",
       "3  PUBLIC HEALTH RELEVANCE: There is a pressing n...   \n",
       "4  NARRATIVE While significant progresses have be...   \n",
       "5  PUBLIC HEALTH RELEVANCE: The effective coordin...   \n",
       "\n",
       "                                            PI_IDS  \\\n",
       "0                                       12094438;    \n",
       "2  7551861; 12391665; 1896518 (contact); 1872364;    \n",
       "3                                       11777794;    \n",
       "4                                        8797736;    \n",
       "5            8070940 (contact); 2404765; 1873294;    \n",
       "\n",
       "                                            PI_NAMEs PROGRAM_OFFICER_NAME  \\\n",
       "0                                 MOROTTI, STEFANO ;        WANG, WAYNE C   \n",
       "2  BRODY, JULIA GREEN; CORVALAN, CAMILA ; MICHELS...         BOYLES, ABEE   \n",
       "3                                   EIRIN, ALFONSO ;      RANKIN, TRACY L   \n",
       "4                                  CARLESSO, NADIA ;         BAI, C BRIAN   \n",
       "5  NORRIS, KEITH C (contact); SEEMAN, TERESA E; W...     SESMA, MICHAEL A   \n",
       "\n",
       "  PROJECT_START PROJECT_END  \\\n",
       "0    2018-04-13  2020-02-29   \n",
       "2    2015-09-30  2020-06-30   \n",
       "3    2015-08-01  2020-06-30   \n",
       "4    2018-09-15  2022-06-30   \n",
       "5    2014-09-26  2019-09-22   \n",
       "\n",
       "                                       PROJECT_TERMS  \\\n",
       "0  Action Potentials; Adrenergic Agents; Affect; ...   \n",
       "2  Adult; adverse outcome; Advocate; Age; Age at ...   \n",
       "3  Address; Animal Model; Apoptosis; Attenuated; ...   \n",
       "4  actionable mutation; Acute Myelocytic Leukemia...   \n",
       "5  Achievement; Address; Aging; Applied Research;...   \n",
       "\n",
       "                                       PROJECT_TITLE  SERIAL_NUMBER  \\\n",
       "0  Modeling of subcellular signaling crosstalk in...       138160.0   \n",
       "2  Environmental chemicals and postpubertal breas...        26130.0   \n",
       "3  A potential role for mitoprotection in preserv...       106427.0   \n",
       "4  Inflammation as determinant of clonal selectio...       141379.0   \n",
       "5  NIH Diversity Program Consortium Coordination ...       119024.0   \n",
       "\n",
       "  STUDY_SECTION                                 STUDY_SECTION_NAME  \\\n",
       "0           MTI  NHLBI Mentored Transition to Independence Revi...   \n",
       "2          ZES1                            Special Emphasis Panel    \n",
       "3           DDK  Kidney, Urologic and Hematologic Diseases D Su...   \n",
       "4           MCH   Molecular and Cellular Hematology Study Section    \n",
       "5          ZRG1                            Special Emphasis Panel    \n",
       "\n",
       "   SUBPROJECT_ID SUFFIX  SUPPORT_YEAR  DIRECT_COST_AMT  INDIRECT_COST_AMT  \\\n",
       "0            NaN     A1           1.0         112341.0             8987.0   \n",
       "2            NaN    NaN           5.0         896746.0            81743.0   \n",
       "3            NaN    NaN           4.0         152651.0            12212.0   \n",
       "4            NaN    NaN           1.0         313501.0           228856.0   \n",
       "5            NaN    NaN           5.0        3786860.0           930888.0   \n",
       "\n",
       "   TOTAL_COST  TOTAL_COST_SUB_PROJECT                   fromfile   Latitude  \\\n",
       "0    121328.0                     NaN  RePORTER_PRJ_C_FY2018.csv  38.546306   \n",
       "2    862193.0                     NaN  RePORTER_PRJ_C_FY2018.csv  33.786594   \n",
       "3    164863.0                     NaN  RePORTER_PRJ_C_FY2018.csv  44.022513   \n",
       "4    542357.0                     NaN  RePORTER_PRJ_C_FY2018.csv  34.137707   \n",
       "5   1780663.0                     NaN  RePORTER_PRJ_C_FY2018.csv  33.786594   \n",
       "\n",
       "    Longitude  \n",
       "0 -121.686820  \n",
       "2 -118.298662  \n",
       "3  -92.466826  \n",
       "4 -117.965690  \n",
       "5 -118.298662  "
      ]
     },
     "execution_count": 245,
     "metadata": {},
     "output_type": "execute_result"
    }
   ],
   "source": [
    "df_us.head()"
   ]
  },
  {
   "cell_type": "code",
   "execution_count": 246,
   "metadata": {},
   "outputs": [
    {
     "data": {
      "text/plain": [
       "'./out/csv/post_processed_2020-05-21T14:11:51+00:00.csv.gzip'"
      ]
     },
     "execution_count": 246,
     "metadata": {},
     "output_type": "execute_result"
    }
   ],
   "source": [
    "OUT"
   ]
  },
  {
   "cell_type": "markdown",
   "metadata": {},
   "source": [
    "### Create a dtype dictionary for read_csv\n",
    "\n",
    "Issue: Pandas gives warning: `DtypeWarning: Columns (13) have mixed types.Specify dtype option on import`. Pandas is trying to infer too many dtypes and running out of memory. \n",
    "\n",
    "[Solution on stackoverflow]() is to create a dataframe from the `dtypes` property and then change the type with `astype` to str (e.g., `dtype('int64') -> 'int64'`)"
   ]
  },
  {
   "cell_type": "code",
   "execution_count": 247,
   "metadata": {},
   "outputs": [],
   "source": [
    "all_cols = set(df_us.columns)"
   ]
  },
  {
   "cell_type": "code",
   "execution_count": 248,
   "metadata": {},
   "outputs": [],
   "source": [
    "dates = set([\"AWARD_NOTICE_DATE\",\"BUDGET_START\",\"BUDGET_END\", \"PROJECT_START\", \"PROJECT_END\"])"
   ]
  },
  {
   "cell_type": "code",
   "execution_count": 249,
   "metadata": {},
   "outputs": [],
   "source": [
    "cols = list(all_cols - dates)"
   ]
  },
  {
   "cell_type": "code",
   "execution_count": 250,
   "metadata": {},
   "outputs": [
    {
     "data": {
      "text/plain": [
       "{'ORG_CITY': 'object',\n",
       " 'DIRECT_COST_AMT': 'float64',\n",
       " 'fromfile': 'object',\n",
       " 'ACTIVITY': 'object',\n",
       " 'Latitude': 'float64',\n",
       " 'CORE_PROJECT_NUM': 'object',\n",
       " 'FUNDING_MECHANISM': 'object',\n",
       " 'PI_IDS': 'object',\n",
       " 'Longitude': 'float64',\n",
       " 'ORG_STATE': 'object',\n",
       " 'ADMINISTERING_IC': 'object',\n",
       " 'STUDY_SECTION_NAME': 'object',\n",
       " 'SERIAL_NUMBER': 'float64',\n",
       " 'INDIRECT_COST_AMT': 'float64',\n",
       " 'PHR': 'object',\n",
       " 'TOTAL_COST': 'float64',\n",
       " 'PROGRAM_OFFICER_NAME': 'object',\n",
       " 'ORG_COUNTRY': 'object',\n",
       " 'ORG_DEPT': 'object',\n",
       " 'SUBPROJECT_ID': 'float64',\n",
       " 'TOTAL_COST_SUB_PROJECT': 'float64',\n",
       " 'IC_NAME': 'object',\n",
       " 'ORG_ZIPCODE': 'object',\n",
       " 'SUFFIX': 'object',\n",
       " 'FULL_PROJECT_NUM': 'object',\n",
       " 'NIH_SPENDING_CATS': 'object',\n",
       " 'PROJECT_TITLE': 'object',\n",
       " 'ORG_DISTRICT': 'float64',\n",
       " 'APPLICATION_TYPE': 'float64',\n",
       " 'PI_NAMEs': 'string',\n",
       " 'APPLICATION_ID': 'int64',\n",
       " 'FY': 'int64',\n",
       " 'SUPPORT_YEAR': 'float64',\n",
       " 'PROJECT_TERMS': 'string',\n",
       " 'FUNDING_ICs': 'object',\n",
       " 'STUDY_SECTION': 'object',\n",
       " 'ORG_NAME': 'object'}"
      ]
     },
     "execution_count": 250,
     "metadata": {},
     "output_type": "execute_result"
    }
   ],
   "source": [
    "df_us.loc[:, cols].dtypes.apply(lambda x: x.name).to_dict()"
   ]
  }
 ],
 "metadata": {
  "kernelspec": {
   "display_name": "Python 3",
   "language": "python",
   "name": "python3"
  },
  "language_info": {
   "codemirror_mode": {
    "name": "ipython",
    "version": 3
   },
   "file_extension": ".py",
   "mimetype": "text/x-python",
   "name": "python",
   "nbconvert_exporter": "python",
   "pygments_lexer": "ipython3",
   "version": "3.7.6"
  },
  "nteract": {
   "version": "nteract-on-jupyter@2.1.3"
  }
 },
 "nbformat": 4,
 "nbformat_minor": 4
}

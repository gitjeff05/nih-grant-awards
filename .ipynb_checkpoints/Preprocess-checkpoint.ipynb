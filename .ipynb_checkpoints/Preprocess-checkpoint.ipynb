{
 "cells": [
  {
   "cell_type": "code",
   "execution_count": 49,
   "metadata": {},
   "outputs": [
    {
     "data": {
      "text/plain": [
       "'en_US.UTF8'"
      ]
     },
     "execution_count": 49,
     "metadata": {},
     "output_type": "execute_result"
    }
   ],
   "source": [
    "%matplotlib inline\n",
    "import pandas as pd\n",
    "import numpy as np\n",
    "import seaborn as sns\n",
    "import matplotlib.pyplot as plt\n",
    "import matplotlib.ticker as mtick\n",
    "\n",
    "from sklearn.preprocessing import MinMaxScaler, RobustScaler, Normalizer, StandardScaler\n",
    "from sklearn.pipeline import Pipeline\n",
    "from sklearn.cluster import KMeans\n",
    "from sklearn.decomposition import PCA\n",
    "\n",
    "import os\n",
    "import conda\n",
    "\n",
    "import locale\n",
    "from datetime import datetime\n",
    "from IPython.display import HTML\n",
    "locale.setlocale(locale.LC_ALL, 'en_US.UTF8')"
   ]
  },
  {
   "cell_type": "code",
   "execution_count": 50,
   "metadata": {},
   "outputs": [],
   "source": [
    "pd.set_option('mode.chained_assignment','raise')\n",
    "pd.options.display.max_rows = 4000\n",
    "pd.options.display.max_columns = 4000"
   ]
  },
  {
   "cell_type": "markdown",
   "metadata": {},
   "source": [
    "# About NIH awards data\n",
    "\n",
    "NIH data was imported from [FY 2019 RePORTER Project Data](https://exporter.nih.gov/CSVs/final/RePORTER_PRJ_C_FY2019.zip) and the report listing page [exporter.nih.gov](https://exporter.nih.gov/ExPORTER_Catalog.aspx?sid=5&index=0). An [explanation of the fields](https://exporter.nih.gov/about.aspx) is helpful for analysis."
   ]
  },
  {
   "cell_type": "markdown",
   "metadata": {},
   "source": [
    "# Project structure\n",
    "\n",
    "```bash session\n",
    "├── NIH-awards.ipynb       # this jupyter notebook\n",
    "├── data\n",
    "│   ├── nih                # holds all exporter csv files\n",
    "│   └── zips               # us-zip-code-latitude-and-longitude.csv\n",
    "├── out\n",
    "│   ├── csv                # any csv output\n",
    "│   ├── json               # any json output\n",
    "│   └── models             # any saved models\n",
    "└── utils\n",
    "    ├── get_csvs           # script to download all the exporter csv files (requires curl)\n",
    "    └── reporter_files.txt # list of exporter files to get\n",
    "```"
   ]
  },
  {
   "cell_type": "markdown",
   "metadata": {},
   "source": [
    "# Import the data"
   ]
  },
  {
   "cell_type": "code",
   "execution_count": 51,
   "metadata": {},
   "outputs": [],
   "source": [
    "# Run the get_csvs utility to download files into the `data` from exporter.nih.gov\n",
    "# The file ./utils/reporter_files.txt contains a list of all files to get\n",
    "\n",
    "# date_downloaded = !date -Is\n",
    "# ! ./utils/get_csvs\n",
    "# date_downloaded"
   ]
  },
  {
   "cell_type": "code",
   "execution_count": 71,
   "metadata": {},
   "outputs": [
    {
     "data": {
      "text/plain": [
       "38"
      ]
     },
     "execution_count": 71,
     "metadata": {},
     "output_type": "execute_result"
    }
   ],
   "source": [
    "files = !find ./data/exporter/ -name \"*RePORTER_PRJ*\" -exec echo \"{}\" \\;\n",
    "files = list(set(files) - set(['./data/exporter/RePORTER_PRJ_C_FY2018.csv', './data/exporter/RePORTER_PRJ_C_FY2017.csv', './data/exporter/RePORTER_PRJ_C_FY2016.csv']))\n",
    "files.sort()\n",
    "len(files)"
   ]
  },
  {
   "cell_type": "code",
   "execution_count": 73,
   "metadata": {},
   "outputs": [],
   "source": [
    "all_cols = !head -n 1 './data/exporter/RePORTER_PRJ_C_FY2019.csv'\n",
    "all_cols = all_cols.s.split(',')"
   ]
  },
  {
   "cell_type": "code",
   "execution_count": 74,
   "metadata": {},
   "outputs": [],
   "source": [
    "# ignore these columns\n",
    "ignore = ['ARRA_FUNDED', 'FOA_NUMBER', 'ED_INST_TYPE', 'ORG_FIPS', 'ORG_DUNS', 'ORG_IPF_CODE', 'CFDA_CODE']"
   ]
  },
  {
   "cell_type": "code",
   "execution_count": 75,
   "metadata": {},
   "outputs": [],
   "source": [
    "cols = list(set(all_cols) - set(ignore))"
   ]
  },
  {
   "cell_type": "code",
   "execution_count": 76,
   "metadata": {},
   "outputs": [],
   "source": [
    "def create_dataframe(name):\n",
    "    '''\n",
    "    Return a DataFrame with an added column `fromfile` to denote\n",
    "    which file the data came from\n",
    "    '''\n",
    "    head, tail = os.path.split(name)\n",
    "    _df = pd.read_csv(name, dtype={ 'ORG_ZIPCODE': 'str' }, usecols=cols, parse_dates=[\"AWARD_NOTICE_DATE\",\"BUDGET_START\",\"BUDGET_END\"], encoding=\"ISO-8859-1\")\n",
    "    _df['fromfile'] = tail\n",
    "    return _df"
   ]
  },
  {
   "cell_type": "code",
   "execution_count": 77,
   "metadata": {},
   "outputs": [
    {
     "name": "stdout",
     "output_type": "stream",
     "text": [
      "CPU times: user 6 s, sys: 647 ms, total: 6.65 s\n",
      "Wall time: 8.66 s\n"
     ]
    },
    {
     "data": {
      "text/plain": [
       "['2020-06-22T21:19:37+00:00']"
      ]
     },
     "execution_count": 77,
     "metadata": {},
     "output_type": "execute_result"
    }
   ],
   "source": [
    "%%time\n",
    "date_imported = !date -Is\n",
    "v = [create_dataframe(name) for name in files]\n",
    "date_imported"
   ]
  },
  {
   "cell_type": "markdown",
   "metadata": {},
   "source": [
    "### Concat all DataFrames"
   ]
  },
  {
   "cell_type": "code",
   "execution_count": 78,
   "metadata": {},
   "outputs": [
    {
     "name": "stdout",
     "output_type": "stream",
     "text": [
      "CPU times: user 1.26 s, sys: 88.5 ms, total: 1.35 s\n",
      "Wall time: 1.32 s\n"
     ]
    }
   ],
   "source": [
    "%%time\n",
    "df = pd.concat(v,ignore_index=True)"
   ]
  },
  {
   "cell_type": "code",
   "execution_count": 79,
   "metadata": {},
   "outputs": [
    {
     "data": {
      "text/plain": [
       "117317"
      ]
     },
     "execution_count": 79,
     "metadata": {},
     "output_type": "execute_result"
    }
   ],
   "source": [
    "original_df_len = len(df)\n",
    "original_df_len"
   ]
  },
  {
   "cell_type": "code",
   "execution_count": 80,
   "metadata": {},
   "outputs": [
    {
     "name": "stdout",
     "output_type": "stream",
     "text": [
      "<class 'pandas.core.frame.DataFrame'>\n",
      "RangeIndex: 117317 entries, 0 to 117316\n",
      "Data columns (total 40 columns):\n",
      " #   Column                  Non-Null Count   Dtype         \n",
      "---  ------                  --------------   -----         \n",
      " 0   APPLICATION_ID          117317 non-null  int64         \n",
      " 1   ACTIVITY                117317 non-null  object        \n",
      " 2   ADMINISTERING_IC        117317 non-null  object        \n",
      " 3   APPLICATION_TYPE        115816 non-null  float64       \n",
      " 4   AWARD_NOTICE_DATE       112684 non-null  datetime64[ns]\n",
      " 5   BUDGET_START            112751 non-null  object        \n",
      " 6   BUDGET_END              112668 non-null  object        \n",
      " 7   CORE_PROJECT_NUM        115984 non-null  object        \n",
      " 8   FULL_PROJECT_NUM        117317 non-null  object        \n",
      " 9   FUNDING_ICs             113817 non-null  object        \n",
      " 10  FUNDING_MECHANISM       117309 non-null  object        \n",
      " 11  FY                      117317 non-null  int64         \n",
      " 12  IC_NAME                 117317 non-null  object        \n",
      " 13  NIH_SPENDING_CATS       12 non-null      object        \n",
      " 14  ORG_CITY                114053 non-null  object        \n",
      " 15  ORG_COUNTRY             114053 non-null  object        \n",
      " 16  ORG_DEPT                71098 non-null   object        \n",
      " 17  ORG_DISTRICT            112935 non-null  float64       \n",
      " 18  ORG_NAME                117225 non-null  object        \n",
      " 19  ORG_STATE               113198 non-null  object        \n",
      " 20  ORG_ZIPCODE             114039 non-null  object        \n",
      " 21  PHR                     100009 non-null  object        \n",
      " 22  PI_IDS                  117317 non-null  object        \n",
      " 23  PI_NAMEs                117317 non-null  object        \n",
      " 24  PROGRAM_OFFICER_NAME    93762 non-null   object        \n",
      " 25  PROJECT_START           97649 non-null   object        \n",
      " 26  PROJECT_END             97778 non-null   object        \n",
      " 27  PROJECT_TERMS           114287 non-null  object        \n",
      " 28  PROJECT_TITLE           117317 non-null  object        \n",
      " 29  SERIAL_NUMBER           115816 non-null  float64       \n",
      " 30  STUDY_SECTION           111059 non-null  object        \n",
      " 31  STUDY_SECTION_NAME      111059 non-null  object        \n",
      " 32  SUBPROJECT_ID           17164 non-null   float64       \n",
      " 33  SUFFIX                  17103 non-null   object        \n",
      " 34  SUPPORT_YEAR            115816 non-null  float64       \n",
      " 35  DIRECT_COST_AMT         104182 non-null  float64       \n",
      " 36  INDIRECT_COST_AMT       96467 non-null   float64       \n",
      " 37  TOTAL_COST              96664 non-null   float64       \n",
      " 38  TOTAL_COST_SUB_PROJECT  17164 non-null   float64       \n",
      " 39  fromfile                117317 non-null  object        \n",
      "dtypes: datetime64[ns](1), float64(9), int64(2), object(28)\n",
      "memory usage: 35.8+ MB\n"
     ]
    }
   ],
   "source": [
    "df.info()"
   ]
  },
  {
   "cell_type": "markdown",
   "metadata": {},
   "source": [
    "### Convert types"
   ]
  },
  {
   "cell_type": "code",
   "execution_count": 81,
   "metadata": {},
   "outputs": [],
   "source": [
    "df[\"PROJECT_START\"] = pd.to_datetime(df[\"PROJECT_START\"], errors='coerce')\n",
    "df[\"PROJECT_END\"] = pd.to_datetime(df[\"PROJECT_END\"], errors='coerce')\n",
    "df[\"BUDGET_START\"] = pd.to_datetime(df[\"BUDGET_START\"], errors='coerce')\n",
    "df[\"BUDGET_END\"] = pd.to_datetime(df[\"BUDGET_END\"], errors='coerce')\n",
    "df['PROJECT_TERMS'] = df['PROJECT_TERMS'].astype(pd.StringDtype())\n",
    "df['PI_NAMEs'] = df['PI_NAMEs'].astype(pd.StringDtype())\n",
    "df['ACTIVITY'] = df['ACTIVITY'].astype('category')\n",
    "df['ADMINISTERING_IC'] = df['ADMINISTERING_IC'].astype('category')\n",
    "df['FY'] = df['FY'].astype('category')\n",
    "df['IC_NAME'] = df['IC_NAME'].astype('category')\n",
    "df['ORG_STATE'] = df['ORG_STATE'].astype('category')"
   ]
  },
  {
   "cell_type": "markdown",
   "metadata": {},
   "source": [
    "# Drop rows\n",
    "\n",
    "Some rows will not be very useful for analysis if they:\n",
    "\n",
    "- ~do not have associated start/end metrics~ Initially, we dropped these columns, under closer examination, their total costs were significant (over 6B). So, we will keep them, but will be unable to plot them in any time-series format.\n",
    "- do not have associated costs\n",
    "- are duplicates"
   ]
  },
  {
   "cell_type": "code",
   "execution_count": 82,
   "metadata": {},
   "outputs": [
    {
     "data": {
      "text/plain": [
       "117317"
      ]
     },
     "execution_count": 82,
     "metadata": {},
     "output_type": "execute_result"
    }
   ],
   "source": [
    "before = len(df)\n",
    "before"
   ]
  },
  {
   "cell_type": "code",
   "execution_count": 83,
   "metadata": {},
   "outputs": [],
   "source": [
    "# Keep only the rows with at least 2 non-NA values.\n",
    "# thresh = 2\n",
    "# df.dropna(subset=['AWARD_NOTICE_DATE', 'BUDGET_START', 'BUDGET_END'], thresh=thresh, how='all', inplace=True)"
   ]
  },
  {
   "cell_type": "code",
   "execution_count": 84,
   "metadata": {},
   "outputs": [],
   "source": [
    "# num_dropped = before - len(df)\n",
    "# dropped_pct = \"{:.3%}\".format(num_dropped / before)\n",
    "# display(HTML(f'<h3>Dropped {num_dropped} out of {before} rows or <strong>{dropped_pct}</strong></h3>'))"
   ]
  },
  {
   "cell_type": "code",
   "execution_count": 85,
   "metadata": {},
   "outputs": [],
   "source": [
    "# Keep only the rows with at least 1 non-NA values.\n",
    "thresh = 1\n",
    "df.dropna(subset=['DIRECT_COST_AMT', 'INDIRECT_COST_AMT', 'TOTAL_COST', 'TOTAL_COST_SUB_PROJECT'], thresh=thresh, how='all', inplace=True)"
   ]
  },
  {
   "cell_type": "code",
   "execution_count": 86,
   "metadata": {},
   "outputs": [
    {
     "data": {
      "text/html": [
       "<h3>Dropped 3489 out of 117317 rows or <strong>2.974%</strong></h3>"
      ],
      "text/plain": [
       "<IPython.core.display.HTML object>"
      ]
     },
     "metadata": {},
     "output_type": "display_data"
    }
   ],
   "source": [
    "num_dropped = before - len(df)\n",
    "dropped_pct = \"{:.3%}\".format(num_dropped / before)\n",
    "display(HTML(f'<h3>Dropped {num_dropped} out of {before} rows or <strong>{dropped_pct}</strong></h3>'))"
   ]
  },
  {
   "cell_type": "code",
   "execution_count": 87,
   "metadata": {},
   "outputs": [],
   "source": [
    "before = len(df)"
   ]
  },
  {
   "cell_type": "code",
   "execution_count": 88,
   "metadata": {},
   "outputs": [
    {
     "name": "stdout",
     "output_type": "stream",
     "text": [
      "Dropping 684 awards with duplicate application id\n"
     ]
    }
   ],
   "source": [
    "# Drop duplicate applications\n",
    "# Duplicate application ids typically have the same application type, dates and cost amounts\n",
    "num_duplicates = len(df.loc[df.duplicated(\"APPLICATION_ID\")])\n",
    "print(f'Dropping {num_duplicates} awards with duplicate application id')\n",
    "df.drop_duplicates(subset=['APPLICATION_ID'], keep='last', inplace=True)"
   ]
  },
  {
   "cell_type": "code",
   "execution_count": 89,
   "metadata": {},
   "outputs": [
    {
     "data": {
      "text/html": [
       "<h3>Dropped 684 out of 113828 rows or <strong>0.601%</strong></h3>"
      ],
      "text/plain": [
       "<IPython.core.display.HTML object>"
      ]
     },
     "metadata": {},
     "output_type": "display_data"
    }
   ],
   "source": [
    "dropped_pct = \"{:.3%}\".format(num_duplicates / before)\n",
    "display(HTML(f'<h3>Dropped {num_duplicates} out of {before} rows or <strong>{dropped_pct}</strong></h3>'))"
   ]
  },
  {
   "cell_type": "markdown",
   "metadata": {},
   "source": [
    "# Create a new dataframe limited to awards whose Administering Institute or Center is an NIH Agency and whose organization country is US.\n",
    "\n",
    "Since the vast majority of awards in this dataset are administered through NIH agencies to organizations whose office is located in the US, lets restrict our analysis to a subset. "
   ]
  },
  {
   "cell_type": "code",
   "execution_count": 90,
   "metadata": {},
   "outputs": [],
   "source": [
    "import pprint\n",
    "pp = pprint.PrettyPrinter(indent=4)"
   ]
  },
  {
   "cell_type": "code",
   "execution_count": 91,
   "metadata": {},
   "outputs": [],
   "source": [
    "nih_agencies = [{\"code\":\"AA\",\"name\":\"NIH National Institute on Alcohol Abuse and Alcoholism (NIAAA)\"},{\"code\":\"OD\",\"name\":\"Office of the Director, NIH\"},{\"code\":\"AG\",\"name\":\"NIH National Institute on Aging (NIA)\"},{\"code\":\"AI\",\"name\":\"NIH National Institute of Allergy and Infectious Diseases (NIAID)\"},{\"code\":\"AR\",\"name\":\"NIH National Institute of Arthritis and Musculoskeletal and Skin Diseases (NIAMS)\"},{\"code\":\"AT\",\"name\":\"NIH National Center for Complementary and Integrative Health (NCCIH)\"},{\"code\":\"CA\",\"name\":\"NIH National Cancer Institute (NCI)\"},{\"code\":\"DA\",\"name\":\"NIH National Institute on Drug Abuse (NIDA)\"},{\"code\":\"DC\",\"name\":\"NIH National Institute on Deafness and Other Communication Disorders (NIDCD)\"},{\"code\":\"DE\",\"name\":\"NIH National Institute of Dental & Craniofacial Research (NIDCR)\"},{\"code\":\"DK\",\"name\":\"NIH National Institute of Diabetes and Digestive and Kidney Diseases (NIDDK)\"},{\"code\":\"EB\",\"name\":\"NIH National Institute of Biomedical Imaging and Bioengineering (NIBIB)\"},{\"code\":\"ES\",\"name\":\"NIH National Institute of Environmental Health Sciences (NIEHS)\"},{\"code\":\"EY\",\"name\":\"NIH National Eye Institute (NEI)\"},{\"code\":\"GM\",\"name\":\"NIH National Institute of General Medical Sciences (NIGMS)\"},{\"code\":\"IHS\",\"name\":\"Indian Health Service\"},{\"code\":\"HD\",\"name\":\"NIH Eunice Kennedy Shriver National Institute of Child Health and Human Development (NICHD)\"},{\"code\":\"HG\",\"name\":\"NIH National Human Genome Research Institute (NHGRI)\"},{\"code\":\"HL\",\"name\":\"NIH National Heart, Lung and Blood Institute (NHLBI)\"},{\"code\":\"LM\",\"name\":\"NIH National Library of Medicine (NLM)\"},{\"code\":\"MD\",\"name\":\"NIH National Institute on Minority Health and Health Disparities (NIMHD)\"},{\"code\":\"MH\",\"name\":\"NIH National Institute of Mental Health (NIMH)\"},{\"code\":\"NR\",\"name\":\"NIH National Institute of Nursing Research (NINR)\"},{\"code\":\"NS\",\"name\":\"NIH National Institute of Neurological Disorders and Stroke (NINDS)\"},{\"code\":\"RM\",\"name\":\"NIH Roadmap\"},{\"code\":\"RR\",\"name\":\"National Center for Research Resources (NCRR) (dissolved 12/2011)\"},{\"code\":\"TR\",\"name\":\"NIH National Center for Advancing translational Sciences (NCATS)\"},{\"code\":\"TW\",\"name\":\"NIH Fogarty International Center (FIC)\"}]\n",
    "codes_list = [obj['code'] for obj in nih_agencies]\n",
    "is_nih = df['ADMINISTERING_IC'].isin(codes_list)\n",
    "is_us = df['ORG_COUNTRY'] == 'UNITED STATES'\n",
    "is_intra = df['ACTIVITY'].str.startswith('Z', na=False)"
   ]
  },
  {
   "cell_type": "code",
   "execution_count": 92,
   "metadata": {},
   "outputs": [
    {
     "data": {
      "text/html": [
       "<h3>98.3% of awards list an NIH agency as `ADMINISTERING_IC`</h3>"
      ],
      "text/plain": [
       "<IPython.core.display.HTML object>"
      ]
     },
     "metadata": {},
     "output_type": "display_data"
    }
   ],
   "source": [
    "nih_awards_pct = \"{:.1%}\".format(len(df.loc[is_nih]) / len(df))\n",
    "display(HTML(f'<h3>{nih_awards_pct} of awards list an NIH agency as `ADMINISTERING_IC`</h3>'))"
   ]
  },
  {
   "cell_type": "code",
   "execution_count": 93,
   "metadata": {},
   "outputs": [
    {
     "data": {
      "text/html": [
       "<h3>99.0% of awards list the US as `ORG_COUNTRY` or is an intramural project (`ACTIVITY` begins with `Z`)</h3><p>The NIH defines ORG_COUNTRY as <em>The country in which the business office of the grantee organization or contractor is located.  Note that this may be different from the research performance site</em>.<p>"
      ],
      "text/plain": [
       "<IPython.core.display.HTML object>"
      ]
     },
     "metadata": {},
     "output_type": "display_data"
    }
   ],
   "source": [
    "us_awards_pct = \"{:.1%}\".format(len(df.loc[is_us | is_intra]) / len(df))\n",
    "display(HTML(f'<h3>{us_awards_pct} of awards list the US as `ORG_COUNTRY` or is an intramural project (`ACTIVITY` begins with `Z`)</h3><p>The NIH defines ORG_COUNTRY as <em>The country in which the business office of the grantee organization or contractor is located.  Note that this may be different from the research performance site</em>.<p>'))"
   ]
  },
  {
   "cell_type": "markdown",
   "metadata": {},
   "source": [
    "# Create a new dataframe, `df_us` which only contains awards whose:\n",
    "\n",
    "- administering agency is an NIH agency\n",
    "- grantee organization's business office is US or activity code begins with `Z` (NIH intramural project)"
   ]
  },
  {
   "cell_type": "code",
   "execution_count": 94,
   "metadata": {},
   "outputs": [],
   "source": [
    "df_us = df.loc[(is_nih) & (is_us | is_intra)]"
   ]
  },
  {
   "cell_type": "code",
   "execution_count": 95,
   "metadata": {},
   "outputs": [],
   "source": [
    "num_dropped_not_nih_or_us = len(df) - len(df_us)"
   ]
  },
  {
   "cell_type": "markdown",
   "metadata": {},
   "source": [
    "# Clean up some badly formatted zip codes\n",
    "\n",
    "To properly map coordinates to zipcodes, zips must be in the correct format. The NIH dataset often has "
   ]
  },
  {
   "cell_type": "code",
   "execution_count": 96,
   "metadata": {},
   "outputs": [],
   "source": [
    "us_zips_non_dig = df_us['ORG_ZIPCODE'].str.contains('\\D', na=False, regex=True)"
   ]
  },
  {
   "cell_type": "code",
   "execution_count": 97,
   "metadata": {},
   "outputs": [],
   "source": [
    "df_us = df_us.copy()"
   ]
  },
  {
   "cell_type": "code",
   "execution_count": 98,
   "metadata": {},
   "outputs": [
    {
     "name": "stdout",
     "output_type": "stream",
     "text": [
      "<class 'pandas.core.frame.DataFrame'>\n",
      "Int64Index: 110057 entries, 0 to 117316\n",
      "Data columns (total 40 columns):\n",
      " #   Column                  Non-Null Count   Dtype         \n",
      "---  ------                  --------------   -----         \n",
      " 0   APPLICATION_ID          110057 non-null  int64         \n",
      " 1   ACTIVITY                110057 non-null  category      \n",
      " 2   ADMINISTERING_IC        110057 non-null  category      \n",
      " 3   APPLICATION_TYPE        108757 non-null  float64       \n",
      " 4   AWARD_NOTICE_DATE       105802 non-null  datetime64[ns]\n",
      " 5   BUDGET_START            105828 non-null  datetime64[ns]\n",
      " 6   BUDGET_END              105759 non-null  datetime64[ns]\n",
      " 7   CORE_PROJECT_NUM        108757 non-null  object        \n",
      " 8   FULL_PROJECT_NUM        110057 non-null  object        \n",
      " 9   FUNDING_ICs             110057 non-null  object        \n",
      " 10  FUNDING_MECHANISM       110057 non-null  object        \n",
      " 11  FY                      110057 non-null  category      \n",
      " 12  IC_NAME                 110057 non-null  category      \n",
      " 13  NIH_SPENDING_CATS       12 non-null      object        \n",
      " 14  ORG_CITY                107129 non-null  object        \n",
      " 15  ORG_COUNTRY             107129 non-null  object        \n",
      " 16  ORG_DEPT                69718 non-null   object        \n",
      " 17  ORG_DISTRICT            107080 non-null  float64       \n",
      " 18  ORG_NAME                109984 non-null  object        \n",
      " 19  ORG_STATE               107129 non-null  category      \n",
      " 20  ORG_ZIPCODE             107129 non-null  object        \n",
      " 21  PHR                     93483 non-null   object        \n",
      " 22  PI_IDS                  110057 non-null  object        \n",
      " 23  PI_NAMEs                110057 non-null  string        \n",
      " 24  PROGRAM_OFFICER_NAME    91176 non-null   object        \n",
      " 25  PROJECT_START           90884 non-null   datetime64[ns]\n",
      " 26  PROJECT_END             91022 non-null   datetime64[ns]\n",
      " 27  PROJECT_TERMS           109364 non-null  string        \n",
      " 28  PROJECT_TITLE           110057 non-null  object        \n",
      " 29  SERIAL_NUMBER           108757 non-null  float64       \n",
      " 30  STUDY_SECTION           104152 non-null  object        \n",
      " 31  STUDY_SECTION_NAME      104152 non-null  object        \n",
      " 32  SUBPROJECT_ID           16965 non-null   float64       \n",
      " 33  SUFFIX                  16004 non-null   object        \n",
      " 34  SUPPORT_YEAR            108757 non-null  float64       \n",
      " 35  DIRECT_COST_AMT         102843 non-null  float64       \n",
      " 36  INDIRECT_COST_AMT       95364 non-null   float64       \n",
      " 37  TOTAL_COST              93092 non-null   float64       \n",
      " 38  TOTAL_COST_SUB_PROJECT  16965 non-null   float64       \n",
      " 39  fromfile                110057 non-null  object        \n",
      "dtypes: category(5), datetime64[ns](5), float64(9), int64(1), object(18), string(2)\n",
      "memory usage: 30.9+ MB\n"
     ]
    }
   ],
   "source": [
    "df_us.info()"
   ]
  },
  {
   "cell_type": "code",
   "execution_count": 99,
   "metadata": {},
   "outputs": [],
   "source": [
    "df_us.loc[df_us['APPLICATION_ID'].isin(['9125677', '8837925', '9330009', '9837979', '9543896', '9994542']), 'ORG_ZIPCODE'] = '49418'\n",
    "df_us.loc[df_us['APPLICATION_ID'].isin(['9686592', '9765856', '9806287', '9724114', '10044151', '10044353', '9916136', '9980531']), 'ORG_ZIPCODE'] = '98052'\n",
    "df_us.loc[df_us['APPLICATION_ID'].isin(['9677029', '9804996', '9929994', '10055828']), 'ORG_ZIPCODE'] = '20170'\n",
    "df_us.loc[df_us['APPLICATION_ID'].isin(['9805650', '10030922']), 'ORG_ZIPCODE'] = '80303'\n",
    "df_us.loc[df_us['APPLICATION_ID'].isin(['9810864']), 'ORG_ZIPCODE'] = '21228'"
   ]
  },
  {
   "cell_type": "code",
   "execution_count": 100,
   "metadata": {},
   "outputs": [
    {
     "data": {
      "text/plain": [
       "True"
      ]
     },
     "execution_count": 100,
     "metadata": {},
     "output_type": "execute_result"
    }
   ],
   "source": [
    "len(df_us.loc[(df_us['ORG_ZIPCODE'].str.contains('\\D', na=False, regex=True)) & (df_us['ORG_COUNTRY'] == 'UNITED STATES')]) == 0"
   ]
  },
  {
   "cell_type": "markdown",
   "metadata": {},
   "source": [
    "### Zip code leading zeroes should be in place\n",
    "\n",
    "Pad zeros on zips < 5 and > 9 and just take the first 5 chars"
   ]
  },
  {
   "cell_type": "code",
   "execution_count": 101,
   "metadata": {},
   "outputs": [
    {
     "name": "stdout",
     "output_type": "stream",
     "text": [
      "DataFrame contained 75 rows with zipcodes < 5 digits\n"
     ]
    },
    {
     "data": {
      "text/plain": [
       "True"
      ]
     },
     "execution_count": 101,
     "metadata": {},
     "output_type": "execute_result"
    }
   ],
   "source": [
    "is_len_less_five = df_us['ORG_ZIPCODE'].str.len() < 5\n",
    "print(f'DataFrame contained {len(df_us.loc[is_len_less_five])} rows with zipcodes < 5 digits')\n",
    "df_us.loc[is_len_less_five, 'ORG_ZIPCODE'] = [s.rjust(5, '0')[:5] for idx, s in df_us.loc[is_len_less_five, 'ORG_ZIPCODE'].items()]\n",
    "is_len_less_five = df_us['ORG_ZIPCODE'].str.len() < 5\n",
    "df_us.loc[is_len_less_five].size == 0"
   ]
  },
  {
   "cell_type": "code",
   "execution_count": 102,
   "metadata": {},
   "outputs": [
    {
     "name": "stdout",
     "output_type": "stream",
     "text": [
      "DataFrame contained 10199 rows with zipcodes > 5 and < 9 digits\n"
     ]
    },
    {
     "data": {
      "text/plain": [
       "True"
      ]
     },
     "execution_count": 102,
     "metadata": {},
     "output_type": "execute_result"
    }
   ],
   "source": [
    "is_len_gt_five = df_us['ORG_ZIPCODE'].str.len() > 5\n",
    "is_len_lt_nine = df_us['ORG_ZIPCODE'].str.len() < 9\n",
    "print(f'DataFrame contained {len(df_us.loc[is_len_gt_five & is_len_lt_nine])} rows with zipcodes > 5 and < 9 digits')\n",
    "df_us.loc[(is_len_gt_five), 'ORG_ZIPCODE'] = [s.rjust(9, '0')[:5] for idx, s in df_us.loc[(is_len_gt_five), 'ORG_ZIPCODE'].items()]\n",
    "is_len_gt_five = df_us['ORG_ZIPCODE'].str.len() > 5\n",
    "df_us.loc[(is_len_gt_five)].size == 0"
   ]
  },
  {
   "cell_type": "markdown",
   "metadata": {},
   "source": [
    "## Import ZIP to GEO data\n",
    "\n",
    "The \"[US Zip Code Latitude and Longitude](https://public.opendatasoft.com/explore/dataset/us-zip-code-latitude-and-longitude/information/)\" by [CivicSpace Labs]() is licensed under [Creative Commons Attribution-ShareAlike](https://creativecommons.org/licenses/by-sa/2.0/). Copyright 2004 CivicSpace Labs."
   ]
  },
  {
   "cell_type": "code",
   "execution_count": 103,
   "metadata": {},
   "outputs": [
    {
     "name": "stdout",
     "output_type": "stream",
     "text": [
      "CPU times: user 135 ms, sys: 40.5 ms, total: 176 ms\n",
      "Wall time: 250 ms\n"
     ]
    },
    {
     "data": {
      "text/plain": [
       "['2020-06-22T21:20:26+00:00']"
      ]
     },
     "execution_count": 103,
     "metadata": {},
     "output_type": "execute_result"
    }
   ],
   "source": [
    "%%time\n",
    "date_zip_imported = !date -Is\n",
    "us_zip_code_latitude_and_longitude = './data/zips/us-zip-code-latitude-and-longitude.csv'\n",
    "column_names=[\"Zip\",\"City\",\"State\",\"Latitude\",\"Longitude\",\"Timezone\",\"Daylight savings time flag\",\"geopoint\"]\n",
    "zip_to_latlong = pd.read_csv(us_zip_code_latitude_and_longitude, sep=';', dtype={'Zip': 'str'}, header=0, names=column_names, encoding=\"ISO-8859-1\")\n",
    "date_zip_imported"
   ]
  },
  {
   "cell_type": "markdown",
   "metadata": {},
   "source": [
    "### Add some missing values to `zip_to_latlong`\n",
    "\n",
    "We can eventually just save this to an updated file"
   ]
  },
  {
   "cell_type": "code",
   "execution_count": 104,
   "metadata": {},
   "outputs": [],
   "source": [
    "zip_cols = zip_to_latlong.columns\n",
    "listOfSeries = [pd.Series(['94158', None, None, 37.77244949, -122.39166260, None, None, None], index=zip_cols),\n",
    "                pd.Series(['92617', None, None, 33.63830185, -117.84275055, None, None, None], index=zip_cols),\n",
    "                pd.Series(['10065', None, None, 40.76429569, -73.96246150, None, None, None], index=zip_cols),\n",
    "                pd.Series(['18902', None, None, 40.37361908, -75.06803894, None, None, None], index=zip_cols),\n",
    "                pd.Series(['62712', None, None, 39.759095, -89.581855, None, None, None], index=zip_cols),\n",
    "                pd.Series(['27268', None, None, 35.971691, -79.995012, None, None, None], index=zip_cols),\n",
    "                pd.Series(['95757', None, None, 38.388294, -121.438706, None, None, None], index=zip_cols),\n",
    "                pd.Series(['92011', None, None, 33.104738, -117.294838, None, None, None], index=zip_cols),\n",
    "                pd.Series(['28035', None, None, 35.500264, -80.844537, None, None, None], index=zip_cols),\n",
    "                pd.Series(['48193', None, None, 42.176885, -83.176072, None, None, None], index=zip_cols),\n",
    "                pd.Series(['60491', None, None, 41.608073, -87.964632, None, None, None], index=zip_cols),\n",
    "                pd.Series(['85142', None, None, 33.197122, -111.638108, None, None, None], index=zip_cols),\n",
    "                pd.Series(['85209', None, None, 33.396080, -111.650097, None, None, None], index=zip_cols),\n",
    "                pd.Series(['85755', None, None, 32.463827, -110.982601, None, None, None], index=zip_cols),\n",
    "                pd.Series(['60642', None, None, 41.899644, -87.657551, None, None, None], index=zip_cols),\n",
    "                pd.Series(['80113', None, None, 39.652369, -104.976232, None, None, None], index=zip_cols),\n",
    "                pd.Series(['62711', None, None, 39.792576, -89.662249, None, None, None], index=zip_cols),\n",
    "                pd.Series(['92010', None, None, 33.160609, -117.293587, None, None, None], index=zip_cols),\n",
    "                pd.Series(['84096', None, None, 40.473425, -112.069600, None, None, None], index=zip_cols),\n",
    "                pd.Series(['96913', None, None, 13.4686, 144.7989, None, None, None], index=zip_cols)]"
   ]
  },
  {
   "cell_type": "code",
   "execution_count": 105,
   "metadata": {},
   "outputs": [],
   "source": [
    "zip_df = zip_to_latlong.append(listOfSeries, ignore_index=True)"
   ]
  },
  {
   "cell_type": "code",
   "execution_count": 106,
   "metadata": {},
   "outputs": [],
   "source": [
    "df_us = df_us.join(zip_df.loc[:, ['Zip', 'Latitude', 'Longitude']].set_index('Zip'), on='ORG_ZIPCODE')"
   ]
  },
  {
   "cell_type": "markdown",
   "metadata": {},
   "source": [
    "### Assert that the only awards that do not have a lat/long coordinates are intramural projects"
   ]
  },
  {
   "cell_type": "code",
   "execution_count": 107,
   "metadata": {},
   "outputs": [
    {
     "data": {
      "text/plain": [
       "True"
      ]
     },
     "execution_count": 107,
     "metadata": {},
     "output_type": "execute_result"
    }
   ],
   "source": [
    "no_zip_or_lat = df_us.loc[(pd.isna(df_us['Latitude'])) & (pd.isna(df_us['ORG_ZIPCODE']))]\n",
    "intra_project = df_us.loc[df_us['ACTIVITY'].str.startswith('Z')]\n",
    "len(no_zip_or_lat) < len(intra_project) + 2 # add two because we will allow a small number of awards with no coords"
   ]
  },
  {
   "cell_type": "markdown",
   "metadata": {},
   "source": [
    "### Fix some mispellings of cities"
   ]
  },
  {
   "cell_type": "code",
   "execution_count": 108,
   "metadata": {},
   "outputs": [],
   "source": [
    "df_us.loc[df_us['ORG_CITY'] == 'san  francisco', 'ORG_CITY'] = 'san francisco'\n",
    "df_us.loc[df_us['ORG_CITY'] == 'winston salem', 'ORG_CITY'] = 'winston-salem'\n",
    "df_us.loc[df_us['ORG_CITY'] == 'st. louis', 'ORG_CITY'] = 'saint louis'\n",
    "df_us.loc[df_us['ORG_CITY'] == 'st. paul', 'ORG_CITY'] = 'saint paul'\n",
    "df_us.loc[df_us['ORG_CITY'] == 'res triangle', 'ORG_CITY'] = 'research triangle park'"
   ]
  },
  {
   "cell_type": "code",
   "execution_count": 109,
   "metadata": {},
   "outputs": [
    {
     "name": "stdout",
     "output_type": "stream",
     "text": [
      "<class 'pandas.core.frame.DataFrame'>\n",
      "Int64Index: 110057 entries, 0 to 117316\n",
      "Data columns (total 42 columns):\n",
      " #   Column                  Non-Null Count   Dtype         \n",
      "---  ------                  --------------   -----         \n",
      " 0   APPLICATION_ID          110057 non-null  int64         \n",
      " 1   ACTIVITY                110057 non-null  category      \n",
      " 2   ADMINISTERING_IC        110057 non-null  category      \n",
      " 3   APPLICATION_TYPE        108757 non-null  float64       \n",
      " 4   AWARD_NOTICE_DATE       105802 non-null  datetime64[ns]\n",
      " 5   BUDGET_START            105828 non-null  datetime64[ns]\n",
      " 6   BUDGET_END              105759 non-null  datetime64[ns]\n",
      " 7   CORE_PROJECT_NUM        108757 non-null  object        \n",
      " 8   FULL_PROJECT_NUM        110057 non-null  object        \n",
      " 9   FUNDING_ICs             110057 non-null  object        \n",
      " 10  FUNDING_MECHANISM       110057 non-null  object        \n",
      " 11  FY                      110057 non-null  category      \n",
      " 12  IC_NAME                 110057 non-null  category      \n",
      " 13  NIH_SPENDING_CATS       12 non-null      object        \n",
      " 14  ORG_CITY                107129 non-null  object        \n",
      " 15  ORG_COUNTRY             107129 non-null  object        \n",
      " 16  ORG_DEPT                69718 non-null   object        \n",
      " 17  ORG_DISTRICT            107080 non-null  float64       \n",
      " 18  ORG_NAME                109984 non-null  object        \n",
      " 19  ORG_STATE               107129 non-null  category      \n",
      " 20  ORG_ZIPCODE             107129 non-null  object        \n",
      " 21  PHR                     93483 non-null   object        \n",
      " 22  PI_IDS                  110057 non-null  object        \n",
      " 23  PI_NAMEs                110057 non-null  string        \n",
      " 24  PROGRAM_OFFICER_NAME    91176 non-null   object        \n",
      " 25  PROJECT_START           90884 non-null   datetime64[ns]\n",
      " 26  PROJECT_END             91022 non-null   datetime64[ns]\n",
      " 27  PROJECT_TERMS           109364 non-null  string        \n",
      " 28  PROJECT_TITLE           110057 non-null  object        \n",
      " 29  SERIAL_NUMBER           108757 non-null  float64       \n",
      " 30  STUDY_SECTION           104152 non-null  object        \n",
      " 31  STUDY_SECTION_NAME      104152 non-null  object        \n",
      " 32  SUBPROJECT_ID           16965 non-null   float64       \n",
      " 33  SUFFIX                  16004 non-null   object        \n",
      " 34  SUPPORT_YEAR            108757 non-null  float64       \n",
      " 35  DIRECT_COST_AMT         102843 non-null  float64       \n",
      " 36  INDIRECT_COST_AMT       95364 non-null   float64       \n",
      " 37  TOTAL_COST              93092 non-null   float64       \n",
      " 38  TOTAL_COST_SUB_PROJECT  16965 non-null   float64       \n",
      " 39  fromfile                110057 non-null  object        \n",
      " 40  Latitude                107129 non-null  float64       \n",
      " 41  Longitude               107129 non-null  float64       \n",
      "dtypes: category(5), datetime64[ns](5), float64(11), int64(1), object(18), string(2)\n",
      "memory usage: 32.5+ MB\n"
     ]
    }
   ],
   "source": [
    "df_us.info()"
   ]
  },
  {
   "cell_type": "markdown",
   "metadata": {},
   "source": [
    "# Export Data"
   ]
  },
  {
   "cell_type": "code",
   "execution_count": 110,
   "metadata": {},
   "outputs": [],
   "source": [
    "is_sample = False"
   ]
  },
  {
   "cell_type": "code",
   "execution_count": 111,
   "metadata": {},
   "outputs": [
    {
     "name": "stdout",
     "output_type": "stream",
     "text": [
      "CPU times: user 36.5 s, sys: 382 ms, total: 36.9 s\n",
      "Wall time: 39.2 s\n"
     ]
    }
   ],
   "source": [
    "%%time\n",
    "date_exported = !date -Is\n",
    "OUT = f'./out/csv/post_processed_{date_exported[0]}.csv.gzip'\n",
    "if is_sample:\n",
    "    _sample = df_us.sample(n=20000, random_state=3)\n",
    "    _sample.to_csv(OUT, index=False, compression='gzip')\n",
    "else:\n",
    "    df_us.to_csv(OUT, index=False, compression='gzip')"
   ]
  },
  {
   "cell_type": "code",
   "execution_count": 112,
   "metadata": {},
   "outputs": [],
   "source": [
    "with open(\"./CHANGELOG.md\", \"r+\") as f:\n",
    "    logs = f.read()\n",
    "    f.seek(0)\n",
    "    f.write(f'''\\n\n",
    "# Preprocessing: {date_exported[0]}\\n\n",
    "Imported {len(files)} files on {date_imported[0]} resulting in {original_df_len} rows.\\n\n",
    "Dropped {num_dropped} rows for having no relevant cost information.\\n\n",
    "Dropped {num_duplicates} duplicate application ids.\\n\n",
    "Dropped {num_dropped_not_nih_or_us} rows because they were either not NIH, not us or intramural.\\n\n",
    "Output file: {OUT} contains {len(df_us)} rows.\\n''')\n",
    "    f.write(logs)"
   ]
  },
  {
   "cell_type": "code",
   "execution_count": 113,
   "metadata": {},
   "outputs": [
    {
     "name": "stdout",
     "output_type": "stream",
     "text": [
      "\n",
      "\n",
      "# Preprocessing: 2020-06-22T21:20:32+00:00\n",
      "\n",
      "Imported 38 files on 2020-06-22T21:19:37+00:00 resulting in 117317 rows.\n",
      "\n",
      "Dropped 3489 rows for having no relevant cost information.\n",
      "\n",
      "Dropped 684 duplicate application ids.\n",
      "\n",
      "Dropped 3087 rows because they were either not NIH, not us or intramural.\n",
      "\n",
      "Output file: ./out/csv/post_processed_2020-06-22T21:20:32+00:00.csv.gzip contains 110057 rows.\n",
      "# Sample: 2020-05-29T12:36:20+00:00\n",
      "\n",
      "Created sample file\n",
      "\n",
      "Sample file: ./out/csv/post_processed_2020-05-29T12:36:20+00:00.csv.gzip contains 20000 rows.\n",
      "\n",
      "# Preprocessing: 2020-05-28T17:06:19+00:00\n",
      "\n",
      "Imported 35 files on 2020-05-28T17:04:15+00:00 resulting in 110276 rows.\n",
      "\n",
      "Dropped 3122 rows for having no relevant cost information.\n",
      "\n",
      "Dropped 670 duplicate application ids.\n",
      "\n",
      "Dropped 2919 rows because they were either not NIH, not us or intramural.\n",
      "\n",
      "Output file: ./out/csv/post_processed_2020-05-28T17:06:19+00:00.csv.gzip contains 103565 rows.\n"
     ]
    }
   ],
   "source": [
    "!cat CHANGELOG.md"
   ]
  },
  {
   "cell_type": "markdown",
   "metadata": {},
   "source": [
    "### Create a dtype dictionary for read_csv\n",
    "\n",
    "Issue: Pandas gives warning: `DtypeWarning: Columns (13) have mixed types.Specify dtype option on import`. Pandas is trying to infer too many dtypes and running out of memory. \n",
    "\n",
    "[Solution on stackoverflow]() is to create a dataframe from the `dtypes` property and then change the type with `astype` to str (e.g., `dtype('int64') -> 'int64'`)"
   ]
  },
  {
   "cell_type": "code",
   "execution_count": 114,
   "metadata": {},
   "outputs": [],
   "source": [
    "all_cols = set(df_us.columns)"
   ]
  },
  {
   "cell_type": "code",
   "execution_count": 115,
   "metadata": {},
   "outputs": [],
   "source": [
    "dates = set([\"AWARD_NOTICE_DATE\",\"BUDGET_START\",\"BUDGET_END\", \"PROJECT_START\", \"PROJECT_END\"])"
   ]
  },
  {
   "cell_type": "code",
   "execution_count": 116,
   "metadata": {},
   "outputs": [],
   "source": [
    "cols = list(all_cols - dates)"
   ]
  },
  {
   "cell_type": "code",
   "execution_count": 117,
   "metadata": {},
   "outputs": [
    {
     "data": {
      "text/plain": [
       "{'IC_NAME': 'category',\n",
       " 'PI_NAMEs': 'string',\n",
       " 'FUNDING_MECHANISM': 'object',\n",
       " 'SUPPORT_YEAR': 'float64',\n",
       " 'SERIAL_NUMBER': 'float64',\n",
       " 'CORE_PROJECT_NUM': 'object',\n",
       " 'ADMINISTERING_IC': 'category',\n",
       " 'FULL_PROJECT_NUM': 'object',\n",
       " 'TOTAL_COST_SUB_PROJECT': 'float64',\n",
       " 'PROGRAM_OFFICER_NAME': 'object',\n",
       " 'APPLICATION_ID': 'int64',\n",
       " 'SUBPROJECT_ID': 'float64',\n",
       " 'PI_IDS': 'object',\n",
       " 'ACTIVITY': 'category',\n",
       " 'PROJECT_TITLE': 'object',\n",
       " 'ORG_STATE': 'category',\n",
       " 'DIRECT_COST_AMT': 'float64',\n",
       " 'STUDY_SECTION': 'object',\n",
       " 'SUFFIX': 'object',\n",
       " 'STUDY_SECTION_NAME': 'object',\n",
       " 'Longitude': 'float64',\n",
       " 'FY': 'category',\n",
       " 'PHR': 'object',\n",
       " 'TOTAL_COST': 'float64',\n",
       " 'ORG_COUNTRY': 'object',\n",
       " 'NIH_SPENDING_CATS': 'object',\n",
       " 'ORG_ZIPCODE': 'object',\n",
       " 'ORG_NAME': 'object',\n",
       " 'INDIRECT_COST_AMT': 'float64',\n",
       " 'Latitude': 'float64',\n",
       " 'ORG_DISTRICT': 'float64',\n",
       " 'FUNDING_ICs': 'object',\n",
       " 'fromfile': 'object',\n",
       " 'APPLICATION_TYPE': 'float64',\n",
       " 'PROJECT_TERMS': 'string',\n",
       " 'ORG_CITY': 'object',\n",
       " 'ORG_DEPT': 'object'}"
      ]
     },
     "execution_count": 117,
     "metadata": {},
     "output_type": "execute_result"
    }
   ],
   "source": [
    "df_us.loc[:, cols].dtypes.apply(lambda x: x.name).to_dict()"
   ]
  },
  {
   "cell_type": "code",
   "execution_count": null,
   "metadata": {},
   "outputs": [],
   "source": []
  }
 ],
 "metadata": {
  "kernelspec": {
   "display_name": "Python 3",
   "language": "python",
   "name": "python3"
  },
  "language_info": {
   "codemirror_mode": {
    "name": "ipython",
    "version": 3
   },
   "file_extension": ".py",
   "mimetype": "text/x-python",
   "name": "python",
   "nbconvert_exporter": "python",
   "pygments_lexer": "ipython3",
   "version": "3.7.6"
  },
  "nteract": {
   "version": "nteract-on-jupyter@2.1.3"
  }
 },
 "nbformat": 4,
 "nbformat_minor": 4
}

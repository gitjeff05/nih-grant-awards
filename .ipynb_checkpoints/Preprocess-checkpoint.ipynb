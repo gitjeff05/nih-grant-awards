{
 "cells": [
  {
   "cell_type": "code",
   "execution_count": 1,
   "metadata": {},
   "outputs": [
    {
     "data": {
      "text/plain": [
       "'en_US.UTF8'"
      ]
     },
     "execution_count": 1,
     "metadata": {},
     "output_type": "execute_result"
    }
   ],
   "source": [
    "%matplotlib inline\n",
    "import pandas as pd\n",
    "import numpy as np\n",
    "import seaborn as sns\n",
    "import matplotlib.pyplot as plt\n",
    "import matplotlib.ticker as mtick\n",
    "\n",
    "from sklearn.preprocessing import MinMaxScaler, RobustScaler, Normalizer, StandardScaler\n",
    "from sklearn.pipeline import Pipeline\n",
    "from sklearn.cluster import KMeans\n",
    "from sklearn.decomposition import PCA\n",
    "\n",
    "import os\n",
    "import conda\n",
    "\n",
    "import locale\n",
    "from datetime import datetime\n",
    "\n",
    "locale.setlocale(locale.LC_ALL, 'en_US.UTF8')"
   ]
  },
  {
   "cell_type": "code",
   "execution_count": 2,
   "metadata": {},
   "outputs": [],
   "source": [
    "pd.set_option('mode.chained_assignment','raise')\n",
    "pd.options.display.max_rows = 4000\n",
    "pd.options.display.max_columns = 4000"
   ]
  },
  {
   "cell_type": "markdown",
   "metadata": {},
   "source": [
    "# About NIH awards data\n",
    "\n",
    "NIH data was imported from [FY 2019 RePORTER Project Data](https://exporter.nih.gov/CSVs/final/RePORTER_PRJ_C_FY2019.zip) and the report listing page [exporter.nih.gov](https://exporter.nih.gov/ExPORTER_Catalog.aspx?sid=5&index=0). An [explanation of the fields](https://exporter.nih.gov/about.aspx) is helpful for analysis."
   ]
  },
  {
   "cell_type": "markdown",
   "metadata": {},
   "source": [
    "# Project structure\n",
    "\n",
    "```bash session\n",
    "├── NIH-awards.ipynb       # this jupyter notebook\n",
    "├── data\n",
    "│   ├── nih                # holds all exporter csv files\n",
    "│   └── zips               # us-zip-code-latitude-and-longitude.csv\n",
    "├── out\n",
    "│   ├── csv                # any csv output\n",
    "│   ├── json               # any json output\n",
    "│   └── models             # any saved models\n",
    "└── utils\n",
    "    ├── get_csvs           # script to download all the exporter csv files (requires curl)\n",
    "    └── reporter_files.txt # list of exporter files to get\n",
    "```"
   ]
  },
  {
   "cell_type": "markdown",
   "metadata": {},
   "source": [
    "# Import the data"
   ]
  },
  {
   "cell_type": "code",
   "execution_count": 3,
   "metadata": {},
   "outputs": [],
   "source": [
    "# Run the get_csvs utility to download files into the `data` from exporter.nih.gov\n",
    "# The file ./utils/reporter_files.txt contains a list of all files to get\n",
    "\n",
    "# date_downloaded = !date -Is\n",
    "# ! ./utils/get_csvs\n",
    "# date_downloaded"
   ]
  },
  {
   "cell_type": "code",
   "execution_count": 4,
   "metadata": {},
   "outputs": [
    {
     "data": {
      "text/plain": [
       "33"
      ]
     },
     "execution_count": 4,
     "metadata": {},
     "output_type": "execute_result"
    }
   ],
   "source": [
    "files = !find ./data/nih/ -name \"*RePORTER_PRJ*\" -exec echo \"{}\" \\;\n",
    "len(files)"
   ]
  },
  {
   "cell_type": "code",
   "execution_count": 5,
   "metadata": {},
   "outputs": [],
   "source": [
    "all_cols = !head -n 1 './data/nih/RePORTER_PRJ_C_FY2019.csv'\n",
    "all_cols = all_cols.s.split(',')"
   ]
  },
  {
   "cell_type": "code",
   "execution_count": 6,
   "metadata": {},
   "outputs": [],
   "source": [
    "# ignore these columns\n",
    "ignore = ['ARRA_FUNDED', 'FOA_NUMBER', 'ED_INST_TYPE', 'ORG_FIPS', 'ORG_DUNS', 'ORG_IPF_CODE', 'CFDA_CODE']"
   ]
  },
  {
   "cell_type": "code",
   "execution_count": 7,
   "metadata": {},
   "outputs": [],
   "source": [
    "cols = list(set(all_cols) - set(ignore))"
   ]
  },
  {
   "cell_type": "code",
   "execution_count": 8,
   "metadata": {},
   "outputs": [],
   "source": [
    "def create_dataframe(name):\n",
    "    '''\n",
    "    Return a DataFrame with an added column `fromfile` to denote\n",
    "    which file the data came from\n",
    "    '''\n",
    "    head, tail = os.path.split(name)\n",
    "    _df = pd.read_csv(name, dtype={ 'ORG_ZIPCODE': 'str'}, usecols=cols, parse_dates=[\"AWARD_NOTICE_DATE\",\"BUDGET_START\",\"BUDGET_END\"], encoding=\"ISO-8859-1\")\n",
    "    _df['fromfile'] = tail\n",
    "    return _df"
   ]
  },
  {
   "cell_type": "code",
   "execution_count": 9,
   "metadata": {},
   "outputs": [
    {
     "name": "stdout",
     "output_type": "stream",
     "text": [
      "CPU times: user 7.73 s, sys: 848 ms, total: 8.58 s\n",
      "Wall time: 11.2 s\n"
     ]
    },
    {
     "data": {
      "text/plain": [
       "['2020-05-14T15:10:55+00:00']"
      ]
     },
     "execution_count": 9,
     "metadata": {},
     "output_type": "execute_result"
    }
   ],
   "source": [
    "%%time\n",
    "date_imported = !date -Is\n",
    "v = [create_dataframe(name) for name in files]\n",
    "date_imported"
   ]
  },
  {
   "cell_type": "markdown",
   "metadata": {},
   "source": [
    "### Concat all DataFrames"
   ]
  },
  {
   "cell_type": "code",
   "execution_count": 10,
   "metadata": {},
   "outputs": [
    {
     "name": "stdout",
     "output_type": "stream",
     "text": [
      "CPU times: user 1.64 s, sys: 264 ms, total: 1.91 s\n",
      "Wall time: 1.92 s\n"
     ]
    }
   ],
   "source": [
    "%%time\n",
    "df = pd.concat(v,ignore_index=True)"
   ]
  },
  {
   "cell_type": "markdown",
   "metadata": {},
   "source": [
    "### Convert types"
   ]
  },
  {
   "cell_type": "code",
   "execution_count": 11,
   "metadata": {},
   "outputs": [],
   "source": [
    "df[\"PROJECT_START\"] = pd.to_datetime(df[\"PROJECT_START\"], errors='coerce')\n",
    "df[\"PROJECT_END\"] = pd.to_datetime(df[\"PROJECT_END\"], errors='coerce')\n",
    "df[\"BUDGET_START\"] = pd.to_datetime(df[\"BUDGET_START\"], errors='coerce')\n",
    "df[\"BUDGET_END\"] = pd.to_datetime(df[\"BUDGET_END\"], errors='coerce')\n",
    "df['PROJECT_TERMS'] = df['PROJECT_TERMS'].astype(pd.StringDtype())\n",
    "df['PI_NAMEs'] = df['PI_NAMEs'].astype(pd.StringDtype())"
   ]
  },
  {
   "cell_type": "markdown",
   "metadata": {},
   "source": [
    "# Drop rows\n",
    "\n",
    "Some rows will not be very useful for analysis if they:\n",
    "\n",
    "- do not have associated start/end metrics\n",
    "- do not have associated costs\n",
    "- are duplicates"
   ]
  },
  {
   "cell_type": "code",
   "execution_count": 12,
   "metadata": {},
   "outputs": [],
   "source": [
    "before = len(df)"
   ]
  },
  {
   "cell_type": "code",
   "execution_count": 13,
   "metadata": {},
   "outputs": [],
   "source": [
    "# Keep only the rows with at least 2 non-NA values.\n",
    "thresh = 2\n",
    "df.dropna(subset=['AWARD_NOTICE_DATE', 'BUDGET_START', 'BUDGET_END'], thresh=thresh, how='all', inplace=True)"
   ]
  },
  {
   "cell_type": "code",
   "execution_count": 14,
   "metadata": {},
   "outputs": [],
   "source": [
    "# Keep only the rows with at least 1 non-NA values.\n",
    "thresh = 1\n",
    "df.dropna(subset=['DIRECT_COST_AMT', 'INDIRECT_COST_AMT', 'TOTAL_COST', 'TOTAL_COST_SUB_PROJECT'], thresh=thresh, how='all', inplace=True)"
   ]
  },
  {
   "cell_type": "code",
   "execution_count": 15,
   "metadata": {},
   "outputs": [
    {
     "name": "stdout",
     "output_type": "stream",
     "text": [
      "Dropping 677 awards with duplicate application id\n"
     ]
    }
   ],
   "source": [
    "# Drop duplicate applications\n",
    "# Duplicate application ids typically have the same application type, dates and cost amounts\n",
    "\n",
    "print(f'Dropping {len(df.loc[df.duplicated(\"APPLICATION_ID\")])} awards with duplicate application id')\n",
    "df.drop_duplicates(subset=['APPLICATION_ID'], keep='last', inplace=True)"
   ]
  },
  {
   "cell_type": "code",
   "execution_count": 16,
   "metadata": {},
   "outputs": [],
   "source": [
    "from IPython.display import HTML"
   ]
  },
  {
   "cell_type": "code",
   "execution_count": 17,
   "metadata": {},
   "outputs": [
    {
     "data": {
      "text/html": [
       "<h3>Dropped 14209 out of 188652 rows or <strong>7.532%</strong></h3>"
      ],
      "text/plain": [
       "<IPython.core.display.HTML object>"
      ]
     },
     "metadata": {},
     "output_type": "display_data"
    }
   ],
   "source": [
    "num_dropped = before - len(df)\n",
    "dropped_pct = \"{:.3%}\".format(num_dropped / before)\n",
    "display(HTML(f'<h3>Dropped {num_dropped} out of {before} rows or <strong>{dropped_pct}</strong></h3>'))"
   ]
  },
  {
   "cell_type": "markdown",
   "metadata": {},
   "source": [
    "# Create a new dataframe limited to awards whose Administering Institute or Center is an NIH Agency and whose organization country is US.\n",
    "\n",
    "Since the vast majority of awards in this dataset are administered through NIH agencies to organizations whose office is located in the US, lets restrict our analysis to a subset. "
   ]
  },
  {
   "cell_type": "code",
   "execution_count": 18,
   "metadata": {},
   "outputs": [],
   "source": [
    "nih_agencies = [{\"code\":\"AA\",\"name\":\"NIH National Institute on Alcohol Abuse and Alcoholism (NIAAA)\"},{\"code\":\"AG\",\"name\":\"NIH National Institute on Aging (NIA)\"},{\"code\":\"AI\",\"name\":\"NIH National Institute of Allergy and Infectious Diseases (NIAID)\"},{\"code\":\"AR\",\"name\":\"NIH National Institute of Arthritis and Musculoskeletal and Skin Diseases (NIAMS)\"},{\"code\":\"AT\",\"name\":\"NIH National Center for Complementary and Integrative Health (NCCIH)\"},{\"code\":\"CA\",\"name\":\"NIH National Cancer Institute (NCI)\"},{\"code\":\"DA\",\"name\":\"NIH National Institute on Drug Abuse (NIDA)\"},{\"code\":\"DC\",\"name\":\"NIH National Institute on Deafness and Other Communication Disorders (NIDCD)\"},{\"code\":\"DE\",\"name\":\"NIH National Institute of Dental & Craniofacial Research (NIDCR)\"},{\"code\":\"DK\",\"name\":\"NIH National Institute of Diabetes and Digestive and Kidney Diseases (NIDDK)\"},{\"code\":\"EB\",\"name\":\"NIH National Institute of Biomedical Imaging and Bioengineering (NIBIB)\"},{\"code\":\"ES\",\"name\":\"NIH National Institute of Environmental Health Sciences (NIEHS)\"},{\"code\":\"EY\",\"name\":\"NIH National Eye Institute (NEI)\"},{\"code\":\"GM\",\"name\":\"NIH National Institute of General Medical Sciences (NIGMS)\"},{\"code\":\"IHS\",\"name\":\"Indian Health Service\"},{\"code\":\"HD\",\"name\":\"NIH Eunice Kennedy Shriver National Institute of Child Health and Human Development (NICHD)\"},{\"code\":\"HG\",\"name\":\"NIH National Human Genome Research Institute (NHGRI)\"},{\"code\":\"HL\",\"name\":\"NIH National Heart, Lung and Blood Institute (NHLBI)\"},{\"code\":\"LM\",\"name\":\"NIH National Library of Medicine (NLM)\"},{\"code\":\"MD\",\"name\":\"NIH National Institute on Minority Health and Health Disparities (NIMHD)\"},{\"code\":\"MH\",\"name\":\"NIH National Institute of Mental Health (NIMH)\"},{\"code\":\"NR\",\"name\":\"NIH National Institute of Nursing Research (NINR)\"},{\"code\":\"NS\",\"name\":\"NIH National Institute of Neurological Disorders and Stroke (NINDS)\"},{\"code\":\"RM\",\"name\":\"NIH Roadmap\"},{\"code\":\"RR\",\"name\":\"National Center for Research Resources (NCRR) (dissolved 12/2011)\"},{\"code\":\"TR\",\"name\":\"NIH National Center for Advancing translational Sciences (NCATS)\"},{\"code\":\"TW\",\"name\":\"NIH Fogarty International Center (FIC)\"}]\n",
    "codes_list = [obj['code'] for obj in nih_agencies]\n",
    "is_nih = df['ADMINISTERING_IC'].isin(codes_list)\n",
    "is_us = df['ORG_COUNTRY'] == 'UNITED STATES'"
   ]
  },
  {
   "cell_type": "code",
   "execution_count": 19,
   "metadata": {},
   "outputs": [
    {
     "data": {
      "text/html": [
       "<h3>97.0% of awards list an NIH agency as `ADMINISTERING_IC`</h3>"
      ],
      "text/plain": [
       "<IPython.core.display.HTML object>"
      ]
     },
     "metadata": {},
     "output_type": "display_data"
    }
   ],
   "source": [
    "nih_awards_pct = \"{:.1%}\".format(len(df.loc[is_nih]) / len(df))\n",
    "display(HTML(f'<h3>{nih_awards_pct} of awards list an NIH agency as `ADMINISTERING_IC`</h3>'))"
   ]
  },
  {
   "cell_type": "code",
   "execution_count": 20,
   "metadata": {},
   "outputs": [
    {
     "data": {
      "text/html": [
       "<h3>99.1% of awards list the US as `ORG_COUNTRY`</h3><p>The NIH defines ORG_COUNTRY as <em>The country in which the business office of the grantee organization or contractor is located.  Note that this may be different from the research performance site</em>.<p>"
      ],
      "text/plain": [
       "<IPython.core.display.HTML object>"
      ]
     },
     "metadata": {},
     "output_type": "display_data"
    }
   ],
   "source": [
    "us_awards_pct = \"{:.1%}\".format(len(df.loc[is_us]) / len(df))\n",
    "display(HTML(f'<h3>{us_awards_pct} of awards list the US as `ORG_COUNTRY`</h3><p>The NIH defines ORG_COUNTRY as <em>The country in which the business office of the grantee organization or contractor is located.  Note that this may be different from the research performance site</em>.<p>'))"
   ]
  },
  {
   "cell_type": "code",
   "execution_count": 21,
   "metadata": {},
   "outputs": [],
   "source": [
    "df_us = df.loc[(is_nih) & (is_us)]"
   ]
  },
  {
   "cell_type": "code",
   "execution_count": 22,
   "metadata": {},
   "outputs": [
    {
     "name": "stdout",
     "output_type": "stream",
     "text": [
      "<class 'pandas.core.frame.DataFrame'>\n",
      "Int64Index: 167791 entries, 0 to 188651\n",
      "Data columns (total 40 columns):\n",
      " #   Column                  Non-Null Count   Dtype         \n",
      "---  ------                  --------------   -----         \n",
      " 0   APPLICATION_ID          167791 non-null  int64         \n",
      " 1   ACTIVITY                167791 non-null  object        \n",
      " 2   ADMINISTERING_IC        167791 non-null  object        \n",
      " 3   APPLICATION_TYPE        167791 non-null  float64       \n",
      " 4   AWARD_NOTICE_DATE       167762 non-null  datetime64[ns]\n",
      " 5   BUDGET_START            167791 non-null  datetime64[ns]\n",
      " 6   BUDGET_END              167721 non-null  datetime64[ns]\n",
      " 7   CORE_PROJECT_NUM        167791 non-null  object        \n",
      " 8   FULL_PROJECT_NUM        167791 non-null  object        \n",
      " 9   FUNDING_ICs             167791 non-null  object        \n",
      " 10  FUNDING_MECHANISM       167791 non-null  object        \n",
      " 11  FY                      167791 non-null  int64         \n",
      " 12  IC_NAME                 167791 non-null  object        \n",
      " 13  NIH_SPENDING_CATS       66333 non-null   object        \n",
      " 14  ORG_CITY                167791 non-null  object        \n",
      " 15  ORG_COUNTRY             167791 non-null  object        \n",
      " 16  ORG_DEPT                107571 non-null  object        \n",
      " 17  ORG_DISTRICT            167791 non-null  float64       \n",
      " 18  ORG_NAME                167791 non-null  object        \n",
      " 19  ORG_STATE               167791 non-null  object        \n",
      " 20  ORG_ZIPCODE             167791 non-null  object        \n",
      " 21  PHR                     147059 non-null  object        \n",
      " 22  PI_IDS                  167791 non-null  object        \n",
      " 23  PI_NAMEs                167791 non-null  string        \n",
      " 24  PROGRAM_OFFICER_NAME    144705 non-null  object        \n",
      " 25  PROJECT_START           138471 non-null  datetime64[ns]\n",
      " 26  PROJECT_END             140298 non-null  datetime64[ns]\n",
      " 27  PROJECT_TERMS           166391 non-null  string        \n",
      " 28  PROJECT_TITLE           167791 non-null  object        \n",
      " 29  SERIAL_NUMBER           167791 non-null  float64       \n",
      " 30  STUDY_SECTION           165121 non-null  object        \n",
      " 31  STUDY_SECTION_NAME      165121 non-null  object        \n",
      " 32  SUBPROJECT_ID           30775 non-null   float64       \n",
      " 33  SUFFIX                  29763 non-null   object        \n",
      " 34  SUPPORT_YEAR            167791 non-null  float64       \n",
      " 35  DIRECT_COST_AMT         162843 non-null  float64       \n",
      " 36  INDIRECT_COST_AMT       150138 non-null  float64       \n",
      " 37  TOTAL_COST              137016 non-null  float64       \n",
      " 38  TOTAL_COST_SUB_PROJECT  30775 non-null   float64       \n",
      " 39  fromfile                167791 non-null  object        \n",
      "dtypes: datetime64[ns](5), float64(9), int64(2), object(22), string(2)\n",
      "memory usage: 52.5+ MB\n"
     ]
    }
   ],
   "source": [
    "df_us.info()"
   ]
  },
  {
   "cell_type": "markdown",
   "metadata": {},
   "source": [
    "# Clean up some badly formatted zip codes\n",
    "\n",
    "To properly map coordinates to zipcodes, zips must be in the correct format. The NIH dataset often has "
   ]
  },
  {
   "cell_type": "code",
   "execution_count": 23,
   "metadata": {},
   "outputs": [],
   "source": [
    "us_zips_non_dig = df_us['ORG_ZIPCODE'].str.contains('\\D', na=False, regex=True)"
   ]
  },
  {
   "cell_type": "code",
   "execution_count": 24,
   "metadata": {},
   "outputs": [],
   "source": [
    "df_us = df_us.copy()"
   ]
  },
  {
   "cell_type": "code",
   "execution_count": 25,
   "metadata": {},
   "outputs": [],
   "source": [
    "df_us.loc[df_us['APPLICATION_ID'].isin(['9125677', '8837925', '9330009', '9837979', '9543896', '9994542']), 'ORG_ZIPCODE'] = '49418'\n",
    "df_us.loc[df_us['APPLICATION_ID'].isin(['9686592', '9765856', '9806287', '9724114', '10044151', '10044353', '9916136', '9980531']), 'ORG_ZIPCODE'] = '98052'\n",
    "df_us.loc[df_us['APPLICATION_ID'].isin(['9677029', '9804996', '9929994', '10055828']), 'ORG_ZIPCODE'] = '20170'\n",
    "df_us.loc[df_us['APPLICATION_ID'].isin(['9805650', '10030922']), 'ORG_ZIPCODE'] = '80303'\n",
    "df_us.loc[df_us['APPLICATION_ID'].isin(['9810864']), 'ORG_ZIPCODE'] = '21228'"
   ]
  },
  {
   "cell_type": "code",
   "execution_count": 26,
   "metadata": {},
   "outputs": [
    {
     "data": {
      "text/plain": [
       "True"
      ]
     },
     "execution_count": 26,
     "metadata": {},
     "output_type": "execute_result"
    }
   ],
   "source": [
    "len(df_us.loc[(df_us['ORG_ZIPCODE'].str.contains('\\D', na=False, regex=True)) & (df_us['ORG_COUNTRY'] == 'UNITED STATES')]) == 0"
   ]
  },
  {
   "cell_type": "markdown",
   "metadata": {},
   "source": [
    "### Zip code leading zeroes should be in place\n",
    "\n",
    "Pad zeros on zips < 5 and > 9 and just take the first 5 chars"
   ]
  },
  {
   "cell_type": "code",
   "execution_count": 27,
   "metadata": {},
   "outputs": [
    {
     "name": "stdout",
     "output_type": "stream",
     "text": [
      "DataFrame contained 71 rows with zipcodes < 5 digits\n"
     ]
    },
    {
     "data": {
      "text/plain": [
       "True"
      ]
     },
     "execution_count": 27,
     "metadata": {},
     "output_type": "execute_result"
    }
   ],
   "source": [
    "is_len_less_five = df_us['ORG_ZIPCODE'].str.len() < 5\n",
    "print(f'DataFrame contained {len(df_us.loc[is_len_less_five])} rows with zipcodes < 5 digits')\n",
    "df_us.loc[is_len_less_five, 'ORG_ZIPCODE'] = [s.rjust(5, '0')[:5] for idx, s in df_us.loc[is_len_less_five, 'ORG_ZIPCODE'].items()]\n",
    "is_len_less_five = df_us['ORG_ZIPCODE'].str.len() < 5\n",
    "df_us.loc[is_len_less_five].size == 0"
   ]
  },
  {
   "cell_type": "code",
   "execution_count": 28,
   "metadata": {},
   "outputs": [
    {
     "name": "stdout",
     "output_type": "stream",
     "text": [
      "DataFrame contained 10035 rows with zipcodes > 5 and < 9 digits\n"
     ]
    },
    {
     "data": {
      "text/plain": [
       "True"
      ]
     },
     "execution_count": 28,
     "metadata": {},
     "output_type": "execute_result"
    }
   ],
   "source": [
    "is_len_gt_five = df_us['ORG_ZIPCODE'].str.len() > 5\n",
    "is_len_lt_nine = df_us['ORG_ZIPCODE'].str.len() < 9\n",
    "print(f'DataFrame contained {len(df_us.loc[is_len_gt_five & is_len_lt_nine])} rows with zipcodes > 5 and < 9 digits')\n",
    "df_us.loc[(is_len_gt_five), 'ORG_ZIPCODE'] = [s.rjust(9, '0')[:5] for idx, s in df_us.loc[(is_len_gt_five), 'ORG_ZIPCODE'].items()]\n",
    "is_len_gt_five = df_us['ORG_ZIPCODE'].str.len() > 5\n",
    "df_us.loc[(is_len_gt_five)].size == 0"
   ]
  },
  {
   "cell_type": "markdown",
   "metadata": {},
   "source": [
    "## Import ZIP to GEO data\n",
    "\n",
    "The zip/geo data was [downloaded from ODS](https://public.opendatasoft.com/explore/dataset/us-zip-code-latitude-and-longitude/export/?dataChart=eyJxdWVyaWVzIjpbeyJjb25maWciOnsiZGF0YXNldCI6InVzLXppcC1jb2RlLWxhdGl0dWRlLWFuZC1sb25naXR1ZGUiLCJvcHRpb25zIjp7fX0sImNoYXJ0cyI6W3siYWxpZ25Nb250aCI6dHJ1ZSwidHlwZSI6ImNvbHVtbiIsImZ1bmMiOiJBVkciLCJ5QXhpcyI6ImxhdGl0dWRlIiwic2NpZW50aWZpY0Rpc3BsYXkiOnRydWUsImNvbG9yIjoiI0ZGNTE1QSJ9XSwieEF4aXMiOiJzdGF0ZSIsIm1heHBvaW50cyI6NTAsInNvcnQiOiIifV0sInRpbWVzY2FsZSI6IiIsImRpc3BsYXlMZWdlbmQiOnRydWUsImFsaWduTW9udGgiOnRydWV9&location=3,43.19717,-48.51562&basemap=jawg.streets) (Open Data Share). We will join this data on zipcode so we have longitude and latitude features for each row."
   ]
  },
  {
   "cell_type": "code",
   "execution_count": 29,
   "metadata": {},
   "outputs": [
    {
     "name": "stdout",
     "output_type": "stream",
     "text": [
      "CPU times: user 169 ms, sys: 43.1 ms, total: 212 ms\n",
      "Wall time: 291 ms\n"
     ]
    },
    {
     "data": {
      "text/plain": [
       "['2020-05-14T15:11:22+00:00']"
      ]
     },
     "execution_count": 29,
     "metadata": {},
     "output_type": "execute_result"
    }
   ],
   "source": [
    "%%time\n",
    "date_zip_imported = !date -Is\n",
    "us_zip_code_latitude_and_longitude = './data/zips/us-zip-code-latitude-and-longitude.csv'\n",
    "column_names=[\"Zip\",\"City\",\"State\",\"Latitude\",\"Longitude\",\"Timezone\",\"Daylight savings time flag\",\"geopoint\"]\n",
    "zip_to_latlong = pd.read_csv(us_zip_code_latitude_and_longitude, sep=';', dtype={'Zip': 'str'}, header=0, names=column_names, encoding=\"ISO-8859-1\")\n",
    "date_zip_imported"
   ]
  },
  {
   "cell_type": "markdown",
   "metadata": {},
   "source": [
    "### Add some missing values to `zip_to_latlong`\n",
    "\n",
    "We can eventually just save this to an updated file"
   ]
  },
  {
   "cell_type": "code",
   "execution_count": 30,
   "metadata": {},
   "outputs": [],
   "source": [
    "zip_cols = zip_to_latlong.columns\n",
    "listOfSeries = [pd.Series(['94158', None, None, 37.77244949, -122.39166260, None, None, None], index=zip_cols),\n",
    "                pd.Series(['92617', None, None, 33.63830185, -117.84275055, None, None, None], index=zip_cols),\n",
    "                pd.Series(['10065', None, None, 40.76429569, -73.96246150, None, None, None], index=zip_cols),\n",
    "                pd.Series(['18902', None, None, 40.37361908, -75.06803894, None, None, None], index=zip_cols),\n",
    "                pd.Series(['62712', None, None, 39.759095, -89.581855, None, None, None], index=zip_cols),\n",
    "                pd.Series(['27268', None, None, 35.971691, -79.995012, None, None, None], index=zip_cols),\n",
    "                pd.Series(['95757', None, None, 38.388294, -121.438706, None, None, None], index=zip_cols),\n",
    "                pd.Series(['92011', None, None, 33.104738, -117.294838, None, None, None], index=zip_cols),\n",
    "                pd.Series(['28035', None, None, 35.500264, -80.844537, None, None, None], index=zip_cols),\n",
    "                pd.Series(['48193', None, None, 42.176885, -83.176072, None, None, None], index=zip_cols),\n",
    "                pd.Series(['60491', None, None, 41.608073, -87.964632, None, None, None], index=zip_cols),\n",
    "                pd.Series(['85142', None, None, 33.197122, -111.638108, None, None, None], index=zip_cols),\n",
    "                pd.Series(['85209', None, None, 33.396080, -111.650097, None, None, None], index=zip_cols),\n",
    "                pd.Series(['85755', None, None, 32.463827, -110.982601, None, None, None], index=zip_cols),\n",
    "                pd.Series(['60642', None, None, 41.899644, -87.657551, None, None, None], index=zip_cols),\n",
    "                pd.Series(['80113', None, None, 39.652369, -104.976232, None, None, None], index=zip_cols),\n",
    "                pd.Series(['62711', None, None, 39.792576, -89.662249, None, None, None], index=zip_cols),\n",
    "                pd.Series(['92010', None, None, 33.160609, -117.293587, None, None, None], index=zip_cols),\n",
    "                pd.Series(['84096', None, None, 40.473425, -112.069600, None, None, None], index=zip_cols),\n",
    "                pd.Series(['96913', None, None, 13.4686, 144.7989, None, None, None], index=zip_cols)]"
   ]
  },
  {
   "cell_type": "code",
   "execution_count": 31,
   "metadata": {},
   "outputs": [],
   "source": [
    "zip_df = zip_to_latlong.append(listOfSeries, ignore_index=True)"
   ]
  },
  {
   "cell_type": "code",
   "execution_count": 32,
   "metadata": {},
   "outputs": [],
   "source": [
    "df_us = df_us.join(zip_df.loc[:, ['Zip', 'Latitude', 'Longitude']].set_index('Zip'), on='ORG_ZIPCODE')"
   ]
  },
  {
   "cell_type": "code",
   "execution_count": 33,
   "metadata": {},
   "outputs": [
    {
     "data": {
      "text/plain": [
       "True"
      ]
     },
     "execution_count": 33,
     "metadata": {},
     "output_type": "execute_result"
    }
   ],
   "source": [
    "len(df_us.loc[(pd.isna(df_us['Latitude'])) & (pd.isna(df_us['ORG_ZIPCODE'])), ['ORG_ZIPCODE', 'APPLICATION_ID']]) < 10"
   ]
  },
  {
   "cell_type": "markdown",
   "metadata": {},
   "source": [
    "### Fix some mispellings of cities"
   ]
  },
  {
   "cell_type": "code",
   "execution_count": 34,
   "metadata": {},
   "outputs": [],
   "source": [
    "df_us.loc[df_us['ORG_CITY'] == 'san  francisco', 'ORG_CITY'] = 'san francisco'\n",
    "df_us.loc[df_us['ORG_CITY'] == 'winston salem', 'ORG_CITY'] = 'winston-salem'\n",
    "df_us.loc[df_us['ORG_CITY'] == 'st. louis', 'ORG_CITY'] = 'saint louis'\n",
    "df_us.loc[df_us['ORG_CITY'] == 'st. paul', 'ORG_CITY'] = 'saint paul'\n",
    "df_us.loc[df_us['ORG_CITY'] == 'res triangle', 'ORG_CITY'] = 'research triangle park'"
   ]
  },
  {
   "cell_type": "markdown",
   "metadata": {},
   "source": [
    "# Export Data"
   ]
  },
  {
   "cell_type": "code",
   "execution_count": 48,
   "metadata": {},
   "outputs": [
    {
     "name": "stdout",
     "output_type": "stream",
     "text": [
      "CPU times: user 10.2 s, sys: 164 ms, total: 10.4 s\n",
      "Wall time: 11 s\n"
     ]
    }
   ],
   "source": [
    "%%time\n",
    "date_exported = !date -Is\n",
    "OUT = f'./out/csv/post_processed_{date_exported[0]}.csv.gzip'\n",
    "df_us.to_csv(OUT, index=False, compression='gzip')"
   ]
  },
  {
   "cell_type": "code",
   "execution_count": 49,
   "metadata": {},
   "outputs": [
    {
     "data": {
      "text/html": [
       "<div>\n",
       "<style scoped>\n",
       "    .dataframe tbody tr th:only-of-type {\n",
       "        vertical-align: middle;\n",
       "    }\n",
       "\n",
       "    .dataframe tbody tr th {\n",
       "        vertical-align: top;\n",
       "    }\n",
       "\n",
       "    .dataframe thead th {\n",
       "        text-align: right;\n",
       "    }\n",
       "</style>\n",
       "<table border=\"1\" class=\"dataframe\">\n",
       "  <thead>\n",
       "    <tr style=\"text-align: right;\">\n",
       "      <th></th>\n",
       "      <th>APPLICATION_ID</th>\n",
       "      <th>ACTIVITY</th>\n",
       "      <th>ADMINISTERING_IC</th>\n",
       "      <th>APPLICATION_TYPE</th>\n",
       "      <th>AWARD_NOTICE_DATE</th>\n",
       "      <th>BUDGET_START</th>\n",
       "      <th>BUDGET_END</th>\n",
       "      <th>CORE_PROJECT_NUM</th>\n",
       "      <th>FULL_PROJECT_NUM</th>\n",
       "      <th>FUNDING_ICs</th>\n",
       "      <th>FUNDING_MECHANISM</th>\n",
       "      <th>FY</th>\n",
       "      <th>IC_NAME</th>\n",
       "      <th>NIH_SPENDING_CATS</th>\n",
       "      <th>ORG_CITY</th>\n",
       "      <th>ORG_COUNTRY</th>\n",
       "      <th>ORG_DEPT</th>\n",
       "      <th>ORG_DISTRICT</th>\n",
       "      <th>ORG_NAME</th>\n",
       "      <th>ORG_STATE</th>\n",
       "      <th>ORG_ZIPCODE</th>\n",
       "      <th>PHR</th>\n",
       "      <th>PI_IDS</th>\n",
       "      <th>PI_NAMEs</th>\n",
       "      <th>PROGRAM_OFFICER_NAME</th>\n",
       "      <th>PROJECT_START</th>\n",
       "      <th>PROJECT_END</th>\n",
       "      <th>PROJECT_TERMS</th>\n",
       "      <th>PROJECT_TITLE</th>\n",
       "      <th>SERIAL_NUMBER</th>\n",
       "      <th>STUDY_SECTION</th>\n",
       "      <th>STUDY_SECTION_NAME</th>\n",
       "      <th>SUBPROJECT_ID</th>\n",
       "      <th>SUFFIX</th>\n",
       "      <th>SUPPORT_YEAR</th>\n",
       "      <th>DIRECT_COST_AMT</th>\n",
       "      <th>INDIRECT_COST_AMT</th>\n",
       "      <th>TOTAL_COST</th>\n",
       "      <th>TOTAL_COST_SUB_PROJECT</th>\n",
       "      <th>fromfile</th>\n",
       "      <th>Latitude</th>\n",
       "      <th>Longitude</th>\n",
       "    </tr>\n",
       "  </thead>\n",
       "  <tbody>\n",
       "    <tr>\n",
       "      <th>0</th>\n",
       "      <td>9870561</td>\n",
       "      <td>U01</td>\n",
       "      <td>AI</td>\n",
       "      <td>1.0</td>\n",
       "      <td>2020-01-24</td>\n",
       "      <td>2020-02-01</td>\n",
       "      <td>2021-01-31</td>\n",
       "      <td>U01AI148316</td>\n",
       "      <td>1U01AI148316-01</td>\n",
       "      <td>OD:388936\\</td>\n",
       "      <td>Non-SBIR/STTR RPGs</td>\n",
       "      <td>2020</td>\n",
       "      <td>NATIONAL INSTITUTE OF ALLERGY AND INFECTIOUS D...</td>\n",
       "      <td>NaN</td>\n",
       "      <td>OWINGS MILLS</td>\n",
       "      <td>UNITED STATES</td>\n",
       "      <td>NaN</td>\n",
       "      <td>3.0</td>\n",
       "      <td>ASELL, LLC</td>\n",
       "      <td>MD</td>\n",
       "      <td>21117</td>\n",
       "      <td>Project Narrative CellRADx is a handheld, rapi...</td>\n",
       "      <td>15861809;</td>\n",
       "      <td>KOWALSKI, RICHARD ;</td>\n",
       "      <td>VEDAMONY, MERRILINE M</td>\n",
       "      <td>2020-02-01</td>\n",
       "      <td>2025-01-31</td>\n",
       "      <td>Acute; Address; Algorithms; alpha-amylase; aut...</td>\n",
       "      <td>Research and Development of a Hand-held, Rapid...</td>\n",
       "      <td>148316.0</td>\n",
       "      <td>ZAI1</td>\n",
       "      <td>Special Emphasis Panel</td>\n",
       "      <td>NaN</td>\n",
       "      <td>NaN</td>\n",
       "      <td>1.0</td>\n",
       "      <td>310551.0</td>\n",
       "      <td>78385.0</td>\n",
       "      <td>388936.0</td>\n",
       "      <td>NaN</td>\n",
       "      <td>RePORTER_PRJ_C_FY2020_019.csv</td>\n",
       "      <td>39.419105</td>\n",
       "      <td>-76.783880</td>\n",
       "    </tr>\n",
       "    <tr>\n",
       "      <th>1</th>\n",
       "      <td>9856478</td>\n",
       "      <td>R00</td>\n",
       "      <td>HL</td>\n",
       "      <td>5.0</td>\n",
       "      <td>2020-01-08</td>\n",
       "      <td>2020-02-01</td>\n",
       "      <td>2021-01-31</td>\n",
       "      <td>R00HL125728</td>\n",
       "      <td>5R00HL125728-05</td>\n",
       "      <td>NHLBI:236097\\</td>\n",
       "      <td>Non-SBIR/STTR RPGs</td>\n",
       "      <td>2020</td>\n",
       "      <td>NATIONAL HEART, LUNG, AND BLOOD INSTITUTE</td>\n",
       "      <td>NaN</td>\n",
       "      <td>STONY BROOK</td>\n",
       "      <td>UNITED STATES</td>\n",
       "      <td>CHEMISTRY</td>\n",
       "      <td>1.0</td>\n",
       "      <td>STATE UNIVERSITY NEW YORK STONY BROOK</td>\n",
       "      <td>NY</td>\n",
       "      <td>11794</td>\n",
       "      <td>Idiopathic pulmonary fibrosis (IPF) is a progr...</td>\n",
       "      <td>12090673;</td>\n",
       "      <td>BOROS, ESZTER ;</td>\n",
       "      <td>KALANTARI, ROYA</td>\n",
       "      <td>2015-09-18</td>\n",
       "      <td>2021-01-31</td>\n",
       "      <td>Address; Animal Model; Antibodies; Antibody Th...</td>\n",
       "      <td>Development of Zr-89 based immunoPET agents fo...</td>\n",
       "      <td>125728.0</td>\n",
       "      <td>NSS</td>\n",
       "      <td>Special Emphasis Panel</td>\n",
       "      <td>NaN</td>\n",
       "      <td>NaN</td>\n",
       "      <td>5.0</td>\n",
       "      <td>149950.0</td>\n",
       "      <td>86147.0</td>\n",
       "      <td>236097.0</td>\n",
       "      <td>NaN</td>\n",
       "      <td>RePORTER_PRJ_C_FY2020_019.csv</td>\n",
       "      <td>40.922326</td>\n",
       "      <td>-72.637078</td>\n",
       "    </tr>\n",
       "    <tr>\n",
       "      <th>2</th>\n",
       "      <td>9912567</td>\n",
       "      <td>R01</td>\n",
       "      <td>CA</td>\n",
       "      <td>1.0</td>\n",
       "      <td>2020-01-22</td>\n",
       "      <td>2020-02-01</td>\n",
       "      <td>2021-01-31</td>\n",
       "      <td>R01CA240394</td>\n",
       "      <td>1R01CA240394-01A1</td>\n",
       "      <td>NCI:381231\\</td>\n",
       "      <td>Non-SBIR/STTR RPGs</td>\n",
       "      <td>2020</td>\n",
       "      <td>NATIONAL CANCER INSTITUTE</td>\n",
       "      <td>NaN</td>\n",
       "      <td>OAKLAND</td>\n",
       "      <td>UNITED STATES</td>\n",
       "      <td>NaN</td>\n",
       "      <td>13.0</td>\n",
       "      <td>KAISER FOUNDATION RESEARCH INSTITUTE</td>\n",
       "      <td>CA</td>\n",
       "      <td>94612</td>\n",
       "      <td>NARRATIVE Loss of muscle mass is common in can...</td>\n",
       "      <td>12179280;</td>\n",
       "      <td>FELICIANO, ELIZABETH MARJORIE CESPEDES;</td>\n",
       "      <td>RISCUTA, GABRIELA</td>\n",
       "      <td>2020-02-01</td>\n",
       "      <td>2024-01-31</td>\n",
       "      <td>Abdomen; Affect; Aging; Anatomy; Area; Biologi...</td>\n",
       "      <td>D3-creatine dilution to determine skeletal mus...</td>\n",
       "      <td>240394.0</td>\n",
       "      <td>PRDP</td>\n",
       "      <td>Psychosocial Risk and Disease Prevention Study...</td>\n",
       "      <td>NaN</td>\n",
       "      <td>A1</td>\n",
       "      <td>1.0</td>\n",
       "      <td>294026.0</td>\n",
       "      <td>87205.0</td>\n",
       "      <td>381231.0</td>\n",
       "      <td>NaN</td>\n",
       "      <td>RePORTER_PRJ_C_FY2020_019.csv</td>\n",
       "      <td>37.809427</td>\n",
       "      <td>-122.271720</td>\n",
       "    </tr>\n",
       "    <tr>\n",
       "      <th>3</th>\n",
       "      <td>9877763</td>\n",
       "      <td>R21</td>\n",
       "      <td>EY</td>\n",
       "      <td>1.0</td>\n",
       "      <td>2020-01-23</td>\n",
       "      <td>2020-02-01</td>\n",
       "      <td>2021-01-31</td>\n",
       "      <td>R21EY031092</td>\n",
       "      <td>1R21EY031092-01</td>\n",
       "      <td>NEI:216750\\</td>\n",
       "      <td>Non-SBIR/STTR RPGs</td>\n",
       "      <td>2020</td>\n",
       "      <td>NATIONAL EYE INSTITUTE</td>\n",
       "      <td>NaN</td>\n",
       "      <td>OXFORD</td>\n",
       "      <td>UNITED STATES</td>\n",
       "      <td>BIOLOGY</td>\n",
       "      <td>8.0</td>\n",
       "      <td>MIAMI UNIVERSITY OXFORD</td>\n",
       "      <td>OH</td>\n",
       "      <td>45056</td>\n",
       "      <td>The proposed research is relevant to public he...</td>\n",
       "      <td>6195250;</td>\n",
       "      <td>ROBINSON, MICHAEL L;</td>\n",
       "      <td>ARAJ, HOUMAM H</td>\n",
       "      <td>2020-02-01</td>\n",
       "      <td>2022-01-31</td>\n",
       "      <td>Adenovirus Vector; Affect; Apoptosis; Binding ...</td>\n",
       "      <td>Investigating the role of NKX6-1 in secondary ...</td>\n",
       "      <td>31092.0</td>\n",
       "      <td>BVS</td>\n",
       "      <td>Biology of the Visual System Study Section</td>\n",
       "      <td>NaN</td>\n",
       "      <td>NaN</td>\n",
       "      <td>1.0</td>\n",
       "      <td>150000.0</td>\n",
       "      <td>66750.0</td>\n",
       "      <td>216750.0</td>\n",
       "      <td>NaN</td>\n",
       "      <td>RePORTER_PRJ_C_FY2020_019.csv</td>\n",
       "      <td>39.498751</td>\n",
       "      <td>-84.740700</td>\n",
       "    </tr>\n",
       "    <tr>\n",
       "      <th>4</th>\n",
       "      <td>9873977</td>\n",
       "      <td>R44</td>\n",
       "      <td>GM</td>\n",
       "      <td>5.0</td>\n",
       "      <td>2020-01-29</td>\n",
       "      <td>2020-02-01</td>\n",
       "      <td>2021-01-31</td>\n",
       "      <td>R44GM121130</td>\n",
       "      <td>5R44GM121130-03</td>\n",
       "      <td>NIGMS:321321\\</td>\n",
       "      <td>SBIR-STTR RPGs</td>\n",
       "      <td>2020</td>\n",
       "      <td>NATIONAL INSTITUTE OF GENERAL MEDICAL SCIENCES</td>\n",
       "      <td>NaN</td>\n",
       "      <td>EVANSTON</td>\n",
       "      <td>UNITED STATES</td>\n",
       "      <td>NaN</td>\n",
       "      <td>9.0</td>\n",
       "      <td>INTEGRATED PROTEIN TECHNOLOGIES, INC.</td>\n",
       "      <td>IL</td>\n",
       "      <td>60201</td>\n",
       "      <td>Project Narrative: The proposed protein sample...</td>\n",
       "      <td>12516995;</td>\n",
       "      <td>COMPTON, PHILIP DANIEL;</td>\n",
       "      <td>KREPKIY, DMITRIY</td>\n",
       "      <td>2017-09-14</td>\n",
       "      <td>2021-01-31</td>\n",
       "      <td>Academia; Address; Adopted; Agriculture; Antib...</td>\n",
       "      <td>SampleStream: A Radically Simplified Platform ...</td>\n",
       "      <td>121130.0</td>\n",
       "      <td>ZRG1</td>\n",
       "      <td>Special Emphasis Panel</td>\n",
       "      <td>NaN</td>\n",
       "      <td>NaN</td>\n",
       "      <td>3.0</td>\n",
       "      <td>NaN</td>\n",
       "      <td>NaN</td>\n",
       "      <td>321321.0</td>\n",
       "      <td>NaN</td>\n",
       "      <td>RePORTER_PRJ_C_FY2020_019.csv</td>\n",
       "      <td>42.056391</td>\n",
       "      <td>-87.696840</td>\n",
       "    </tr>\n",
       "  </tbody>\n",
       "</table>\n",
       "</div>"
      ],
      "text/plain": [
       "   APPLICATION_ID ACTIVITY ADMINISTERING_IC  APPLICATION_TYPE  \\\n",
       "0         9870561      U01               AI               1.0   \n",
       "1         9856478      R00               HL               5.0   \n",
       "2         9912567      R01               CA               1.0   \n",
       "3         9877763      R21               EY               1.0   \n",
       "4         9873977      R44               GM               5.0   \n",
       "\n",
       "  AWARD_NOTICE_DATE BUDGET_START BUDGET_END CORE_PROJECT_NUM  \\\n",
       "0        2020-01-24   2020-02-01 2021-01-31      U01AI148316   \n",
       "1        2020-01-08   2020-02-01 2021-01-31      R00HL125728   \n",
       "2        2020-01-22   2020-02-01 2021-01-31      R01CA240394   \n",
       "3        2020-01-23   2020-02-01 2021-01-31      R21EY031092   \n",
       "4        2020-01-29   2020-02-01 2021-01-31      R44GM121130   \n",
       "\n",
       "    FULL_PROJECT_NUM    FUNDING_ICs   FUNDING_MECHANISM    FY  \\\n",
       "0    1U01AI148316-01     OD:388936\\  Non-SBIR/STTR RPGs  2020   \n",
       "1    5R00HL125728-05  NHLBI:236097\\  Non-SBIR/STTR RPGs  2020   \n",
       "2  1R01CA240394-01A1    NCI:381231\\  Non-SBIR/STTR RPGs  2020   \n",
       "3    1R21EY031092-01    NEI:216750\\  Non-SBIR/STTR RPGs  2020   \n",
       "4    5R44GM121130-03  NIGMS:321321\\      SBIR-STTR RPGs  2020   \n",
       "\n",
       "                                             IC_NAME NIH_SPENDING_CATS  \\\n",
       "0  NATIONAL INSTITUTE OF ALLERGY AND INFECTIOUS D...               NaN   \n",
       "1          NATIONAL HEART, LUNG, AND BLOOD INSTITUTE               NaN   \n",
       "2                          NATIONAL CANCER INSTITUTE               NaN   \n",
       "3                             NATIONAL EYE INSTITUTE               NaN   \n",
       "4     NATIONAL INSTITUTE OF GENERAL MEDICAL SCIENCES               NaN   \n",
       "\n",
       "       ORG_CITY    ORG_COUNTRY   ORG_DEPT  ORG_DISTRICT  \\\n",
       "0  OWINGS MILLS  UNITED STATES        NaN           3.0   \n",
       "1   STONY BROOK  UNITED STATES  CHEMISTRY           1.0   \n",
       "2       OAKLAND  UNITED STATES        NaN          13.0   \n",
       "3        OXFORD  UNITED STATES    BIOLOGY           8.0   \n",
       "4      EVANSTON  UNITED STATES        NaN           9.0   \n",
       "\n",
       "                                ORG_NAME ORG_STATE ORG_ZIPCODE  \\\n",
       "0                             ASELL, LLC        MD       21117   \n",
       "1  STATE UNIVERSITY NEW YORK STONY BROOK        NY       11794   \n",
       "2   KAISER FOUNDATION RESEARCH INSTITUTE        CA       94612   \n",
       "3                MIAMI UNIVERSITY OXFORD        OH       45056   \n",
       "4  INTEGRATED PROTEIN TECHNOLOGIES, INC.        IL       60201   \n",
       "\n",
       "                                                 PHR      PI_IDS  \\\n",
       "0  Project Narrative CellRADx is a handheld, rapi...  15861809;    \n",
       "1  Idiopathic pulmonary fibrosis (IPF) is a progr...  12090673;    \n",
       "2  NARRATIVE Loss of muscle mass is common in can...  12179280;    \n",
       "3  The proposed research is relevant to public he...   6195250;    \n",
       "4  Project Narrative: The proposed protein sample...  12516995;    \n",
       "\n",
       "                                  PI_NAMEs   PROGRAM_OFFICER_NAME  \\\n",
       "0                      KOWALSKI, RICHARD ;  VEDAMONY, MERRILINE M   \n",
       "1                          BOROS, ESZTER ;        KALANTARI, ROYA   \n",
       "2  FELICIANO, ELIZABETH MARJORIE CESPEDES;      RISCUTA, GABRIELA   \n",
       "3                     ROBINSON, MICHAEL L;         ARAJ, HOUMAM H   \n",
       "4                  COMPTON, PHILIP DANIEL;       KREPKIY, DMITRIY   \n",
       "\n",
       "  PROJECT_START PROJECT_END  \\\n",
       "0    2020-02-01  2025-01-31   \n",
       "1    2015-09-18  2021-01-31   \n",
       "2    2020-02-01  2024-01-31   \n",
       "3    2020-02-01  2022-01-31   \n",
       "4    2017-09-14  2021-01-31   \n",
       "\n",
       "                                       PROJECT_TERMS  \\\n",
       "0  Acute; Address; Algorithms; alpha-amylase; aut...   \n",
       "1  Address; Animal Model; Antibodies; Antibody Th...   \n",
       "2  Abdomen; Affect; Aging; Anatomy; Area; Biologi...   \n",
       "3  Adenovirus Vector; Affect; Apoptosis; Binding ...   \n",
       "4  Academia; Address; Adopted; Agriculture; Antib...   \n",
       "\n",
       "                                       PROJECT_TITLE  SERIAL_NUMBER  \\\n",
       "0  Research and Development of a Hand-held, Rapid...       148316.0   \n",
       "1  Development of Zr-89 based immunoPET agents fo...       125728.0   \n",
       "2  D3-creatine dilution to determine skeletal mus...       240394.0   \n",
       "3  Investigating the role of NKX6-1 in secondary ...        31092.0   \n",
       "4  SampleStream: A Radically Simplified Platform ...       121130.0   \n",
       "\n",
       "  STUDY_SECTION                                 STUDY_SECTION_NAME  \\\n",
       "0          ZAI1                            Special Emphasis Panel    \n",
       "1           NSS                            Special Emphasis Panel    \n",
       "2          PRDP  Psychosocial Risk and Disease Prevention Study...   \n",
       "3           BVS        Biology of the Visual System Study Section    \n",
       "4          ZRG1                            Special Emphasis Panel    \n",
       "\n",
       "   SUBPROJECT_ID SUFFIX  SUPPORT_YEAR  DIRECT_COST_AMT  INDIRECT_COST_AMT  \\\n",
       "0            NaN    NaN           1.0         310551.0            78385.0   \n",
       "1            NaN    NaN           5.0         149950.0            86147.0   \n",
       "2            NaN     A1           1.0         294026.0            87205.0   \n",
       "3            NaN    NaN           1.0         150000.0            66750.0   \n",
       "4            NaN    NaN           3.0              NaN                NaN   \n",
       "\n",
       "   TOTAL_COST  TOTAL_COST_SUB_PROJECT                       fromfile  \\\n",
       "0    388936.0                     NaN  RePORTER_PRJ_C_FY2020_019.csv   \n",
       "1    236097.0                     NaN  RePORTER_PRJ_C_FY2020_019.csv   \n",
       "2    381231.0                     NaN  RePORTER_PRJ_C_FY2020_019.csv   \n",
       "3    216750.0                     NaN  RePORTER_PRJ_C_FY2020_019.csv   \n",
       "4    321321.0                     NaN  RePORTER_PRJ_C_FY2020_019.csv   \n",
       "\n",
       "    Latitude   Longitude  \n",
       "0  39.419105  -76.783880  \n",
       "1  40.922326  -72.637078  \n",
       "2  37.809427 -122.271720  \n",
       "3  39.498751  -84.740700  \n",
       "4  42.056391  -87.696840  "
      ]
     },
     "execution_count": 49,
     "metadata": {},
     "output_type": "execute_result"
    }
   ],
   "source": [
    "df_us.head()"
   ]
  },
  {
   "cell_type": "code",
   "execution_count": 50,
   "metadata": {},
   "outputs": [
    {
     "data": {
      "text/plain": [
       "'./out/csv/post_processed_2020-05-14T15:17:56+00:00.csv.gzip'"
      ]
     },
     "execution_count": 50,
     "metadata": {},
     "output_type": "execute_result"
    }
   ],
   "source": [
    "OUT"
   ]
  },
  {
   "cell_type": "markdown",
   "metadata": {},
   "source": [
    "### Create a dtype dictionary for read_csv\n",
    "\n",
    "Issue: Pandas gives warning: `DtypeWarning: Columns (13) have mixed types.Specify dtype option on import`. Pandas is trying to infer too many dtypes and running out of memory. \n",
    "\n",
    "[Solution on stackoverflow]() is to create a dataframe from the `dtypes` property and then change the type with `astype` to str (e.g., `dtype('int64') -> 'int64'`)"
   ]
  },
  {
   "cell_type": "code",
   "execution_count": 51,
   "metadata": {},
   "outputs": [],
   "source": [
    "all_cols = set(df_us.columns)"
   ]
  },
  {
   "cell_type": "code",
   "execution_count": 52,
   "metadata": {},
   "outputs": [],
   "source": [
    "dates = set([\"AWARD_NOTICE_DATE\",\"BUDGET_START\",\"BUDGET_END\", \"PROJECT_START\", \"PROJECT_END\"])"
   ]
  },
  {
   "cell_type": "code",
   "execution_count": 53,
   "metadata": {},
   "outputs": [],
   "source": [
    "cols = list(all_cols - dates)"
   ]
  },
  {
   "cell_type": "code",
   "execution_count": 54,
   "metadata": {},
   "outputs": [
    {
     "data": {
      "text/plain": [
       "{'fromfile': 'object',\n",
       " 'TOTAL_COST_SUB_PROJECT': 'float64',\n",
       " 'Latitude': 'float64',\n",
       " 'ORG_CITY': 'object',\n",
       " 'DIRECT_COST_AMT': 'float64',\n",
       " 'APPLICATION_TYPE': 'float64',\n",
       " 'ACTIVITY': 'object',\n",
       " 'PROGRAM_OFFICER_NAME': 'object',\n",
       " 'ORG_DISTRICT': 'float64',\n",
       " 'SUFFIX': 'object',\n",
       " 'PROJECT_TERMS': 'string',\n",
       " 'ORG_NAME': 'object',\n",
       " 'ADMINISTERING_IC': 'object',\n",
       " 'PHR': 'object',\n",
       " 'SUPPORT_YEAR': 'float64',\n",
       " 'IC_NAME': 'object',\n",
       " 'APPLICATION_ID': 'int64',\n",
       " 'Longitude': 'float64',\n",
       " 'STUDY_SECTION': 'object',\n",
       " 'PI_NAMEs': 'string',\n",
       " 'NIH_SPENDING_CATS': 'object',\n",
       " 'PI_IDS': 'object',\n",
       " 'SUBPROJECT_ID': 'float64',\n",
       " 'SERIAL_NUMBER': 'float64',\n",
       " 'FY': 'int64',\n",
       " 'TOTAL_COST': 'float64',\n",
       " 'PROJECT_TITLE': 'object',\n",
       " 'FUNDING_MECHANISM': 'object',\n",
       " 'ORG_STATE': 'object',\n",
       " 'FULL_PROJECT_NUM': 'object',\n",
       " 'CORE_PROJECT_NUM': 'object',\n",
       " 'FUNDING_ICs': 'object',\n",
       " 'INDIRECT_COST_AMT': 'float64',\n",
       " 'ORG_COUNTRY': 'object',\n",
       " 'ORG_DEPT': 'object',\n",
       " 'STUDY_SECTION_NAME': 'object',\n",
       " 'ORG_ZIPCODE': 'object'}"
      ]
     },
     "execution_count": 54,
     "metadata": {},
     "output_type": "execute_result"
    }
   ],
   "source": [
    "df_us.loc[:, cols].dtypes.apply(lambda x: x.name).to_dict()"
   ]
  },
  {
   "cell_type": "code",
   "execution_count": null,
   "metadata": {},
   "outputs": [],
   "source": []
  }
 ],
 "metadata": {
  "kernelspec": {
   "display_name": "Python 3",
   "language": "python",
   "name": "python3"
  },
  "language_info": {
   "codemirror_mode": {
    "name": "ipython",
    "version": 3
   },
   "file_extension": ".py",
   "mimetype": "text/x-python",
   "name": "python",
   "nbconvert_exporter": "python",
   "pygments_lexer": "ipython3",
   "version": "3.7.6"
  },
  "nteract": {
   "version": "nteract-on-jupyter@2.1.3"
  }
 },
 "nbformat": 4,
 "nbformat_minor": 4
}
